{
 "cells": [
  {
   "cell_type": "code",
   "execution_count": 1,
   "id": "1e520362-af32-48d5-94ec-d41cd0019a45",
   "metadata": {},
   "outputs": [
    {
     "name": "stdout",
     "output_type": "stream",
     "text": [
      "Requirement already satisfied: einops in /opt/conda/lib/python3.11/site-packages (0.8.1)\n"
     ]
    }
   ],
   "source": [
    "!pip install einops\n",
    "%load_ext autoreload\n",
    "%autoreload 2\n",
    "\n",
    "import seaborn as sns\n",
    "from dataclasses import dataclass\n",
    "import matplotlib.pyplot as plt\n",
    "\n",
    "import datautils\n",
    "from utils import init_dl_program\n",
    "from utils import find_closest_train_segment\n",
    "from hdst import HDST\n",
    "import torch\n",
    "import gc\n",
    "import numpy as np"
   ]
  },
  {
   "cell_type": "markdown",
   "id": "a1f05ed6-5654-439d-b90c-f536b47e49b0",
   "metadata": {},
   "source": [
    "## Create Args Configuration Class"
   ]
  },
  {
   "cell_type": "code",
   "execution_count": 2,
   "id": "af8d59d2-5f8f-4473-a0d7-eddf3b4943f8",
   "metadata": {},
   "outputs": [],
   "source": [
    "@dataclass\n",
    "class Args:\n",
    "    task_weights: dict\n",
    "    dataset: str = \"\"\n",
    "    loader: str = \"\"\n",
    "    gpu: int = 0\n",
    "    static_repr_dims: int = 128\n",
    "    dynamic_repr_dims: int = 128\n",
    "    epochs: int = 200\n",
    "\n",
    "    run_name: str = \"\"\n",
    "    batch_size: int = 16\n",
    "    lr: float = 0.001\n",
    "    max_train_length = 800\n",
    "    iters: int = None\n",
    "    save_every = None\n",
    "    seed: int = 1234\n",
    "    max_threads = None\n",
    "    eval: bool = True\n",
    "    irregular = 0\n",
    "\n",
    "    sample_size: int = 50\n",
    "    window_size: int = 20"
   ]
  },
  {
   "cell_type": "markdown",
   "id": "a1bc736c-ca43-4a45-b7b8-d5297b6d74ca",
   "metadata": {},
   "source": [
    "## Instantiate Args Configuration Class\n",
    "Create an instance of arguments, specifying the necessary arguments and those important to your use case."
   ]
  },
  {
   "cell_type": "code",
   "execution_count": 3,
   "id": "51964981-9e2a-4dfa-bbc8-badb1e2ec44c",
   "metadata": {},
   "outputs": [],
   "source": [
    "args = Args(\n",
    "    static_repr_dims=128,\n",
    "    dynamic_repr_dims=128,\n",
    "    task_weights={\n",
    "        'local_static_contrast': 0.33,\n",
    "        'global_vatiant_contrast': 0.33,\n",
    "        'dynamic_trend_pred': 0.34,\n",
    "    },\n",
    "    eval=False,\n",
    "    batch_size=32,\n",
    ")\n",
    "\n",
    "device = init_dl_program(args.gpu, seed=args.seed, max_threads=args.max_threads)"
   ]
  },
  {
   "cell_type": "markdown",
   "id": "ef2757d0-70eb-4625-b386-cf7d380fd4cd",
   "metadata": {},
   "source": [
    "## Load your data\n",
    "You can use any data, as long as it is an `np.ndarray` of shape $(N, T, C)$ where $N$ is the number of time-series instances, $T$ the number of timesteps per instance, and $C$ the number of channels.\n",
    "Choosing from 'ETTh1', 'ETTh2', 'ETTm1' and 'ETTm2'"
   ]
  },
  {
   "cell_type": "code",
   "execution_count": 4,
   "id": "dc8966d2-184d-4ae8-a81a-caa095e78025",
   "metadata": {},
   "outputs": [
    {
     "name": "stdout",
     "output_type": "stream",
     "text": [
      "Shapes - train data: (1, 8640, 7), test data: (1, 2880, 7)\n",
      "[24, 48, 168, 336, 720]\n"
     ]
    }
   ],
   "source": [
    "data, train_slice, valid_slice, test_slice, scaler, pred_lens = datautils.load_forecast_csv(\"ETTh1\")\n",
    "train_data = data[:, train_slice]\n",
    "test_data = data[:, test_slice]\n",
    "print(f\"Shapes - train data: {train_data.shape}, test data: {test_data.shape}\")\n",
    "print(pred_lens)"
   ]
  },
  {
   "cell_type": "markdown",
   "id": "cc89e316-5120-4e3d-919e-83ab4b27a4dc",
   "metadata": {},
   "source": [
    "## Create and Train the model"
   ]
  },
  {
   "cell_type": "code",
   "execution_count": 5,
   "id": "3e0a080c-c734-4bb7-a33b-13e33253b61a",
   "metadata": {},
   "outputs": [
    {
     "data": {
      "text/plain": [
       "0"
      ]
     },
     "execution_count": 5,
     "metadata": {},
     "output_type": "execute_result"
    }
   ],
   "source": [
    "sns.set_theme()\n",
    "torch.cuda.empty_cache()\n",
    "gc.collect()"
   ]
  },
  {
   "cell_type": "code",
   "execution_count": 6,
   "id": "0ce8c7e4-9a28-40fc-99b7-abc2abc9608f",
   "metadata": {},
   "outputs": [
    {
     "name": "stdout",
     "output_type": "stream",
     "text": [
      "Training data shape: (10, 864, 7)\n",
      "Epoch #0: loss=2.395591974258423\n",
      "Epoch #1: loss=2.293823480606079\n",
      "Epoch #2: loss=2.2216434478759766\n",
      "Epoch #3: loss=2.1417806148529053\n",
      "Epoch #4: loss=2.124080181121826\n",
      "Epoch #5: loss=2.1215476989746094\n",
      "Epoch #6: loss=2.1077282428741455\n",
      "Epoch #7: loss=2.107663869857788\n",
      "Epoch #8: loss=2.1015143394470215\n",
      "Epoch #9: loss=2.071054697036743\n",
      "Epoch #10: loss=2.0585134029388428\n",
      "Epoch #11: loss=2.046314001083374\n",
      "Epoch #12: loss=2.018841505050659\n",
      "Epoch #13: loss=2.0213470458984375\n",
      "Epoch #14: loss=1.9854973554611206\n",
      "Epoch #15: loss=1.9649920463562012\n",
      "Epoch #16: loss=1.977297067642212\n",
      "Epoch #17: loss=1.9529635906219482\n",
      "Epoch #18: loss=1.9384557008743286\n",
      "Epoch #19: loss=1.9147546291351318\n",
      "Epoch #20: loss=1.9098819494247437\n",
      "Epoch #21: loss=1.9351961612701416\n",
      "Epoch #22: loss=1.9099634885787964\n",
      "Epoch #23: loss=1.9071482419967651\n",
      "Epoch #24: loss=1.8988697528839111\n",
      "Epoch #25: loss=1.9001847505569458\n",
      "Epoch #26: loss=1.8765627145767212\n",
      "Epoch #27: loss=1.8730882406234741\n",
      "Epoch #28: loss=1.8796406984329224\n",
      "Epoch #29: loss=1.8727071285247803\n",
      "Epoch #30: loss=1.8652615547180176\n",
      "Epoch #31: loss=1.87128484249115\n",
      "Epoch #32: loss=1.858368158340454\n",
      "Epoch #33: loss=1.8420301675796509\n",
      "Epoch #34: loss=1.8417530059814453\n",
      "Epoch #35: loss=1.8529465198516846\n",
      "Epoch #36: loss=1.8391478061676025\n",
      "Epoch #37: loss=1.8317919969558716\n",
      "Epoch #38: loss=1.8363560438156128\n",
      "Epoch #39: loss=1.8198930025100708\n",
      "Epoch #40: loss=1.8279011249542236\n",
      "Epoch #41: loss=1.8316792249679565\n",
      "Epoch #42: loss=1.827099323272705\n",
      "Epoch #43: loss=1.8178271055221558\n",
      "Epoch #44: loss=1.8152275085449219\n",
      "Epoch #45: loss=1.8082913160324097\n",
      "Epoch #46: loss=1.8104474544525146\n",
      "Epoch #47: loss=1.7880362272262573\n",
      "Epoch #48: loss=1.8095979690551758\n",
      "Epoch #49: loss=1.8063020706176758\n",
      "Epoch #50: loss=1.8020644187927246\n",
      "Epoch #51: loss=1.7975952625274658\n",
      "Epoch #52: loss=1.7971616983413696\n",
      "Epoch #53: loss=1.7953472137451172\n",
      "Epoch #54: loss=1.7938215732574463\n",
      "Epoch #55: loss=1.7958095073699951\n",
      "Epoch #56: loss=1.7942733764648438\n",
      "Epoch #57: loss=1.8055613040924072\n",
      "Epoch #58: loss=1.8060259819030762\n",
      "Epoch #59: loss=1.7867908477783203\n",
      "Epoch #60: loss=1.7791564464569092\n",
      "Epoch #61: loss=1.7769768238067627\n",
      "Epoch #62: loss=1.7816327810287476\n",
      "Epoch #63: loss=1.7875559329986572\n",
      "Epoch #64: loss=1.7805700302124023\n",
      "Epoch #65: loss=1.778745412826538\n",
      "Epoch #66: loss=1.7750393152236938\n",
      "Epoch #67: loss=1.7851279973983765\n",
      "Epoch #68: loss=1.7840070724487305\n",
      "Epoch #69: loss=1.7798482179641724\n",
      "Epoch #70: loss=1.7704066038131714\n",
      "Epoch #71: loss=1.7658659219741821\n",
      "Epoch #72: loss=1.7608578205108643\n",
      "Epoch #73: loss=1.7671595811843872\n",
      "Epoch #74: loss=1.7563841342926025\n",
      "Epoch #75: loss=1.7648447751998901\n",
      "Epoch #76: loss=1.7795754671096802\n",
      "Epoch #77: loss=1.7723987102508545\n",
      "Epoch #78: loss=1.75941002368927\n",
      "Epoch #79: loss=1.7730960845947266\n",
      "Epoch #80: loss=1.7482019662857056\n",
      "Epoch #81: loss=1.7907707691192627\n",
      "Epoch #82: loss=1.7489879131317139\n",
      "Epoch #83: loss=1.774672508239746\n",
      "Epoch #84: loss=1.773929476737976\n",
      "Epoch #85: loss=1.7567123174667358\n",
      "Epoch #86: loss=1.742012858390808\n",
      "Epoch #87: loss=1.7456471920013428\n",
      "Epoch #88: loss=1.747818112373352\n",
      "Epoch #89: loss=1.7490532398223877\n",
      "Epoch #90: loss=1.7344536781311035\n",
      "Epoch #91: loss=1.7622863054275513\n",
      "Epoch #92: loss=1.7400015592575073\n",
      "Epoch #93: loss=1.7392125129699707\n",
      "Epoch #94: loss=1.7249436378479004\n",
      "Epoch #95: loss=1.7216670513153076\n",
      "Epoch #96: loss=1.7384754419326782\n",
      "Epoch #97: loss=1.7375311851501465\n",
      "Epoch #98: loss=1.7347593307495117\n",
      "Epoch #99: loss=1.7348891496658325\n",
      "Epoch #100: loss=1.7164764404296875\n",
      "Epoch #101: loss=1.7296266555786133\n",
      "Epoch #102: loss=1.7220468521118164\n",
      "Epoch #103: loss=1.7192113399505615\n",
      "Epoch #104: loss=1.7392209768295288\n",
      "Epoch #105: loss=1.7026408910751343\n",
      "Epoch #106: loss=1.7134774923324585\n",
      "Epoch #107: loss=1.6967401504516602\n",
      "Epoch #108: loss=1.7208198308944702\n",
      "Epoch #109: loss=1.709486484527588\n",
      "Epoch #110: loss=1.7068272829055786\n",
      "Epoch #111: loss=1.7282357215881348\n",
      "Epoch #112: loss=1.699804425239563\n",
      "Epoch #113: loss=1.7248286008834839\n",
      "Epoch #114: loss=1.70610773563385\n",
      "Epoch #115: loss=1.6993849277496338\n",
      "Epoch #116: loss=1.7050056457519531\n",
      "Epoch #117: loss=1.6958822011947632\n",
      "Epoch #118: loss=1.7006334066390991\n",
      "Epoch #119: loss=1.7192472219467163\n",
      "Epoch #120: loss=1.7083818912506104\n",
      "Epoch #121: loss=1.6958070993423462\n",
      "Epoch #122: loss=1.70650053024292\n",
      "Epoch #123: loss=1.7157585620880127\n",
      "Epoch #124: loss=1.6939955949783325\n",
      "Epoch #125: loss=1.6943739652633667\n",
      "Epoch #126: loss=1.7028241157531738\n",
      "Epoch #127: loss=1.699610948562622\n",
      "Epoch #128: loss=1.7088431119918823\n",
      "Epoch #129: loss=1.701101541519165\n",
      "Epoch #130: loss=1.6881814002990723\n",
      "Epoch #131: loss=1.688259243965149\n",
      "Epoch #132: loss=1.7079620361328125\n",
      "Epoch #133: loss=1.6760380268096924\n",
      "Epoch #134: loss=1.6835668087005615\n",
      "Epoch #135: loss=1.6958532333374023\n",
      "Epoch #136: loss=1.6887670755386353\n",
      "Epoch #137: loss=1.6776123046875\n",
      "Epoch #138: loss=1.6944642066955566\n",
      "Epoch #139: loss=1.6898350715637207\n",
      "Epoch #140: loss=1.6935703754425049\n",
      "Epoch #141: loss=1.6917170286178589\n",
      "Epoch #142: loss=1.6860100030899048\n",
      "Epoch #143: loss=1.674177885055542\n",
      "Epoch #144: loss=1.6787117719650269\n",
      "Epoch #145: loss=1.6868988275527954\n",
      "Epoch #146: loss=1.6860910654067993\n",
      "Epoch #147: loss=1.668836236000061\n",
      "Epoch #148: loss=1.674694299697876\n",
      "Epoch #149: loss=1.6787109375\n",
      "Epoch #150: loss=1.6918495893478394\n",
      "Epoch #151: loss=1.6828268766403198\n",
      "Epoch #152: loss=1.6779741048812866\n",
      "Epoch #153: loss=1.6646227836608887\n",
      "Epoch #154: loss=1.6659190654754639\n",
      "Epoch #155: loss=1.6602860689163208\n",
      "Epoch #156: loss=1.67031991481781\n",
      "Epoch #157: loss=1.6639575958251953\n",
      "Epoch #158: loss=1.653367280960083\n",
      "Epoch #159: loss=1.6790896654129028\n",
      "Epoch #160: loss=1.6681578159332275\n",
      "Epoch #161: loss=1.6528311967849731\n",
      "Epoch #162: loss=1.6685492992401123\n",
      "Epoch #163: loss=1.6506141424179077\n",
      "Epoch #164: loss=1.6588915586471558\n",
      "Epoch #165: loss=1.669495940208435\n",
      "Epoch #166: loss=1.6613705158233643\n",
      "Epoch #167: loss=1.6450846195220947\n",
      "Epoch #168: loss=1.6519556045532227\n",
      "Epoch #169: loss=1.670020580291748\n",
      "Epoch #170: loss=1.6704213619232178\n",
      "Epoch #171: loss=1.661940097808838\n",
      "Epoch #172: loss=1.652419924736023\n",
      "Epoch #173: loss=1.6600418090820312\n",
      "Epoch #174: loss=1.6594481468200684\n",
      "Epoch #175: loss=1.6475682258605957\n",
      "Epoch #176: loss=1.6669999361038208\n",
      "Epoch #177: loss=1.6528240442276\n",
      "Epoch #178: loss=1.6556094884872437\n",
      "Epoch #179: loss=1.6475372314453125\n",
      "Epoch #180: loss=1.659432053565979\n",
      "Epoch #181: loss=1.659801721572876\n",
      "Epoch #182: loss=1.6846339702606201\n",
      "Epoch #183: loss=1.6589813232421875\n",
      "Epoch #184: loss=1.6477735042572021\n",
      "Epoch #185: loss=1.655065655708313\n",
      "Epoch #186: loss=1.6488977670669556\n",
      "Epoch #187: loss=1.6340153217315674\n",
      "Epoch #188: loss=1.6584923267364502\n",
      "Epoch #189: loss=1.652557373046875\n",
      "Epoch #190: loss=1.6538575887680054\n",
      "Epoch #191: loss=1.6610372066497803\n",
      "Epoch #192: loss=1.645501971244812\n",
      "Epoch #193: loss=1.656221628189087\n",
      "Epoch #194: loss=1.6528395414352417\n",
      "Epoch #195: loss=1.6360366344451904\n",
      "Epoch #196: loss=1.6464146375656128\n",
      "Epoch #197: loss=1.649436593055725\n",
      "Epoch #198: loss=1.644834280014038\n",
      "Epoch #199: loss=1.6499807834625244\n",
      "Model training time: 3727.85 seconds\n"
     ]
    }
   ],
   "source": [
    "import time\n",
    "start_time = time.time()\n",
    "model = HDST(\n",
    "    input_dims=train_data.shape[-1],\n",
    "    device=device,\n",
    "    task_weights=args.task_weights,\n",
    "    batch_size=args.batch_size,\n",
    "    lr=args.lr,\n",
    "    output_dims1=args.static_repr_dims,\n",
    "    output_dims2=args.dynamic_repr_dims,\n",
    "    max_train_length=args.max_train_length\n",
    ")\n",
    "\n",
    "loss_log = model.fit(\n",
    "    train_data,\n",
    "    n_epochs=args.epochs,\n",
    "    n_iters=args.iters,\n",
    "    k=args.sample_size,\n",
    "    w=args.window_size\n",
    ")\n",
    "end_time = time.time()\n",
    "training_time = end_time - start_time\n",
    "print(f\"Model training time: {training_time:.2f} seconds\")"
   ]
  },
  {
   "cell_type": "markdown",
   "id": "b2801942-d5d0-47a1-9f33-f82006f12425",
   "metadata": {},
   "source": [
    "Save model and loss log"
   ]
  },
  {
   "cell_type": "code",
   "execution_count": 7,
   "id": "3ee8e10d-aead-4107-ab00-6b34690ca303",
   "metadata": {},
   "outputs": [],
   "source": [
    "import torch\n",
    "torch.save(model, 'mymodel_ETTh1.pth')\n",
    "import pandas as pd\n",
    "df = pd.DataFrame({\"epoch\": list(range(1, len(loss_log) + 1)), \"loss\": loss_log})\n",
    "df.to_csv(\"loss_log_ETTh1.csv\", index=False)"
   ]
  },
  {
   "cell_type": "markdown",
   "id": "2b646a4b-0291-49df-a19b-aa40b4549e5d",
   "metadata": {},
   "source": [
    "Visualize the loss curve and save figure"
   ]
  },
  {
   "cell_type": "code",
   "execution_count": 8,
   "id": "5a97b47a-04d8-45e0-969e-f74ac670576d",
   "metadata": {},
   "outputs": [
    {
     "data": {
      "image/png": "[encoded data removed]",
      "text/plain": [
       "<Figure size 640x480 with 1 Axes>"
      ]
     },
     "metadata": {},
     "output_type": "display_data"
    }
   ],
   "source": [
    "import matplotlib.pyplot as plt\n",
    "# print(loss_log)\n",
    "plt.plot(loss_log, label=\"Loss\")\n",
    "plt.xlabel(\"Epoch\")\n",
    "plt.ylabel(\"Loss\")\n",
    "plt.title(\"Training Loss Curve\")\n",
    "plt.legend()\n",
    "plt.grid(True)\n",
    "plt.savefig(\"loss_curve.png\")\n",
    "plt.show()"
   ]
  },
  {
   "cell_type": "markdown",
   "id": "6bc062a5-48c4-4671-b78d-0dc8d4420c77",
   "metadata": {},
   "source": [
    "## Test the model\n",
    "Firstly, get the representation of training data and test data using `model.encode`. Then train a Ridge regression model using training representation and corresponding training labels. Finally, use the Ridge regression model to do forecasting for test representation. Report the MSE and MAE."
   ]
  },
  {
   "cell_type": "code",
   "execution_count": 9,
   "id": "22bba3a8-aa7a-4566-8a39-01abb8bbd31a",
   "metadata": {},
   "outputs": [
    {
     "name": "stdout",
     "output_type": "stream",
     "text": [
      "24: {'norm': {'MSE': 0.583145070590193, 'MAE': 0.5702249976742728}, 'raw': {'MSE': 11.729017960121599, 'MAE': 2.163008691554838}}\n",
      "48: {'norm': {'MSE': 0.6494941411947999, 'MAE': 0.6149723410373543}, 'raw': {'MSE': 15.069239466454421, 'MAE': 2.464701373874785}}\n",
      "168: {'norm': {'MSE': 0.8652692124106338, 'MAE': 0.7370280472224436}, 'raw': {'MSE': 21.90929052909801, 'MAE': 3.0679172023110866}}\n",
      "336: {'norm': {'MSE': 1.0079265039337977, 'MAE': 0.8089933671724573}, 'raw': {'MSE': 22.964787683428302, 'MAE': 3.2491480596605005}}\n",
      "720: {'norm': {'MSE': 1.113553268272167, 'MAE': 0.8686633007614345}, 'raw': {'MSE': 24.662533701194498, 'MAE': 3.4477007805336073}}\n"
     ]
    }
   ],
   "source": [
    "from tasks.forecasting import eval_forecasting\n",
    "out, eval_res = eval_forecasting(\n",
    "                model,\n",
    "                data,\n",
    "                train_slice,\n",
    "                valid_slice,\n",
    "                test_slice,\n",
    "                scaler,\n",
    "                pred_lens\n",
    "            )\n",
    "res=eval_res['ours']\n",
    "for key, value in res.items():\n",
    "    print(f\"{key}: {value}\")\n"
   ]
  },
  {
   "cell_type": "code",
   "execution_count": null,
   "id": "0ee917a4-88b5-4147-bdc5-fcd0225d7d7a",
   "metadata": {},
   "outputs": [],
   "source": []
  }
 ],
 "metadata": {
  "kernelspec": {
   "display_name": "Python 3 (ipykernel)",
   "language": "python",
   "name": "python3"
  },
  "language_info": {
   "codemirror_mode": {
    "name": "ipython",
    "version": 3
   },
   "file_extension": ".py",
   "mimetype": "text/x-python",
   "name": "python",
   "nbconvert_exporter": "python",
   "pygments_lexer": "ipython3",
   "version": "3.11.11"
  }
 },
 "nbformat": 4,
 "nbformat_minor": 5
}
