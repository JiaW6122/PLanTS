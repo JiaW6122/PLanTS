{
 "cells": [
  {
   "cell_type": "code",
   "execution_count": 11,
   "id": "1e520362-af32-48d5-94ec-d41cd0019a45",
   "metadata": {},
   "outputs": [
    {
     "name": "stdout",
     "output_type": "stream",
     "text": [
      "Requirement already satisfied: einops in /opt/conda/lib/python3.11/site-packages (0.8.1)\n",
      "The autoreload extension is already loaded. To reload it, use:\n",
      "  %reload_ext autoreload\n"
     ]
    }
   ],
   "source": [
    "!pip install einops\n",
    "%load_ext autoreload\n",
    "%autoreload 2\n",
    "\n",
    "import seaborn as sns\n",
    "from dataclasses import dataclass\n",
    "import matplotlib.pyplot as plt\n",
    "\n",
    "import datautils\n",
    "from utils import init_dl_program\n",
    "from utils import find_closest_train_segment\n",
    "from hdst import HDST\n",
    "import torch\n",
    "import gc\n",
    "import numpy as np"
   ]
  },
  {
   "cell_type": "markdown",
   "id": "a1f05ed6-5654-439d-b90c-f536b47e49b0",
   "metadata": {},
   "source": [
    "## Create Args Configuration Class"
   ]
  },
  {
   "cell_type": "code",
   "execution_count": 22,
   "id": "af8d59d2-5f8f-4473-a0d7-eddf3b4943f8",
   "metadata": {},
   "outputs": [],
   "source": [
    "@dataclass\n",
    "class Args:\n",
    "    task_weights: dict\n",
    "    dataset: str = \"\"\n",
    "    loader: str = \"\"\n",
    "    gpu: int = 0\n",
    "    static_repr_dims: int = 128\n",
    "    dynamic_repr_dims: int = 128\n",
    "    epochs: int = 200\n",
    "\n",
    "    run_name: str = \"\"\n",
    "    batch_size: int = 16\n",
    "    lr: float = 0.001\n",
    "    max_train_length = 800\n",
    "    iters: int = None\n",
    "    save_every = None\n",
    "    seed: int = 1234\n",
    "    max_threads = None\n",
    "    eval: bool = True\n",
    "    irregular = 0\n",
    "    mask_mode: str ='all_false'\n",
    "\n",
    "    sample_size: int = 50\n",
    "    window_size: int = 20"
   ]
  },
  {
   "cell_type": "markdown",
   "id": "a1bc736c-ca43-4a45-b7b8-d5297b6d74ca",
   "metadata": {},
   "source": [
    "## Instantiate Args Configuration Class\n",
    "Create an instance of arguments, specifying the necessary arguments and those important to your use case."
   ]
  },
  {
   "cell_type": "code",
   "execution_count": 23,
   "id": "51964981-9e2a-4dfa-bbc8-badb1e2ec44c",
   "metadata": {},
   "outputs": [],
   "source": [
    "args = Args(\n",
    "    static_repr_dims=128,\n",
    "    dynamic_repr_dims=128,\n",
    "    task_weights={\n",
    "        'local_static_contrast': 0,\n",
    "        'global_vatiant_contrast': 0,\n",
    "        'dynamic_trend_pred': 1,\n",
    "    },\n",
    "    eval=False,\n",
    "    batch_size=32,\n",
    ")\n",
    "\n",
    "device = init_dl_program(args.gpu, seed=args.seed, max_threads=args.max_threads)"
   ]
  },
  {
   "cell_type": "markdown",
   "id": "ef2757d0-70eb-4625-b386-cf7d380fd4cd",
   "metadata": {},
   "source": [
    "## Load your data\n",
    "You can use any data, as long as it is an `np.ndarray` of shape $(N, T, C)$ where $N$ is the number of time-series instances, $T$ the number of timesteps per instance, and $C$ the number of channels.\n",
    "Choosing from 'ETTh1', 'ETTh2', 'ETTm1' and 'ETTm2'"
   ]
  },
  {
   "cell_type": "code",
   "execution_count": 24,
   "id": "dc8966d2-184d-4ae8-a81a-caa095e78025",
   "metadata": {},
   "outputs": [
    {
     "name": "stdout",
     "output_type": "stream",
     "text": [
      "Shapes - train data: (1, 8640, 7), test data: (1, 2880, 7)\n",
      "[24, 48, 168, 336, 720]\n"
     ]
    }
   ],
   "source": [
    "data, train_slice, valid_slice, test_slice, scaler, pred_lens = datautils.load_forecast_csv(\"ETTh1\")\n",
    "train_data = data[:, train_slice]\n",
    "test_data = data[:, test_slice]\n",
    "print(f\"Shapes - train data: {train_data.shape}, test data: {test_data.shape}\")\n",
    "print(pred_lens)"
   ]
  },
  {
   "cell_type": "markdown",
   "id": "cc89e316-5120-4e3d-919e-83ab4b27a4dc",
   "metadata": {},
   "source": [
    "## Create and Train the model"
   ]
  },
  {
   "cell_type": "code",
   "execution_count": 25,
   "id": "3e0a080c-c734-4bb7-a33b-13e33253b61a",
   "metadata": {},
   "outputs": [
    {
     "data": {
      "text/plain": [
       "9433"
      ]
     },
     "execution_count": 25,
     "metadata": {},
     "output_type": "execute_result"
    }
   ],
   "source": [
    "sns.set_theme()\n",
    "torch.cuda.empty_cache()\n",
    "gc.collect()"
   ]
  },
  {
   "cell_type": "code",
   "execution_count": 26,
   "id": "0ce8c7e4-9a28-40fc-99b7-abc2abc9608f",
   "metadata": {},
   "outputs": [
    {
     "name": "stdout",
     "output_type": "stream",
     "text": [
      "Training data shape: (10, 864, 7)\n",
      "Epoch #0: loss=0.011198261752724648\n",
      "Epoch #1: loss=0.004625656642019749\n",
      "Epoch #2: loss=0.0027610871475189924\n",
      "Epoch #3: loss=0.0018345563439652324\n",
      "Epoch #4: loss=0.001288287341594696\n",
      "Epoch #5: loss=0.001022345619276166\n",
      "Epoch #6: loss=0.000837563187815249\n",
      "Epoch #7: loss=0.0008042110130190849\n",
      "Epoch #8: loss=0.0007980057271197438\n",
      "Epoch #9: loss=0.0007848759414628148\n",
      "Epoch #10: loss=0.0007514927419833839\n",
      "Epoch #11: loss=0.0006874779355712235\n",
      "Epoch #12: loss=0.0006276863277889788\n",
      "Epoch #13: loss=0.0005821107770316303\n",
      "Epoch #14: loss=0.0005415573250502348\n",
      "Epoch #15: loss=0.0005138025153428316\n",
      "Epoch #16: loss=0.0005028554587624967\n",
      "Epoch #17: loss=0.0004990812158212066\n",
      "Epoch #18: loss=0.0004928414127789438\n",
      "Epoch #19: loss=0.0004792482650373131\n",
      "Epoch #20: loss=0.0004719353455584496\n",
      "Epoch #21: loss=0.00046117586316540837\n",
      "Epoch #22: loss=0.00045313723967410624\n",
      "Epoch #23: loss=0.0004457082541193813\n",
      "Epoch #24: loss=0.0004327533533796668\n",
      "Epoch #25: loss=0.00042436664807610214\n",
      "Epoch #26: loss=0.0004245369927957654\n",
      "Epoch #27: loss=0.0004211092891637236\n",
      "Epoch #28: loss=0.00041544140549376607\n",
      "Epoch #29: loss=0.00041692808736115694\n",
      "Epoch #30: loss=0.0004164823330938816\n",
      "Epoch #31: loss=0.0004139501543249935\n",
      "Epoch #32: loss=0.00040639896178618073\n",
      "Epoch #33: loss=0.00039878219831734896\n",
      "Epoch #34: loss=0.0003976981097366661\n",
      "Epoch #35: loss=0.000394148170016706\n",
      "Epoch #36: loss=0.0003887377097271383\n",
      "Epoch #37: loss=0.0003833631344605237\n",
      "Epoch #38: loss=0.0003798974503297359\n",
      "Epoch #39: loss=0.0003765344445127994\n",
      "Epoch #40: loss=0.00037891307147219777\n",
      "Epoch #41: loss=0.00037124112714082\n",
      "Epoch #42: loss=0.0003681962552946061\n",
      "Epoch #43: loss=0.0003684959083329886\n",
      "Epoch #44: loss=0.0003653033636510372\n",
      "Epoch #45: loss=0.0003678709326777607\n",
      "Epoch #46: loss=0.0003687530115712434\n",
      "Epoch #47: loss=0.0003640179638750851\n",
      "Epoch #48: loss=0.00036786668351851404\n",
      "Epoch #49: loss=0.0003615171881392598\n",
      "Epoch #50: loss=0.000362360937288031\n",
      "Epoch #51: loss=0.0003625171084422618\n",
      "Epoch #52: loss=0.0003615918685682118\n",
      "Epoch #53: loss=0.0003632499137893319\n",
      "Epoch #54: loss=0.00036108028143644333\n",
      "Epoch #55: loss=0.0003625551180448383\n",
      "Epoch #56: loss=0.00036121573066338897\n",
      "Epoch #57: loss=0.0003625290410127491\n",
      "Epoch #58: loss=0.00035856309114024043\n",
      "Epoch #59: loss=0.0003588847757782787\n",
      "Epoch #60: loss=0.0003575545269995928\n",
      "Epoch #61: loss=0.0003604223602451384\n",
      "Epoch #62: loss=0.00035890881554223597\n",
      "Epoch #63: loss=0.0003584523219615221\n",
      "Epoch #64: loss=0.0003587464743759483\n",
      "Epoch #65: loss=0.00035763249616138637\n",
      "Epoch #66: loss=0.0003580540942493826\n",
      "Epoch #67: loss=0.0003634865570347756\n",
      "Epoch #68: loss=0.0003584969381336123\n",
      "Epoch #69: loss=0.0003609481791500002\n",
      "Epoch #70: loss=0.0003608711122069508\n",
      "Epoch #71: loss=0.0003587982791941613\n",
      "Epoch #72: loss=0.0003585396916605532\n",
      "Epoch #73: loss=0.0003594867011997849\n",
      "Epoch #74: loss=0.00035955148632638156\n",
      "Epoch #75: loss=0.00035888393176719546\n",
      "Epoch #76: loss=0.0003584080550353974\n",
      "Epoch #77: loss=0.00035705696791410446\n",
      "Epoch #78: loss=0.00035716217826120555\n",
      "Epoch #79: loss=0.00035876448964700103\n",
      "Epoch #80: loss=0.000359002297045663\n",
      "Epoch #81: loss=0.00035775324795395136\n",
      "Epoch #82: loss=0.0003585737431421876\n",
      "Epoch #83: loss=0.00035818846663460135\n",
      "Epoch #84: loss=0.0003545074723660946\n",
      "Epoch #85: loss=0.00035954429768025875\n",
      "Epoch #86: loss=0.00035551079781726\n",
      "Epoch #87: loss=0.00035936624044552445\n",
      "Epoch #88: loss=0.00035799635224975646\n",
      "Epoch #89: loss=0.00035649401252157986\n",
      "Epoch #90: loss=0.0003548630338627845\n",
      "Epoch #91: loss=0.0003565590886864811\n",
      "Epoch #92: loss=0.0003562518104445189\n",
      "Epoch #93: loss=0.00035455889883451164\n",
      "Epoch #94: loss=0.00035392038989812136\n",
      "Epoch #95: loss=0.0003528709930833429\n",
      "Epoch #96: loss=0.000356237986125052\n",
      "Epoch #97: loss=0.0003555865550879389\n",
      "Epoch #98: loss=0.00035530771128833294\n",
      "Epoch #99: loss=0.000355247815605253\n",
      "Epoch #100: loss=0.00035652759834192693\n",
      "Epoch #101: loss=0.0003542343038134277\n",
      "Epoch #102: loss=0.00035687730996869504\n",
      "Epoch #103: loss=0.0003542528720572591\n",
      "Epoch #104: loss=0.0003540741454344243\n",
      "Epoch #105: loss=0.00035249357460998\n",
      "Epoch #106: loss=0.0003575532464310527\n",
      "Epoch #107: loss=0.0003543926577549428\n",
      "Epoch #108: loss=0.0003565163060557097\n",
      "Epoch #109: loss=0.00035576350637711585\n",
      "Epoch #110: loss=0.00035385132650844753\n",
      "Epoch #111: loss=0.0003557052987162024\n",
      "Epoch #112: loss=0.00035626243334263563\n",
      "Epoch #113: loss=0.000352713541360572\n",
      "Epoch #114: loss=0.000354912132024765\n",
      "Epoch #115: loss=0.00035545427817851305\n",
      "Epoch #116: loss=0.00035644450690597296\n",
      "Epoch #117: loss=0.00035516484058462083\n",
      "Epoch #118: loss=0.0003552960406523198\n",
      "Epoch #119: loss=0.00035342155024409294\n",
      "Epoch #120: loss=0.0003556685405783355\n",
      "Epoch #121: loss=0.0003546752268448472\n",
      "Epoch #122: loss=0.0003534478892106563\n",
      "Epoch #123: loss=0.0003526265500113368\n",
      "Epoch #124: loss=0.00035519813536666334\n",
      "Epoch #125: loss=0.00035281418240629137\n",
      "Epoch #126: loss=0.0003531833353918046\n",
      "Epoch #127: loss=0.000354720774339512\n",
      "Epoch #128: loss=0.00035437196493148804\n",
      "Epoch #129: loss=0.00035530675086192787\n",
      "Epoch #130: loss=0.00035076195490546525\n",
      "Epoch #131: loss=0.0003538737364578992\n",
      "Epoch #132: loss=0.00035439699422568083\n",
      "Epoch #133: loss=0.0003541691694408655\n",
      "Epoch #134: loss=0.00035151882912032306\n",
      "Epoch #135: loss=0.00035360947367735207\n",
      "Epoch #136: loss=0.00035537194344215095\n",
      "Epoch #137: loss=0.00035222613951191306\n",
      "Epoch #138: loss=0.00035303435288369656\n",
      "Epoch #139: loss=0.0003541447513271123\n",
      "Epoch #140: loss=0.00035233120433986187\n",
      "Epoch #141: loss=0.000351952388882637\n",
      "Epoch #142: loss=0.0003532312694005668\n",
      "Epoch #143: loss=0.00035627279430627823\n",
      "Epoch #144: loss=0.00035181562998332083\n",
      "Epoch #145: loss=0.0003520338796079159\n",
      "Epoch #146: loss=0.0003536177100613713\n",
      "Epoch #147: loss=0.0003553946444299072\n",
      "Epoch #148: loss=0.00035289276274852455\n",
      "Epoch #149: loss=0.00035080406814813614\n",
      "Epoch #150: loss=0.00035223131999373436\n",
      "Epoch #151: loss=0.00035069172736257315\n",
      "Epoch #152: loss=0.0003524911298882216\n",
      "Epoch #153: loss=0.0003505868080537766\n",
      "Epoch #154: loss=0.0003508086665533483\n",
      "Epoch #155: loss=0.00035065007978118956\n",
      "Epoch #156: loss=0.00035200605634599924\n",
      "Epoch #157: loss=0.0003517572768032551\n",
      "Epoch #158: loss=0.00035301197203807533\n",
      "Epoch #159: loss=0.0003531895927153528\n",
      "Epoch #160: loss=0.00035367379314266145\n",
      "Epoch #161: loss=0.00035094612394459546\n",
      "Epoch #162: loss=0.00035065822885371745\n",
      "Epoch #163: loss=0.0003483468317426741\n",
      "Epoch #164: loss=0.0003513029951136559\n",
      "Epoch #165: loss=0.00034971474087797105\n",
      "Epoch #166: loss=0.00035259348805993795\n",
      "Epoch #167: loss=0.00035661429865285754\n",
      "Epoch #168: loss=0.0003493282711133361\n",
      "Epoch #169: loss=0.0003475581470411271\n",
      "Epoch #170: loss=0.0003481995372567326\n",
      "Epoch #171: loss=0.00035446370020508766\n",
      "Epoch #172: loss=0.00035130002652294934\n",
      "Epoch #173: loss=0.0003469553776085377\n",
      "Epoch #174: loss=0.0003513568954076618\n",
      "Epoch #175: loss=0.00035128206945955753\n",
      "Epoch #176: loss=0.00035022091469727457\n",
      "Epoch #177: loss=0.00035162208951078355\n",
      "Epoch #178: loss=0.00035232066875323653\n",
      "Epoch #179: loss=0.0003493235562928021\n",
      "Epoch #180: loss=0.0003520762256812304\n",
      "Epoch #181: loss=0.0003522422630339861\n",
      "Epoch #182: loss=0.00034869194496423006\n",
      "Epoch #183: loss=0.00034991989377886057\n",
      "Epoch #184: loss=0.00035294098779559135\n",
      "Epoch #185: loss=0.00034933429560624063\n",
      "Epoch #186: loss=0.0003495670680422336\n",
      "Epoch #187: loss=0.0003517490404192358\n",
      "Epoch #188: loss=0.0003485022170934826\n",
      "Epoch #189: loss=0.00034836927079595625\n",
      "Epoch #190: loss=0.000353646173607558\n",
      "Epoch #191: loss=0.00035294005647301674\n",
      "Epoch #192: loss=0.00035170058254152536\n",
      "Epoch #193: loss=0.0003493291442282498\n",
      "Epoch #194: loss=0.0003498062724247575\n",
      "Epoch #195: loss=0.00034971549757756293\n",
      "Epoch #196: loss=0.000350729824276641\n",
      "Epoch #197: loss=0.0003472075331956148\n",
      "Epoch #198: loss=0.0003507057554088533\n",
      "Epoch #199: loss=0.0003484176122583449\n",
      "Model training time: 26.89 seconds\n"
     ]
    }
   ],
   "source": [
    "import time\n",
    "start_time = time.time()\n",
    "model = HDST(\n",
    "    input_dims=train_data.shape[-1],\n",
    "    device=device,\n",
    "    task_weights=args.task_weights,\n",
    "    batch_size=args.batch_size,\n",
    "    lr=args.lr,\n",
    "    output_dims1=args.static_repr_dims,\n",
    "    output_dims2=args.dynamic_repr_dims,\n",
    "    max_train_length=args.max_train_length,\n",
    "    mask_mode=args.mask_mode\n",
    ")\n",
    "\n",
    "loss_log = model.fit(\n",
    "    train_data,\n",
    "    n_epochs=args.epochs,\n",
    "    n_iters=args.iters,\n",
    "    k=args.sample_size,\n",
    "    w=args.window_size\n",
    ")\n",
    "end_time = time.time()\n",
    "training_time = end_time - start_time\n",
    "print(f\"Model training time: {training_time:.2f} seconds\")"
   ]
  },
  {
   "cell_type": "markdown",
   "id": "b2801942-d5d0-47a1-9f33-f82006f12425",
   "metadata": {},
   "source": [
    "Save model and loss log"
   ]
  },
  {
   "cell_type": "code",
   "execution_count": 27,
   "id": "3ee8e10d-aead-4107-ab00-6b34690ca303",
   "metadata": {},
   "outputs": [
    {
     "ename": "PicklingError",
     "evalue": "Can't pickle <class 'hdst.HDST'>: it's not the same object as hdst.HDST",
     "output_type": "error",
     "traceback": [
      "\u001b[0;31m---------------------------------------------------------------------------\u001b[0m",
      "\u001b[0;31mPicklingError\u001b[0m                             Traceback (most recent call last)",
      "Cell \u001b[0;32mIn[27], line 2\u001b[0m\n\u001b[1;32m      1\u001b[0m \u001b[38;5;28;01mimport\u001b[39;00m\u001b[38;5;250m \u001b[39m\u001b[38;5;21;01mtorch\u001b[39;00m\n\u001b[0;32m----> 2\u001b[0m \u001b[43mtorch\u001b[49m\u001b[38;5;241;43m.\u001b[39;49m\u001b[43msave\u001b[49m\u001b[43m(\u001b[49m\u001b[43mmodel\u001b[49m\u001b[43m,\u001b[49m\u001b[43m \u001b[49m\u001b[38;5;124;43m'\u001b[39;49m\u001b[38;5;124;43mlogs/mymodel_ETTh1.pth\u001b[39;49m\u001b[38;5;124;43m'\u001b[39;49m\u001b[43m)\u001b[49m\n\u001b[1;32m      3\u001b[0m \u001b[38;5;28;01mimport\u001b[39;00m\u001b[38;5;250m \u001b[39m\u001b[38;5;21;01mpandas\u001b[39;00m\u001b[38;5;250m \u001b[39m\u001b[38;5;28;01mas\u001b[39;00m\u001b[38;5;250m \u001b[39m\u001b[38;5;21;01mpd\u001b[39;00m\n\u001b[1;32m      4\u001b[0m df \u001b[38;5;241m=\u001b[39m pd\u001b[38;5;241m.\u001b[39mDataFrame({\u001b[38;5;124m\"\u001b[39m\u001b[38;5;124mepoch\u001b[39m\u001b[38;5;124m\"\u001b[39m: \u001b[38;5;28mlist\u001b[39m(\u001b[38;5;28mrange\u001b[39m(\u001b[38;5;241m1\u001b[39m, \u001b[38;5;28mlen\u001b[39m(loss_log) \u001b[38;5;241m+\u001b[39m \u001b[38;5;241m1\u001b[39m)), \u001b[38;5;124m\"\u001b[39m\u001b[38;5;124mloss\u001b[39m\u001b[38;5;124m\"\u001b[39m: loss_log})\n",
      "File \u001b[0;32m/opt/conda/lib/python3.11/site-packages/torch/serialization.py:652\u001b[0m, in \u001b[0;36msave\u001b[0;34m(obj, f, pickle_module, pickle_protocol, _use_new_zipfile_serialization, _disable_byteorder_record)\u001b[0m\n\u001b[1;32m    650\u001b[0m \u001b[38;5;28;01mif\u001b[39;00m _use_new_zipfile_serialization:\n\u001b[1;32m    651\u001b[0m     \u001b[38;5;28;01mwith\u001b[39;00m _open_zipfile_writer(f) \u001b[38;5;28;01mas\u001b[39;00m opened_zipfile:\n\u001b[0;32m--> 652\u001b[0m         \u001b[43m_save\u001b[49m\u001b[43m(\u001b[49m\u001b[43mobj\u001b[49m\u001b[43m,\u001b[49m\u001b[43m \u001b[49m\u001b[43mopened_zipfile\u001b[49m\u001b[43m,\u001b[49m\u001b[43m \u001b[49m\u001b[43mpickle_module\u001b[49m\u001b[43m,\u001b[49m\u001b[43m \u001b[49m\u001b[43mpickle_protocol\u001b[49m\u001b[43m,\u001b[49m\u001b[43m \u001b[49m\u001b[43m_disable_byteorder_record\u001b[49m\u001b[43m)\u001b[49m\n\u001b[1;32m    653\u001b[0m         \u001b[38;5;28;01mreturn\u001b[39;00m\n\u001b[1;32m    654\u001b[0m \u001b[38;5;28;01melse\u001b[39;00m:\n",
      "File \u001b[0;32m/opt/conda/lib/python3.11/site-packages/torch/serialization.py:864\u001b[0m, in \u001b[0;36m_save\u001b[0;34m(obj, zip_file, pickle_module, pickle_protocol, _disable_byteorder_record)\u001b[0m\n\u001b[1;32m    862\u001b[0m pickler \u001b[38;5;241m=\u001b[39m pickle_module\u001b[38;5;241m.\u001b[39mPickler(data_buf, protocol\u001b[38;5;241m=\u001b[39mpickle_protocol)\n\u001b[1;32m    863\u001b[0m pickler\u001b[38;5;241m.\u001b[39mpersistent_id \u001b[38;5;241m=\u001b[39m persistent_id\n\u001b[0;32m--> 864\u001b[0m pickler\u001b[38;5;241m.\u001b[39mdump(obj)\n\u001b[1;32m    865\u001b[0m data_value \u001b[38;5;241m=\u001b[39m data_buf\u001b[38;5;241m.\u001b[39mgetvalue()\n\u001b[1;32m    866\u001b[0m zip_file\u001b[38;5;241m.\u001b[39mwrite_record(\u001b[38;5;124m'\u001b[39m\u001b[38;5;124mdata.pkl\u001b[39m\u001b[38;5;124m'\u001b[39m, data_value, \u001b[38;5;28mlen\u001b[39m(data_value))\n",
      "\u001b[0;31mPicklingError\u001b[0m: Can't pickle <class 'hdst.HDST'>: it's not the same object as hdst.HDST"
     ]
    }
   ],
   "source": [
    "import torch\n",
    "torch.save(model, 'logs/mymodel_ETTh1.pth')\n",
    "import pandas as pd\n",
    "df = pd.DataFrame({\"epoch\": list(range(1, len(loss_log) + 1)), \"loss\": loss_log})\n",
    "df.to_csv(\"logs/loss_log_ETTh1.csv\", index=False)"
   ]
  },
  {
   "cell_type": "markdown",
   "id": "2b646a4b-0291-49df-a19b-aa40b4549e5d",
   "metadata": {},
   "source": [
    "Visualize the loss curve and save figure"
   ]
  },
  {
   "cell_type": "code",
   "execution_count": 28,
   "id": "5a97b47a-04d8-45e0-969e-f74ac670576d",
   "metadata": {},
   "outputs": [
    {
     "data": {
      "image/png": "[encoded data removed]",
      "text/plain": [
       "<Figure size 640x480 with 1 Axes>"
      ]
     },
     "metadata": {},
     "output_type": "display_data"
    }
   ],
   "source": [
    "import matplotlib.pyplot as plt\n",
    "# print(loss_log)\n",
    "plt.plot(loss_log, label=\"Loss\")\n",
    "plt.xlabel(\"Epoch\")\n",
    "plt.ylabel(\"Loss\")\n",
    "plt.title(\"Training Loss Curve\")\n",
    "plt.legend()\n",
    "plt.grid(True)\n",
    "plt.savefig(\"loss_curve.png\")\n",
    "plt.show()"
   ]
  },
  {
   "cell_type": "markdown",
   "id": "6bc062a5-48c4-4671-b78d-0dc8d4420c77",
   "metadata": {},
   "source": [
    "## Test the model\n",
    "Firstly, get the representation of training data and test data using `model.encode`. Then train a Ridge regression model using training representation and corresponding training labels. Finally, use the Ridge regression model to do forecasting for test representation. Report the MSE and MAE."
   ]
  },
  {
   "cell_type": "code",
   "execution_count": 29,
   "id": "22bba3a8-aa7a-4566-8a39-01abb8bbd31a",
   "metadata": {},
   "outputs": [
    {
     "name": "stdout",
     "output_type": "stream",
     "text": [
      "24: {'norm': {'MSE': 0.5231184134611061, 'MAE': 0.49079494901459547}, 'raw': {'MSE': 8.246760067587005, 'MAE': 1.6155858548197928}}\n",
      "48: {'norm': {'MSE': 0.5603623969611136, 'MAE': 0.5202082426261749}, 'raw': {'MSE': 9.893261013667738, 'MAE': 1.80328987337817}}\n",
      "168: {'norm': {'MSE': 0.757430635354448, 'MAE': 0.6378980264488245}, 'raw': {'MSE': 13.282496108078261, 'MAE': 2.220729187407128}}\n",
      "336: {'norm': {'MSE': 0.9311111794879946, 'MAE': 0.7293767640699231}, 'raw': {'MSE': 14.920326875795029, 'MAE': 2.4415203956524323}}\n",
      "720: {'norm': {'MSE': 1.0836300829540666, 'MAE': 0.8148742887678488}, 'raw': {'MSE': 15.751679646782142, 'MAE': 2.6768136227446937}}\n"
     ]
    }
   ],
   "source": [
    "from tasks.forecasting import eval_forecasting\n",
    "out, eval_res = eval_forecasting(\n",
    "                model,\n",
    "                data,\n",
    "                train_slice,\n",
    "                valid_slice,\n",
    "                test_slice,\n",
    "                scaler,\n",
    "                pred_lens\n",
    "            )\n",
    "res=eval_res['ours']\n",
    "for key, value in res.items():\n",
    "    print(f\"{key}: {value}\")\n"
   ]
  },
  {
   "cell_type": "code",
   "execution_count": null,
   "id": "0ee917a4-88b5-4147-bdc5-fcd0225d7d7a",
   "metadata": {},
   "outputs": [],
   "source": []
  }
 ],
 "metadata": {
  "kernelspec": {
   "display_name": "Python 3 (ipykernel)",
   "language": "python",
   "name": "python3"
  },
  "language_info": {
   "codemirror_mode": {
    "name": "ipython",
    "version": 3
   },
   "file_extension": ".py",
   "mimetype": "text/x-python",
   "name": "python",
   "nbconvert_exporter": "python",
   "pygments_lexer": "ipython3",
   "version": "3.11.11"
  }
 },
 "nbformat": 4,
 "nbformat_minor": 5
}
