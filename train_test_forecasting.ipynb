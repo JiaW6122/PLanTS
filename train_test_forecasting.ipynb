{
 "cells": [
  {
   "cell_type": "code",
   "execution_count": 130,
   "id": "1e520362-af32-48d5-94ec-d41cd0019a45",
   "metadata": {},
   "outputs": [
    {
     "name": "stdout",
     "output_type": "stream",
     "text": [
      "Requirement already satisfied: einops in /opt/conda/lib/python3.11/site-packages (0.8.1)\n",
      "The autoreload extension is already loaded. To reload it, use:\n",
      "  %reload_ext autoreload\n"
     ]
    }
   ],
   "source": [
    "!pip install einops\n",
    "%load_ext autoreload\n",
    "%autoreload 2\n",
    "\n",
    "import seaborn as sns\n",
    "from dataclasses import dataclass\n",
    "import matplotlib.pyplot as plt\n",
    "\n",
    "import datautils\n",
    "from utils import init_dl_program\n",
    "from hdst import HDST\n",
    "import torch\n",
    "import gc\n",
    "import numpy as np"
   ]
  },
  {
   "cell_type": "markdown",
   "id": "a1f05ed6-5654-439d-b90c-f536b47e49b0",
   "metadata": {},
   "source": [
    "## Create Args Configuration Class"
   ]
  },
  {
   "cell_type": "code",
   "execution_count": 150,
   "id": "af8d59d2-5f8f-4473-a0d7-eddf3b4943f8",
   "metadata": {},
   "outputs": [],
   "source": [
    "@dataclass\n",
    "class Args:\n",
    "    task_weights: dict\n",
    "    dataset: str = \"\"\n",
    "    loader: str = \"\"\n",
    "    gpu: int = 0\n",
    "    static_repr_dims: int = 128\n",
    "    dynamic_repr_dims: int = 128\n",
    "    epochs: int = 200\n",
    "\n",
    "    run_name: str = \"\"\n",
    "    batch_size: int = 8\n",
    "    lr: float = 0.001\n",
    "    max_train_length = 1000\n",
    "    iters: int = None\n",
    "    save_every = None\n",
    "    seed: int = 1234\n",
    "    max_threads = None\n",
    "    eval: bool = True\n",
    "    irregular = 0\n",
    "\n",
    "    sample_size: int = 3\n",
    "    window_size: int = None # Use None for multi-scale\n",
    "    top_k: int =2 # Use the top k prominent periodicity as time scale. If use sepcified window size, you can set top_k as random number."
   ]
  },
  {
   "cell_type": "markdown",
   "id": "a1bc736c-ca43-4a45-b7b8-d5297b6d74ca",
   "metadata": {},
   "source": [
    "## Instantiate Args Configuration Class\n",
    "Create an instance of arguments, specifying the necessary arguments and those important to your use case."
   ]
  },
  {
   "cell_type": "code",
   "execution_count": 151,
   "id": "51964981-9e2a-4dfa-bbc8-badb1e2ec44c",
   "metadata": {},
   "outputs": [],
   "source": [
    "args = Args(\n",
    "    static_repr_dims=128,\n",
    "    dynamic_repr_dims=128,\n",
    "    task_weights={\n",
    "        'local_static_contrast': 0,\n",
    "        'global_vatiant_contrast': 0,\n",
    "        'dynamic_trend_pred': 1,\n",
    "    },\n",
    "    eval=False\n",
    ")\n",
    "\n",
    "device = init_dl_program(args.gpu, seed=args.seed, max_threads=args.max_threads)"
   ]
  },
  {
   "cell_type": "markdown",
   "id": "ef2757d0-70eb-4625-b386-cf7d380fd4cd",
   "metadata": {},
   "source": [
    "## Load your data\n",
    "You can use any data, as long as it is an `np.ndarray` of shape $(N, T, C)$ where $N$ is the number of time-series instances, $T$ the number of timesteps per instance, and $C$ the number of channels.\n",
    "Choosing from 'ETTh1', 'ETTh2', 'ETTm1' and 'ETTm2'"
   ]
  },
  {
   "cell_type": "code",
   "execution_count": 152,
   "id": "dc8966d2-184d-4ae8-a81a-caa095e78025",
   "metadata": {},
   "outputs": [
    {
     "name": "stdout",
     "output_type": "stream",
     "text": [
      "Shapes - train data: (1, 34560, 7), test data: (1, 11520, 7)\n",
      "[24, 48, 96, 288, 672]\n"
     ]
    }
   ],
   "source": [
    "data, train_slice, valid_slice, test_slice, scaler, pred_lens = datautils.load_forecast_csv(\"ETTm2\")\n",
    "train_data = data[:, train_slice]\n",
    "test_data = data[:, test_slice]\n",
    "print(f\"Shapes - train data: {train_data.shape}, test data: {test_data.shape}\")\n",
    "print(pred_lens)"
   ]
  },
  {
   "cell_type": "code",
   "execution_count": 153,
   "id": "ff056654-aebc-4af3-b55a-0c75df0bebc9",
   "metadata": {},
   "outputs": [
    {
     "name": "stdout",
     "output_type": "stream",
     "text": [
      "[34560 17280 11520  8640  6912]\n"
     ]
    }
   ],
   "source": [
    "from torch.utils.data import TensorDataset, DataLoader\n",
    "from utils import FFT_for_Period\n",
    "train_data_temp = (torch.from_numpy(train_data).to(torch.float))\n",
    "scale_list, scale_weight = FFT_for_Period(train_data_temp, 5)\n",
    "print(scale_list)"
   ]
  },
  {
   "cell_type": "markdown",
   "id": "cc89e316-5120-4e3d-919e-83ab4b27a4dc",
   "metadata": {},
   "source": [
    "## Create and Train the model"
   ]
  },
  {
   "cell_type": "code",
   "execution_count": 156,
   "id": "3e0a080c-c734-4bb7-a33b-13e33253b61a",
   "metadata": {},
   "outputs": [
    {
     "data": {
      "text/plain": [
       "6726"
      ]
     },
     "execution_count": 156,
     "metadata": {},
     "output_type": "execute_result"
    }
   ],
   "source": [
    "sns.set_theme()\n",
    "torch.cuda.empty_cache()\n",
    "gc.collect()"
   ]
  },
  {
   "cell_type": "code",
   "execution_count": 157,
   "id": "0ce8c7e4-9a28-40fc-99b7-abc2abc9608f",
   "metadata": {},
   "outputs": [
    {
     "name": "stdout",
     "output_type": "stream",
     "text": [
      "Training data shape: (34, 1017, 7)\n",
      "Epoch #0: loss=0.00803236453793943\n",
      "Epoch #1: loss=0.0020543160499073565\n",
      "Epoch #2: loss=0.001271721295779571\n",
      "Epoch #3: loss=0.00092374011001084\n",
      "Epoch #4: loss=0.0006978638703003526\n",
      "Epoch #5: loss=0.0005951157218078151\n",
      "Epoch #6: loss=0.0005062481504864991\n",
      "Epoch #7: loss=0.0004717708652606234\n",
      "Epoch #8: loss=0.00042571725498419255\n",
      "Epoch #9: loss=0.0004004247020930052\n",
      "Epoch #10: loss=0.00037714678182965145\n",
      "Epoch #11: loss=0.00036910924973199144\n",
      "Epoch #12: loss=0.00036141594318905845\n",
      "Epoch #13: loss=0.0003540970428730361\n",
      "Epoch #14: loss=0.0003479606893961318\n",
      "Epoch #15: loss=0.000341700782882981\n",
      "Epoch #16: loss=0.0003361772105563432\n",
      "Epoch #17: loss=0.0003259077057009563\n",
      "Epoch #18: loss=0.0003224086467525922\n",
      "Epoch #19: loss=0.0003137625826639123\n",
      "Epoch #20: loss=0.0003109003009740263\n",
      "Epoch #21: loss=0.00030691357096657157\n",
      "Epoch #22: loss=0.00030381520627997816\n",
      "Epoch #23: loss=0.0003022012679139152\n",
      "Epoch #24: loss=0.00030048000917304307\n",
      "Epoch #25: loss=0.0003006174592883326\n",
      "Epoch #26: loss=0.00029754809656878933\n",
      "Epoch #27: loss=0.00029864174575777724\n",
      "Epoch #28: loss=0.0002986128456541337\n",
      "Epoch #29: loss=0.00029759135941276327\n",
      "Epoch #30: loss=0.0002966569081763737\n",
      "Epoch #31: loss=0.00029643336893059313\n",
      "Epoch #32: loss=0.00029518922383431345\n",
      "Epoch #33: loss=0.0002959290941362269\n",
      "Epoch #34: loss=0.0002963417791761458\n",
      "Epoch #35: loss=0.00029425138200167567\n",
      "Epoch #36: loss=0.0002951764108729549\n",
      "Epoch #37: loss=0.00029373294091783464\n",
      "Epoch #38: loss=0.00029335886938497424\n",
      "Epoch #39: loss=0.00029465314582921565\n",
      "Epoch #40: loss=0.00029323887429200113\n",
      "Epoch #41: loss=0.00029333060956560075\n",
      "Epoch #42: loss=0.0002924022774095647\n",
      "Epoch #43: loss=0.00029090401221765205\n",
      "Epoch #44: loss=0.00029285541677381843\n",
      "Epoch #45: loss=0.00029183862352510914\n",
      "Epoch #46: loss=0.00029137622914277017\n",
      "Epoch #47: loss=0.00029102733242325485\n",
      "Epoch #48: loss=0.0002909948816522956\n",
      "Epoch #49: loss=0.00029044503025943413\n",
      "Epoch #50: loss=0.0002912109703174792\n",
      "Epoch #51: loss=0.00029094853380229324\n",
      "Epoch #52: loss=0.0002900806866819039\n",
      "Epoch #53: loss=0.0002898930397350341\n",
      "Epoch #54: loss=0.0002902658234233968\n",
      "Epoch #55: loss=0.00029055024788249284\n",
      "Epoch #56: loss=0.0002888246744987555\n",
      "Epoch #57: loss=0.0002898001330322586\n",
      "Epoch #58: loss=0.0002883687338908203\n",
      "Epoch #59: loss=0.0002886045549530536\n",
      "Epoch #60: loss=0.00028779374406440184\n",
      "Epoch #61: loss=0.00028801315056625754\n",
      "Epoch #62: loss=0.00028751197532983497\n",
      "Epoch #63: loss=0.0002871055403375067\n",
      "Epoch #64: loss=0.00028794020181521773\n",
      "Epoch #65: loss=0.0002863318004528992\n",
      "Epoch #66: loss=0.00028602342354133725\n",
      "Epoch #67: loss=0.0002868535157176666\n",
      "Epoch #68: loss=0.0002858648949768394\n",
      "Epoch #69: loss=0.000286499343928881\n",
      "Epoch #70: loss=0.0002850115779438056\n",
      "Epoch #71: loss=0.00028599397046491504\n",
      "Epoch #72: loss=0.0002859544401871972\n",
      "Epoch #73: loss=0.00028547580586746335\n",
      "Epoch #74: loss=0.000285218411590904\n",
      "Epoch #75: loss=0.0002853379482985474\n",
      "Epoch #76: loss=0.00028470929100876674\n",
      "Epoch #77: loss=0.00028517041937448084\n",
      "Epoch #78: loss=0.0002849573647836223\n",
      "Epoch #79: loss=0.00028561468207044527\n",
      "Epoch #80: loss=0.00028421790921129286\n",
      "Epoch #81: loss=0.0002837070351233706\n",
      "Epoch #82: loss=0.0002837092397385277\n",
      "Epoch #83: loss=0.0002829521254170686\n",
      "Epoch #84: loss=0.0002828762590070255\n",
      "Epoch #85: loss=0.00028391831438057125\n",
      "Epoch #86: loss=0.00028338825359242037\n",
      "Epoch #87: loss=0.0002834619735949673\n",
      "Epoch #88: loss=0.0002832928439602256\n",
      "Epoch #89: loss=0.00028385004407027736\n",
      "Epoch #90: loss=0.0002835555060300976\n",
      "Epoch #91: loss=0.0002831537276506424\n",
      "Epoch #92: loss=0.00028373101667966694\n",
      "Epoch #93: loss=0.0002827321077347733\n",
      "Epoch #94: loss=0.00028263060085009784\n",
      "Epoch #95: loss=0.00028297332755755633\n",
      "Epoch #96: loss=0.000282021559542045\n",
      "Epoch #97: loss=0.0002819656583596952\n",
      "Epoch #98: loss=0.0002823091854224913\n",
      "Epoch #99: loss=0.000280910317087546\n",
      "Epoch #100: loss=0.00028141179791418836\n",
      "Epoch #101: loss=0.0002799701178446412\n",
      "Epoch #102: loss=0.00028158892382634804\n",
      "Epoch #103: loss=0.00028087504324503243\n",
      "Epoch #104: loss=0.00028068679239368066\n",
      "Epoch #105: loss=0.0002810232908814214\n",
      "Epoch #106: loss=0.0002827459975378588\n",
      "Epoch #107: loss=0.0002809567595249973\n",
      "Epoch #108: loss=0.0002807220153044909\n",
      "Epoch #109: loss=0.0002798828572849743\n",
      "Epoch #110: loss=0.00028126132383476943\n",
      "Epoch #111: loss=0.0002816610722220503\n",
      "Epoch #112: loss=0.00028036539879394695\n",
      "Epoch #113: loss=0.00028118511545471847\n",
      "Epoch #114: loss=0.0002812079546856694\n",
      "Epoch #115: loss=0.00028066626691725105\n",
      "Epoch #116: loss=0.00027995623531751335\n",
      "Epoch #117: loss=0.0002811008598655462\n",
      "Epoch #118: loss=0.0002804108808049932\n",
      "Epoch #119: loss=0.0002809728175634518\n",
      "Epoch #120: loss=0.00028052719426341355\n",
      "Epoch #121: loss=0.00028040007600793615\n",
      "Epoch #122: loss=0.0002811130107147619\n",
      "Epoch #123: loss=0.0002805130206979811\n",
      "Epoch #124: loss=0.0002814160689013079\n",
      "Epoch #125: loss=0.00028113579901400954\n",
      "Epoch #126: loss=0.0002820901936502196\n",
      "Epoch #127: loss=0.00028091885906178504\n",
      "Epoch #128: loss=0.0002814912440953776\n",
      "Epoch #129: loss=0.0002819054134306498\n",
      "Epoch #130: loss=0.00028124512027716264\n",
      "Epoch #131: loss=0.0002810573860188015\n",
      "Epoch #132: loss=0.00028110280982218683\n",
      "Epoch #133: loss=0.0002808112112688832\n",
      "Epoch #134: loss=0.0002814562467392534\n",
      "Epoch #135: loss=0.0002818959183059633\n",
      "Epoch #136: loss=0.000279779575066641\n",
      "Epoch #137: loss=0.00028007313812850043\n",
      "Epoch #138: loss=0.0002818441280396655\n",
      "Epoch #139: loss=0.0002806193588185124\n",
      "Epoch #140: loss=0.00027966280322289094\n",
      "Epoch #141: loss=0.0002808560457197018\n",
      "Epoch #142: loss=0.0002800654692691751\n",
      "Epoch #143: loss=0.00028041259065503255\n",
      "Epoch #144: loss=0.0002795593754854053\n",
      "Epoch #145: loss=0.0002802173257805407\n",
      "Epoch #146: loss=0.00028095991001464427\n",
      "Epoch #147: loss=0.0002821326197590679\n",
      "Epoch #148: loss=0.00028100421332055703\n",
      "Epoch #149: loss=0.0002813508835970424\n",
      "Epoch #150: loss=0.0002801829396048561\n",
      "Epoch #151: loss=0.000280042237136513\n",
      "Epoch #152: loss=0.0002799489375320263\n",
      "Epoch #153: loss=0.00028026342624798417\n",
      "Epoch #154: loss=0.0002814591061905958\n",
      "Epoch #155: loss=0.00027913395751966164\n",
      "Epoch #156: loss=0.00027882345602847636\n",
      "Epoch #157: loss=0.0002787929552141577\n",
      "Epoch #158: loss=0.000278415645880159\n",
      "Epoch #159: loss=0.00027845631120726466\n",
      "Epoch #160: loss=0.0002785464166663587\n",
      "Epoch #161: loss=0.0002778516281978227\n",
      "Epoch #162: loss=0.00027783153200289235\n",
      "Epoch #163: loss=0.00027744058752432466\n",
      "Epoch #164: loss=0.00027614009741228074\n",
      "Epoch #165: loss=0.0002796064072754234\n",
      "Epoch #166: loss=0.00027915946702705696\n",
      "Epoch #167: loss=0.0002779297501547262\n",
      "Epoch #168: loss=0.00027666109963320196\n",
      "Epoch #169: loss=0.0002757636029855348\n",
      "Epoch #170: loss=0.0002759030685410835\n",
      "Epoch #171: loss=0.00027711951406672597\n",
      "Epoch #172: loss=0.00027620125183602795\n",
      "Epoch #173: loss=0.00027536144625628367\n",
      "Epoch #174: loss=0.00027546043565962464\n",
      "Epoch #175: loss=0.00027665329980663955\n",
      "Epoch #176: loss=0.00027563561889110133\n",
      "Epoch #177: loss=0.0002747134494711645\n",
      "Epoch #178: loss=0.000274896236078348\n",
      "Epoch #179: loss=0.0002752016007434577\n",
      "Epoch #180: loss=0.00027523805329110473\n",
      "Epoch #181: loss=0.000276183636742644\n",
      "Epoch #182: loss=0.000275457336101681\n",
      "Epoch #183: loss=0.0002743102377280593\n",
      "Epoch #184: loss=0.0002762185176834464\n",
      "Epoch #185: loss=0.00027552308893064037\n",
      "Epoch #186: loss=0.00027514142129803076\n",
      "Epoch #187: loss=0.000275329512078315\n",
      "Epoch #188: loss=0.0002750769490376115\n",
      "Epoch #189: loss=0.0002753960361587815\n",
      "Epoch #190: loss=0.0002746586105786264\n",
      "Epoch #191: loss=0.0002751963911578059\n",
      "Epoch #192: loss=0.0002752824075287208\n",
      "Epoch #193: loss=0.0002775505417957902\n",
      "Epoch #194: loss=0.000277292201644741\n",
      "Epoch #195: loss=0.0002763022785075009\n",
      "Epoch #196: loss=0.00027527124620974064\n",
      "Epoch #197: loss=0.0002759156996035017\n",
      "Epoch #198: loss=0.00027469382621347904\n",
      "Epoch #199: loss=0.0002744377779890783\n",
      "Model training time: 111.54 seconds\n"
     ]
    }
   ],
   "source": [
    "import time\n",
    "start_time = time.time()\n",
    "model = HDST(\n",
    "    input_dims=train_data.shape[-1],\n",
    "    device=device,\n",
    "    task_weights=args.task_weights,\n",
    "    batch_size=args.batch_size,\n",
    "    lr=args.lr,\n",
    "    output_dims1=args.static_repr_dims,\n",
    "    output_dims2=args.dynamic_repr_dims,\n",
    "    max_train_length=args.max_train_length\n",
    ")\n",
    "\n",
    "loss_log = model.fit(\n",
    "    train_data,\n",
    "    n_epochs=args.epochs,\n",
    "    n_iters=args.iters,\n",
    "    k=args.sample_size,\n",
    "    w=args.window_size,\n",
    "    top_k=args.top_k\n",
    ")\n",
    "end_time = time.time()\n",
    "training_time = end_time - start_time\n",
    "print(f\"Model training time: {training_time:.2f} seconds\")"
   ]
  },
  {
   "cell_type": "markdown",
   "id": "b2801942-d5d0-47a1-9f33-f82006f12425",
   "metadata": {},
   "source": [
    "Save model and loss log"
   ]
  },
  {
   "cell_type": "code",
   "execution_count": 158,
   "id": "3ee8e10d-aead-4107-ab00-6b34690ca303",
   "metadata": {},
   "outputs": [],
   "source": [
    "# import torch\n",
    "# torch.save(model, 'logs/mymodel_ETTh1.pth')\n",
    "# import pandas as pd\n",
    "# df = pd.DataFrame({\"epoch\": list(range(1, len(loss_log) + 1)), \"loss\": loss_log})\n",
    "# df.to_csv(\"logs/loss_log_ETTh1.csv\", index=False)"
   ]
  },
  {
   "cell_type": "markdown",
   "id": "2b646a4b-0291-49df-a19b-aa40b4549e5d",
   "metadata": {},
   "source": [
    "Visualize the loss curve and save figure"
   ]
  },
  {
   "cell_type": "code",
   "execution_count": 159,
   "id": "5a97b47a-04d8-45e0-969e-f74ac670576d",
   "metadata": {},
   "outputs": [
    {
     "data": {
      "image/png": "[encoded data removed]",
      "text/plain": [
       "<Figure size 640x480 with 1 Axes>"
      ]
     },
     "metadata": {},
     "output_type": "display_data"
    }
   ],
   "source": [
    "import matplotlib.pyplot as plt\n",
    "# print(loss_log)\n",
    "plt.plot(loss_log, label=\"Loss\")\n",
    "plt.xlabel(\"Epoch\")\n",
    "plt.ylabel(\"Loss\")\n",
    "plt.title(\"Training Loss Curve\")\n",
    "plt.legend()\n",
    "plt.grid(True)\n",
    "plt.savefig(\"loss_curve.png\")\n",
    "plt.show()"
   ]
  },
  {
   "cell_type": "markdown",
   "id": "6bc062a5-48c4-4671-b78d-0dc8d4420c77",
   "metadata": {},
   "source": [
    "## Test the model\n",
    "Firstly, get the representation of training data and test data using `model.encode`. Then train a Ridge regression model using training representation and corresponding training labels. Finally, use the Ridge regression model to do forecasting for test representation. Report the MSE and MAE."
   ]
  },
  {
   "cell_type": "code",
   "execution_count": 160,
   "id": "22bba3a8-aa7a-4566-8a39-01abb8bbd31a",
   "metadata": {},
   "outputs": [
    {
     "name": "stdout",
     "output_type": "stream",
     "text": [
      "24: {'norm': {'MSE': 0.16239194138261562, 'MAE': 0.27801932757238434}, 'raw': {'MSE': 9.902333173941859, 'MAE': 2.0917628852705517}}\n",
      "48: {'norm': {'MSE': 0.24463534915557533, 'MAE': 0.34714122534575587}, 'raw': {'MSE': 16.773181051776405, 'MAE': 2.7056435775915757}}\n",
      "96: {'norm': {'MSE': 0.31742861942868006, 'MAE': 0.4083297419306173}, 'raw': {'MSE': 22.489173265876367, 'MAE': 3.2332600350638323}}\n",
      "288: {'norm': {'MSE': 0.7555588395763451, 'MAE': 0.6509816911022063}, 'raw': {'MSE': 54.660284775707645, 'MAE': 5.228367859937217}}\n",
      "672: {'norm': {'MSE': 2.9215802768996024, 'MAE': 1.3023149830063476}, 'raw': {'MSE': 149.2063898363989, 'MAE': 9.470556958933187}}\n"
     ]
    }
   ],
   "source": [
    "from tasks.forecasting import eval_forecasting\n",
    "out, eval_res = eval_forecasting(\n",
    "                model,\n",
    "                data,\n",
    "                train_slice,\n",
    "                valid_slice,\n",
    "                test_slice,\n",
    "                scaler,\n",
    "                pred_lens\n",
    "            )\n",
    "res=eval_res['ours']\n",
    "for key, value in res.items():\n",
    "    print(f\"{key}: {value}\")\n"
   ]
  },
  {
   "cell_type": "code",
   "execution_count": null,
   "id": "0ee917a4-88b5-4147-bdc5-fcd0225d7d7a",
   "metadata": {},
   "outputs": [],
   "source": []
  }
 ],
 "metadata": {
  "kernelspec": {
   "display_name": "Python 3 (ipykernel)",
   "language": "python",
   "name": "python3"
  },
  "language_info": {
   "codemirror_mode": {
    "name": "ipython",
    "version": 3
   },
   "file_extension": ".py",
   "mimetype": "text/x-python",
   "name": "python",
   "nbconvert_exporter": "python",
   "pygments_lexer": "ipython3",
   "version": "3.11.11"
  }
 },
 "nbformat": 4,
 "nbformat_minor": 5
}
