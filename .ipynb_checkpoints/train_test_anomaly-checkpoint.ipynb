{
 "cells": [
  {
   "cell_type": "code",
   "execution_count": 2,
   "id": "1e520362-af32-48d5-94ec-d41cd0019a45",
   "metadata": {},
   "outputs": [
    {
     "name": "stdout",
     "output_type": "stream",
     "text": [
      "Collecting einops\n",
      "  Using cached einops-0.8.1-py3-none-any.whl.metadata (13 kB)\n",
      "Using cached einops-0.8.1-py3-none-any.whl (64 kB)\n",
      "Installing collected packages: einops\n",
      "Successfully installed einops-0.8.1\n",
      "Collecting bottleneck\n",
      "  Using cached Bottleneck-1.4.2-cp311-cp311-manylinux_2_5_x86_64.manylinux1_x86_64.manylinux_2_17_x86_64.manylinux2014_x86_64.whl.metadata (7.7 kB)\n",
      "Requirement already satisfied: numpy in /opt/conda/lib/python3.11/site-packages (from bottleneck) (1.26.4)\n",
      "Using cached Bottleneck-1.4.2-cp311-cp311-manylinux_2_5_x86_64.manylinux1_x86_64.manylinux_2_17_x86_64.manylinux2014_x86_64.whl (360 kB)\n",
      "Installing collected packages: bottleneck\n",
      "Successfully installed bottleneck-1.4.2\n"
     ]
    }
   ],
   "source": [
    "!pip install einops\n",
    "!pip install bottleneck\n",
    "%load_ext autoreload\n",
    "%autoreload 2\n",
    "\n",
    "import seaborn as sns\n",
    "from dataclasses import dataclass\n",
    "import matplotlib.pyplot as plt\n",
    "\n",
    "import datautils\n",
    "from utils import init_dl_program\n",
    "from utils import find_closest_train_segment\n",
    "from hdst import HDST\n",
    "import torch\n",
    "import gc\n",
    "import numpy as np"
   ]
  },
  {
   "cell_type": "markdown",
   "id": "a1f05ed6-5654-439d-b90c-f536b47e49b0",
   "metadata": {},
   "source": [
    "## Create Args Configuration Class"
   ]
  },
  {
   "cell_type": "code",
   "execution_count": 3,
   "id": "af8d59d2-5f8f-4473-a0d7-eddf3b4943f8",
   "metadata": {},
   "outputs": [],
   "source": [
    "@dataclass\n",
    "class Args:\n",
    "    task_weights: dict\n",
    "    dataset: str = \"\"\n",
    "    loader: str = \"\"\n",
    "    gpu: int = 0\n",
    "    static_repr_dims: int = 128\n",
    "    dynamic_repr_dims: int = 128\n",
    "    epochs: int = 200\n",
    "\n",
    "    run_name: str = \"\"\n",
    "    batch_size: int = 16\n",
    "    lr: float = 0.001\n",
    "    max_train_length = 800\n",
    "    iters: int = None\n",
    "    save_every = None\n",
    "    seed: int = 1234\n",
    "    max_threads = None\n",
    "    eval: bool = True\n",
    "    irregular = 0\n",
    "\n",
    "    sample_size: int = 50\n",
    "    window_size: int = 20"
   ]
  },
  {
   "cell_type": "markdown",
   "id": "a1bc736c-ca43-4a45-b7b8-d5297b6d74ca",
   "metadata": {},
   "source": [
    "## Instantiate Args Configuration Class\n",
    "Create an instance of arguments, specifying the necessary arguments and those important to your use case."
   ]
  },
  {
   "cell_type": "code",
   "execution_count": 4,
   "id": "51964981-9e2a-4dfa-bbc8-badb1e2ec44c",
   "metadata": {},
   "outputs": [],
   "source": [
    "args = Args(\n",
    "    static_repr_dims=128,\n",
    "    dynamic_repr_dims=128,\n",
    "    task_weights={\n",
    "        'local_static_contrast': 0.33,\n",
    "        'global_vatiant_contrast': 0.33,\n",
    "        'dynamic_trend_pred': 0.34,\n",
    "    },\n",
    "    eval=False,\n",
    "    batch_size=32,\n",
    ")\n",
    "\n",
    "device = init_dl_program(args.gpu, seed=args.seed, max_threads=args.max_threads)"
   ]
  },
  {
   "cell_type": "markdown",
   "id": "ef2757d0-70eb-4625-b386-cf7d380fd4cd",
   "metadata": {},
   "source": [
    "## Load your data\n",
    "Yahoo dataset should be preprocessed using `datasets/preprocess_yahoo.py` and placed at `datasets/yahoo.pkl`."
   ]
  },
  {
   "cell_type": "code",
   "execution_count": 5,
   "id": "a1f56b2e-15a7-44b0-b06b-d7de3c3e2822",
   "metadata": {},
   "outputs": [],
   "source": [
    "# !python datasets/preprocess_yahoo.py --path datasets/ydata-labeled-time-series-anomalies-v1_0"
   ]
  },
  {
   "cell_type": "markdown",
   "id": "8a57ab11-a5dd-4345-9a62-4d964fd443f6",
   "metadata": {},
   "source": [
    "Load yahoo dataset. You can use any data, as long as it is an `np.ndarray` of shape $(N, T, C)$ where $N$ is the number of time-series instances, $T$ the number of timesteps per instance, and $C$ the number of channels."
   ]
  },
  {
   "cell_type": "code",
   "execution_count": 6,
   "id": "dc8966d2-184d-4ae8-a81a-caa095e78025",
   "metadata": {},
   "outputs": [
    {
     "name": "stdout",
     "output_type": "stream",
     "text": [
      "Shapes - train data: (367, 840, 1)\n",
      "[[[-1.60346655]\n",
      "  [ 0.43384724]\n",
      "  [ 2.22206022]\n",
      "  ...\n",
      "  [        nan]\n",
      "  [        nan]\n",
      "  [        nan]]\n",
      "\n",
      " [[ 0.1147439 ]\n",
      "  [ 0.20338772]\n",
      "  [ 0.38369094]\n",
      "  ...\n",
      "  [        nan]\n",
      "  [        nan]\n",
      "  [        nan]]\n",
      "\n",
      " [[-2.34796648]\n",
      "  [ 0.15830203]\n",
      "  [ 1.26731706]\n",
      "  ...\n",
      "  [        nan]\n",
      "  [        nan]\n",
      "  [        nan]]\n",
      "\n",
      " ...\n",
      "\n",
      " [[ 0.70657796]\n",
      "  [ 0.72026035]\n",
      "  [ 0.9594291 ]\n",
      "  ...\n",
      "  [ 0.54901497]\n",
      "  [ 1.55626244]\n",
      "  [        nan]]\n",
      "\n",
      " [[ 1.19416836]\n",
      "  [ 0.91961299]\n",
      "  [ 0.37865706]\n",
      "  ...\n",
      "  [ 1.08959113]\n",
      "  [ 0.14897151]\n",
      "  [        nan]]\n",
      "\n",
      " [[ 1.08918831]\n",
      "  [ 0.56242705]\n",
      "  [-0.09476025]\n",
      "  ...\n",
      "  [ 1.93695141]\n",
      "  [ 0.86342344]\n",
      "  [        nan]]]\n"
     ]
    }
   ],
   "source": [
    "all_train_data, all_train_labels, all_train_timestamps, all_test_data, all_test_labels, all_test_timestamps, delay = datautils.load_anomaly(\"yahoo\")\n",
    "train_data = datautils.gen_ano_train_data(all_train_data)\n",
    "\n",
    "print(f\"Shapes - train data: {train_data.shape}\")\n",
    "print(train_data)\n",
    "# import pandas as pd\n",
    "\n",
    "# df = pd.DataFrame(list(all_test_timestamps.items()), columns=[\"Key\", \"Value\"])\n",
    "# print(len(df[\"Value\"]))\n",
    "# print(len(df[\"Value\"].iloc[0]))\n",
    "# df.head()  # show first 5 rows\n"
   ]
  },
  {
   "cell_type": "markdown",
   "id": "cc89e316-5120-4e3d-919e-83ab4b27a4dc",
   "metadata": {},
   "source": [
    "## Create and Train the model"
   ]
  },
  {
   "cell_type": "code",
   "execution_count": 7,
   "id": "3e0a080c-c734-4bb7-a33b-13e33253b61a",
   "metadata": {},
   "outputs": [
    {
     "data": {
      "text/plain": [
       "0"
      ]
     },
     "execution_count": 7,
     "metadata": {},
     "output_type": "execute_result"
    }
   ],
   "source": [
    "sns.set_theme()\n",
    "torch.cuda.empty_cache()\n",
    "gc.collect()"
   ]
  },
  {
   "cell_type": "code",
   "execution_count": 9,
   "id": "0ce8c7e4-9a28-40fc-99b7-abc2abc9608f",
   "metadata": {},
   "outputs": [
    {
     "name": "stdout",
     "output_type": "stream",
     "text": [
      "Training data shape: (367, 840, 1)\n",
      "Epoch #0: loss=1.6002270741896196\n",
      "Epoch #1: loss=1.5892543142492122\n",
      "Epoch #2: loss=1.5833098454908892\n",
      "Epoch #3: loss=1.5775159055536443\n",
      "Epoch #4: loss=1.570976506580006\n",
      "Epoch #5: loss=1.564807566729459\n",
      "Epoch #6: loss=1.5727879892696033\n",
      "Epoch #7: loss=1.5986157113855535\n",
      "Epoch #8: loss=1.576928366314281\n",
      "Epoch #9: loss=1.5675550265745684\n",
      "Epoch #10: loss=1.5465387322685935\n",
      "Epoch #11: loss=1.5322585756128484\n",
      "Epoch #12: loss=1.5257954380728982\n",
      "Epoch #13: loss=1.5163985815915195\n",
      "Epoch #14: loss=1.4971003315665505\n",
      "Epoch #15: loss=1.5051366524262861\n",
      "Epoch #16: loss=1.4948712587356567\n",
      "Epoch #17: loss=1.4788897904482754\n",
      "Epoch #18: loss=1.461474277756431\n",
      "Epoch #19: loss=1.449479644948786\n",
      "Epoch #20: loss=1.4347172975540161\n",
      "Epoch #21: loss=1.4199004173278809\n",
      "Epoch #22: loss=1.4312043298374524\n",
      "Epoch #23: loss=1.4196173602884465\n",
      "Epoch #24: loss=1.4014667164195667\n",
      "Epoch #25: loss=1.3785723772915928\n",
      "Epoch #26: loss=1.368661111051386\n",
      "Epoch #27: loss=1.3831017234108665\n",
      "Epoch #28: loss=1.3834843960675327\n",
      "Epoch #29: loss=1.3551872101697056\n",
      "Epoch #30: loss=1.3360898928208784\n",
      "Epoch #31: loss=1.3311956362290815\n",
      "Epoch #32: loss=1.3141802874478428\n",
      "Epoch #33: loss=1.3018559325825085\n",
      "Epoch #34: loss=1.296923810785467\n",
      "Epoch #35: loss=1.2865438352931629\n",
      "Epoch #36: loss=1.2848932526328347\n",
      "Epoch #37: loss=1.2709647850556807\n",
      "Epoch #38: loss=1.27307297966697\n",
      "Epoch #39: loss=1.263030225580389\n",
      "Epoch #40: loss=1.2621462561867454\n",
      "Epoch #41: loss=1.2516426606611772\n",
      "Epoch #42: loss=1.245372544635426\n",
      "Epoch #43: loss=1.2366532737558538\n",
      "Epoch #44: loss=1.2340545112436467\n",
      "Epoch #45: loss=1.2224476662549106\n",
      "Epoch #46: loss=1.2167363275181164\n",
      "Epoch #47: loss=1.2192628600380637\n",
      "Epoch #48: loss=1.2220745086669922\n",
      "Epoch #49: loss=1.2109941785985774\n",
      "Epoch #50: loss=1.2016489722511985\n",
      "Epoch #51: loss=1.2028371962634\n",
      "Epoch #52: loss=1.1863550381226973\n",
      "Epoch #53: loss=1.182221531867981\n",
      "Epoch #54: loss=1.186436122114008\n",
      "Epoch #55: loss=1.1755958036942915\n",
      "Epoch #56: loss=1.1783873276277022\n",
      "Epoch #57: loss=1.1677368662574075\n",
      "Epoch #58: loss=1.1648011857813054\n",
      "Epoch #59: loss=1.155844200741161\n",
      "Epoch #60: loss=1.1629667715592817\n",
      "Epoch #61: loss=1.153675989671187\n",
      "Epoch #62: loss=1.14318538795818\n",
      "Epoch #63: loss=1.135259660807523\n",
      "Epoch #64: loss=1.1333813233809038\n",
      "Epoch #65: loss=1.1364007212898948\n",
      "Epoch #66: loss=1.1202322244644165\n",
      "Epoch #67: loss=1.137368462302468\n",
      "Epoch #68: loss=1.1327119198712436\n",
      "Epoch #69: loss=1.1205242330377752\n",
      "Epoch #70: loss=1.117305343801325\n",
      "Epoch #71: loss=1.1119394519112327\n",
      "Epoch #72: loss=1.1056497963992031\n",
      "Epoch #73: loss=1.0885007814927534\n",
      "Epoch #74: loss=1.0917821580713445\n",
      "Epoch #75: loss=1.0887867320667615\n",
      "Epoch #76: loss=1.0769259496168657\n",
      "Epoch #77: loss=1.073186375878074\n",
      "Epoch #78: loss=1.069068106738004\n",
      "Epoch #79: loss=1.0706598433581265\n",
      "Epoch #80: loss=1.054500233043324\n",
      "Epoch #81: loss=1.05475284836509\n",
      "Epoch #82: loss=1.0510897528041492\n",
      "Epoch #83: loss=1.0378629023378545\n",
      "Epoch #84: loss=1.0386539806019177\n",
      "Epoch #85: loss=1.0461100665005771\n",
      "Epoch #86: loss=1.0346395373344421\n",
      "Epoch #87: loss=1.030591439117085\n",
      "Epoch #88: loss=1.0270859057253057\n",
      "Epoch #89: loss=1.0168810053305193\n",
      "Epoch #90: loss=1.0138358907266096\n",
      "Epoch #91: loss=1.0118630799380215\n",
      "Epoch #92: loss=1.0043005401437932\n",
      "Epoch #93: loss=1.0093740929256787\n",
      "Epoch #94: loss=0.9974383278326555\n",
      "Epoch #95: loss=0.9876442334868691\n",
      "Epoch #96: loss=0.9823317148468711\n",
      "Epoch #97: loss=1.0015599836002698\n",
      "Epoch #98: loss=0.985971602526578\n",
      "Epoch #99: loss=0.9695125872438605\n",
      "Epoch #100: loss=0.9665967876260931\n",
      "Epoch #101: loss=0.9733125242319974\n",
      "Epoch #102: loss=0.9553251645781777\n",
      "Epoch #103: loss=0.9579217379743402\n",
      "Epoch #104: loss=0.9665652242573824\n",
      "Epoch #105: loss=0.9535266540267251\n",
      "Epoch #106: loss=0.9393391121517528\n",
      "Epoch #107: loss=0.937185135754672\n",
      "Epoch #108: loss=0.9389929392121055\n",
      "Epoch #109: loss=0.9278700785203413\n",
      "Epoch #110: loss=0.9262204386971213\n",
      "Epoch #111: loss=0.9286211891607805\n",
      "Epoch #112: loss=0.9318199049342762\n",
      "Epoch #113: loss=0.9225935231555592\n",
      "Epoch #114: loss=0.9093283035538413\n",
      "Epoch #115: loss=0.9082626537843184\n",
      "Epoch #116: loss=0.9084515138105913\n",
      "Epoch #117: loss=0.8991882150823419\n",
      "Epoch #118: loss=0.9009688117287376\n",
      "Epoch #119: loss=0.8918348279866305\n",
      "Epoch #120: loss=0.8872737451033159\n",
      "Epoch #121: loss=0.8869148709557273\n",
      "Epoch #122: loss=0.8739649490876631\n",
      "Epoch #123: loss=0.8726091493259777\n",
      "Epoch #124: loss=0.8863188570195978\n",
      "Epoch #125: loss=0.8767009594223716\n",
      "Epoch #126: loss=0.8834293755618009\n",
      "Epoch #127: loss=0.8911704529415477\n",
      "Epoch #128: loss=0.8662613196806475\n",
      "Epoch #129: loss=0.86061246286739\n",
      "Epoch #130: loss=0.8526109457015991\n",
      "Epoch #131: loss=0.8518003225326538\n",
      "Epoch #132: loss=0.8538462357087568\n",
      "Epoch #133: loss=0.8518976514989679\n",
      "Epoch #134: loss=0.8520963462916288\n",
      "Epoch #135: loss=0.8481016484173861\n",
      "Epoch #136: loss=0.8428251472386447\n",
      "Epoch #137: loss=0.8416881290349093\n",
      "Epoch #138: loss=0.8368978066877886\n",
      "Epoch #139: loss=0.8350756981156089\n",
      "Epoch #140: loss=0.8312622688033364\n",
      "Epoch #141: loss=0.8273068829016252\n",
      "Epoch #142: loss=0.8213731267235496\n",
      "Epoch #143: loss=0.833208745176142\n",
      "Epoch #144: loss=0.8231442841616544\n",
      "Epoch #145: loss=0.8201103156263178\n",
      "Epoch #146: loss=0.8171795118938793\n",
      "Epoch #147: loss=0.8127683563665911\n",
      "Epoch #148: loss=0.8123143694617532\n",
      "Epoch #149: loss=0.8057394136082042\n",
      "Epoch #150: loss=0.8036658222025092\n",
      "Epoch #151: loss=0.81240145184777\n",
      "Epoch #152: loss=0.811358321796764\n",
      "Epoch #153: loss=0.7973955815488641\n",
      "Epoch #154: loss=0.7947639172727411\n",
      "Epoch #155: loss=0.8145772001960061\n",
      "Epoch #156: loss=0.8053480007431724\n",
      "Epoch #157: loss=0.7893611626191572\n",
      "Epoch #158: loss=0.7858063578605652\n",
      "Epoch #159: loss=0.7891166535290804\n",
      "Epoch #160: loss=0.7827844836495139\n",
      "Epoch #161: loss=0.7781254920092496\n",
      "Epoch #162: loss=0.7934205477887933\n",
      "Epoch #163: loss=0.7784233851866289\n",
      "Epoch #164: loss=0.780293654311787\n",
      "Epoch #165: loss=0.774456874890761\n",
      "Epoch #166: loss=0.7798522494056008\n",
      "Epoch #167: loss=0.7758270339532332\n",
      "Epoch #168: loss=0.7762223536317999\n",
      "Epoch #169: loss=0.7660490491173484\n",
      "Epoch #170: loss=0.7730277397415855\n",
      "Epoch #171: loss=0.7617314837195657\n",
      "Epoch #172: loss=0.7577963742342863\n",
      "Epoch #173: loss=0.7544129219922152\n",
      "Epoch #174: loss=0.7524297616698525\n",
      "Epoch #175: loss=0.748395253311504\n",
      "Epoch #176: loss=0.7575413367965005\n",
      "Epoch #177: loss=0.7650747136636213\n",
      "Epoch #178: loss=0.7730841474099592\n",
      "Epoch #179: loss=0.748028505932201\n",
      "Epoch #180: loss=0.7544030709700151\n",
      "Epoch #181: loss=0.7526433251120828\n",
      "Epoch #182: loss=0.7488105622204867\n",
      "Epoch #183: loss=0.7493164539337158\n",
      "Epoch #184: loss=0.7484313791448419\n",
      "Epoch #185: loss=0.7392418059435758\n",
      "Epoch #186: loss=0.7383429895747792\n",
      "Epoch #187: loss=0.7375118298964067\n",
      "Epoch #188: loss=0.7345747622576627\n",
      "Epoch #189: loss=0.7296643419699236\n",
      "Epoch #190: loss=0.7359448671340942\n",
      "Epoch #191: loss=0.7214236042716287\n",
      "Epoch #192: loss=0.7276757196946577\n",
      "Epoch #193: loss=0.7319979288361289\n",
      "Epoch #194: loss=0.7289451252330433\n",
      "Epoch #195: loss=0.7354656566273082\n",
      "Epoch #196: loss=0.7263009927489541\n",
      "Epoch #197: loss=0.7285148989070546\n",
      "Epoch #198: loss=0.7320351004600525\n",
      "Epoch #199: loss=0.7153508338061246\n",
      "Model training time: 1144.14 seconds\n"
     ]
    }
   ],
   "source": [
    "import time\n",
    "start_time = time.time()\n",
    "model = HDST(\n",
    "    input_dims=train_data.shape[-1],\n",
    "    device=device,\n",
    "    task_weights=args.task_weights,\n",
    "    batch_size=args.batch_size,\n",
    "    lr=args.lr,\n",
    "    output_dims1=args.static_repr_dims,\n",
    "    output_dims2=args.dynamic_repr_dims,\n",
    "    max_train_length=args.max_train_length\n",
    ")\n",
    "\n",
    "loss_log = model.fit(\n",
    "    train_data,\n",
    "    n_epochs=args.epochs,\n",
    "    n_iters=args.iters,\n",
    "    k=args.sample_size,\n",
    "    w=args.window_size\n",
    ")\n",
    "end_time = time.time()\n",
    "training_time = end_time - start_time\n",
    "print(f\"Model training time: {training_time:.2f} seconds\")"
   ]
  },
  {
   "cell_type": "markdown",
   "id": "b2801942-d5d0-47a1-9f33-f82006f12425",
   "metadata": {},
   "source": [
    "Save model and loss log"
   ]
  },
  {
   "cell_type": "code",
   "execution_count": 10,
   "id": "3ee8e10d-aead-4107-ab00-6b34690ca303",
   "metadata": {},
   "outputs": [],
   "source": [
    "import torch\n",
    "# torch.save(model, 'logs/mymodel_yahoo.pth')\n",
    "import pandas as pd\n",
    "df = pd.DataFrame({\"epoch\": list(range(1, len(loss_log) + 1)), \"loss\": loss_log})\n",
    "df.to_csv(\"logs/loss_log_yahoo.csv\", index=False)"
   ]
  },
  {
   "cell_type": "markdown",
   "id": "2b646a4b-0291-49df-a19b-aa40b4549e5d",
   "metadata": {},
   "source": [
    "Visualize the loss curve and save figure"
   ]
  },
  {
   "cell_type": "code",
   "execution_count": 11,
   "id": "5a97b47a-04d8-45e0-969e-f74ac670576d",
   "metadata": {},
   "outputs": [
    {
     "data": {
      "image/png": "[encoded data removed]",
      "text/plain": [
       "<Figure size 640x480 with 1 Axes>"
      ]
     },
     "metadata": {},
     "output_type": "display_data"
    }
   ],
   "source": [
    "import matplotlib.pyplot as plt\n",
    "# print(loss_log)\n",
    "plt.plot(loss_log, label=\"Loss\")\n",
    "plt.xlabel(\"Epoch\")\n",
    "plt.ylabel(\"Loss\")\n",
    "plt.title(\"Training Loss Curve\")\n",
    "plt.legend()\n",
    "plt.grid(True)\n",
    "plt.savefig(\"loss_curve.png\")\n",
    "plt.show()"
   ]
  },
  {
   "cell_type": "markdown",
   "id": "6bc062a5-48c4-4671-b78d-0dc8d4420c77",
   "metadata": {},
   "source": [
    "## Test the model\n",
    "Firstly, get the representation of training data and test data using `model.encode`. Then train a Ridge regression model using training representation and corresponding training labels. Finally, use the Ridge regression model to do forecasting for test representation. Report the MSE and MAE."
   ]
  },
  {
   "cell_type": "code",
   "execution_count": null,
   "id": "22bba3a8-aa7a-4566-8a39-01abb8bbd31a",
   "metadata": {},
   "outputs": [],
   "source": [
    "from tasks.anomaly_detection import eval_anomaly_detection\n",
    "out, eval_res = eval_anomaly_detection(\n",
    "                model,\n",
    "                all_train_data,\n",
    "                all_train_labels,\n",
    "                all_train_timestamps,\n",
    "                all_test_data,\n",
    "                all_test_labels,\n",
    "                all_test_timestamps,\n",
    "                delay, verbose=True\n",
    "            )"
   ]
  },
  {
   "cell_type": "code",
   "execution_count": 14,
   "id": "2c03bb04-c52d-44f4-90a6-7a895cd4c3f0",
   "metadata": {},
   "outputs": [
    {
     "data": {
      "text/plain": [
       "{'f1': 0.6861888111888111,\n",
       " 'precision': 0.785,\n",
       " 'recall': 0.609472049689441,\n",
       " 'infer_time': 820.9977712631226}"
      ]
     },
     "execution_count": 14,
     "metadata": {},
     "output_type": "execute_result"
    }
   ],
   "source": [
    "eval_res"
   ]
  },
  {
   "cell_type": "code",
   "execution_count": null,
   "id": "0ee917a4-88b5-4147-bdc5-fcd0225d7d7a",
   "metadata": {},
   "outputs": [],
   "source": []
  }
 ],
 "metadata": {
  "kernelspec": {
   "display_name": "Python 3 (ipykernel)",
   "language": "python",
   "name": "python3"
  },
  "language_info": {
   "codemirror_mode": {
    "name": "ipython",
    "version": 3
   },
   "file_extension": ".py",
   "mimetype": "text/x-python",
   "name": "python",
   "nbconvert_exporter": "python",
   "pygments_lexer": "ipython3",
   "version": "3.11.11"
  }
 },
 "nbformat": 4,
 "nbformat_minor": 5
}
