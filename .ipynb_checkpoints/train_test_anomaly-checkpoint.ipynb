{
 "cells": [
  {
   "cell_type": "code",
   "execution_count": 1,
   "id": "1e520362-af32-48d5-94ec-d41cd0019a45",
   "metadata": {},
   "outputs": [
    {
     "name": "stdout",
     "output_type": "stream",
     "text": [
      "Requirement already satisfied: einops in /opt/conda/lib/python3.12/site-packages (0.8.1)\n",
      "Requirement already satisfied: bottleneck in /opt/conda/lib/python3.12/site-packages (1.5.0)\n",
      "Requirement already satisfied: numpy in /opt/conda/lib/python3.12/site-packages (from bottleneck) (1.26.4)\n",
      "Requirement already satisfied: tslearn in /opt/conda/lib/python3.12/site-packages (0.6.3)\n",
      "Requirement already satisfied: numpy in /opt/conda/lib/python3.12/site-packages (from tslearn) (1.26.4)\n",
      "Requirement already satisfied: scipy in /opt/conda/lib/python3.12/site-packages (from tslearn) (1.15.2)\n",
      "Requirement already satisfied: scikit-learn in /opt/conda/lib/python3.12/site-packages (from tslearn) (1.5.2)\n",
      "Requirement already satisfied: numba in /opt/conda/lib/python3.12/site-packages (from tslearn) (0.61.2)\n",
      "Requirement already satisfied: joblib in /opt/conda/lib/python3.12/site-packages (from tslearn) (1.5.0)\n",
      "Requirement already satisfied: llvmlite<0.45,>=0.44.0dev0 in /opt/conda/lib/python3.12/site-packages (from numba->tslearn) (0.44.0)\n",
      "Requirement already satisfied: threadpoolctl>=3.1.0 in /opt/conda/lib/python3.12/site-packages (from scikit-learn->tslearn) (3.6.0)\n"
     ]
    }
   ],
   "source": [
    "!pip install einops\n",
    "!pip install bottleneck\n",
    "!pip install tslearn\n",
    "%load_ext autoreload\n",
    "%autoreload 2\n",
    "\n",
    "import seaborn as sns\n",
    "# from dataclasses import dataclass\n",
    "from dataclasses import dataclass, field\n",
    "import matplotlib.pyplot as plt\n",
    "\n",
    "import datautils\n",
    "from utils import init_dl_program\n",
    "from hdst import HDST\n",
    "import torch\n",
    "import gc\n",
    "import numpy as np"
   ]
  },
  {
   "cell_type": "markdown",
   "id": "a1f05ed6-5654-439d-b90c-f536b47e49b0",
   "metadata": {},
   "source": [
    "## Create Args Configuration Class"
   ]
  },
  {
   "cell_type": "code",
   "execution_count": 2,
   "id": "1c4a79b0-7b35-4c27-ae92-3b0b8fabc329",
   "metadata": {},
   "outputs": [],
   "source": [
    "@dataclass\n",
    "class Args:\n",
    "    task_weights: dict\n",
    "    dataset: str = \"\"\n",
    "    loader: str = \"\"\n",
    "    gpu: int = 0\n",
    "    static_repr_dims: int = 128\n",
    "    dynamic_repr_dims: int = 128\n",
    "    epochs: int = None\n",
    "\n",
    "    run_name: str = \"\"\n",
    "    batch_size: int = 128\n",
    "    lr: float = 0.001\n",
    "    max_train_length = 800\n",
    "    iters: int = None\n",
    "    save_every = None\n",
    "    seed: int = 1234\n",
    "    max_threads = None\n",
    "    eval: bool = True\n",
    "    irregular = 0\n",
    "\n",
    "    sample_size: int = 20\n",
    "    window_size: int = 10\n",
    "    # window_size: str = \"Auto\"\n",
    "    # window_size: list = field(default_factory=lambda: [20, 50, 100, 200, 400, 800])\n",
    "    distance: str = \"mcc\"\n",
    "    top_k: int =3 # Use the top k prominent periodicity as time scale. If use sepcified window size, you can set top_k as random number.\n",
    "    tmp_emb_type: str = \"original\" # Define the embedding type of time stamps. \n",
    "        #'temporal_fixed': using FixedEmbedding with explicit timestamps inputs. Like ETT\n",
    "        #'temporal_learn': using nn.Embedding with explicit timestamps inputs.\n",
    "        #'positional': using PositionalEmbedding with synthetic timestamps inputs. Like UEA\n",
    "        #'original' : using original input to extract dynamic information. \n",
    "    freq: str = 'h' # 'h' for 'ETTh1', 'ETTh2', 't' for 'ETTm1' and 'ETTm2'"
   ]
  },
  {
   "cell_type": "markdown",
   "id": "a1bc736c-ca43-4a45-b7b8-d5297b6d74ca",
   "metadata": {},
   "source": [
    "## Instantiate Args Configuration Class\n",
    "Create an instance of arguments, specifying the necessary arguments and those important to your use case."
   ]
  },
  {
   "cell_type": "code",
   "execution_count": 3,
   "id": "51964981-9e2a-4dfa-bbc8-badb1e2ec44c",
   "metadata": {},
   "outputs": [],
   "source": [
    "args = Args(\n",
    "    static_repr_dims=128,\n",
    "    dynamic_repr_dims=128,\n",
    "    task_weights={\n",
    "        'local_static_contrast': 0.,\n",
    "        'global_vatiant_contrast': 0.9,\n",
    "        'dynamic_trend_pred': 0.1,\n",
    "        'dynamic_trend_pred2': 0.,\n",
    "    },\n",
    "    eval=False,\n",
    ")\n",
    "\n",
    "device = init_dl_program(args.gpu, seed=args.seed, max_threads=args.max_threads)\n",
    "# import os\n",
    "# os.environ['CUDA_LAUNCH_BLOCKING'] = \"1\"\n",
    "# device=\"cpu\""
   ]
  },
  {
   "cell_type": "markdown",
   "id": "ef2757d0-70eb-4625-b386-cf7d380fd4cd",
   "metadata": {},
   "source": [
    "## Load your data\n",
    "Yahoo dataset should be preprocessed using `datasets/preprocess_yahoo.py` and placed at `datasets/yahoo.pkl`."
   ]
  },
  {
   "cell_type": "code",
   "execution_count": 4,
   "id": "a1f56b2e-15a7-44b0-b06b-d7de3c3e2822",
   "metadata": {},
   "outputs": [],
   "source": [
    "# !python datasets/preprocess_yahoo.py --path datasets/ydata-labeled-time-series-anomalies-v1_0\n",
    "# !pip install tables\n",
    "# !python datasets/preprocess_kpi.py --train-file datasets/KPI/phase2_train.csv --test-file datasets/KPI/phase2_ground_truth.hdf"
   ]
  },
  {
   "cell_type": "markdown",
   "id": "8a57ab11-a5dd-4345-9a62-4d964fd443f6",
   "metadata": {},
   "source": [
    "Load yahoo dataset. You can use any data, as long as it is an `np.ndarray` of shape $(N, T, C)$ where $N$ is the number of time-series instances, $T$ the number of timesteps per instance, and $C$ the number of channels."
   ]
  },
  {
   "cell_type": "code",
   "execution_count": 5,
   "id": "dc8966d2-184d-4ae8-a81a-caa095e78025",
   "metadata": {},
   "outputs": [
    {
     "name": "stdout",
     "output_type": "stream",
     "text": [
      "Shapes - train data: (58, 74580, 1)\n",
      "1\n"
     ]
    }
   ],
   "source": [
    "all_train_data, all_train_labels, all_train_timestamps, all_test_data, all_test_labels, all_test_timestamps, delay = datautils.load_anomaly(\"kpi\")\n",
    "train_data = datautils.gen_ano_train_data(all_train_data)\n",
    "n_channels=train_data.shape[2]\n",
    "print(f\"Shapes - train data: {train_data.shape}\")\n",
    "# print(all_train_timestamps)\n",
    "print(n_channels)\n",
    "# print(train_data)\n",
    "# import pandas as pd\n",
    "\n",
    "# df = pd.DataFrame(list(all_test_timestamps.items()), columns=[\"Key\", \"Value\"])\n",
    "# print(len(df[\"Value\"]))\n",
    "# print(len(df[\"Value\"].iloc[0]))\n",
    "# df.head()  # show first 5 rows\n"
   ]
  },
  {
   "cell_type": "code",
   "execution_count": 6,
   "id": "35674073-ab0f-4f45-ba82-7762f7d7afa6",
   "metadata": {},
   "outputs": [
    {
     "name": "stdout",
     "output_type": "stream",
     "text": [
      "[24860, 18645, 74580, 14916, 37290]\n"
     ]
    }
   ],
   "source": [
    "from torch.utils.data import TensorDataset, DataLoader\n",
    "from utils import FFT_for_Period\n",
    "train_data_temp = (torch.from_numpy(train_data).to(torch.float))\n",
    "scale_list, scale_weight = FFT_for_Period(train_data_temp, 5)\n",
    "print(scale_list)"
   ]
  },
  {
   "cell_type": "markdown",
   "id": "cc89e316-5120-4e3d-919e-83ab4b27a4dc",
   "metadata": {},
   "source": [
    "## Create and Train the model"
   ]
  },
  {
   "cell_type": "code",
   "execution_count": 7,
   "id": "3e0a080c-c734-4bb7-a33b-13e33253b61a",
   "metadata": {},
   "outputs": [
    {
     "data": {
      "text/plain": [
       "20"
      ]
     },
     "execution_count": 7,
     "metadata": {},
     "output_type": "execute_result"
    }
   ],
   "source": [
    "sns.set_theme()\n",
    "torch.cuda.empty_cache()\n",
    "gc.collect()"
   ]
  },
  {
   "cell_type": "code",
   "execution_count": 8,
   "id": "0ce8c7e4-9a28-40fc-99b7-abc2abc9608f",
   "metadata": {},
   "outputs": [
    {
     "name": "stdout",
     "output_type": "stream",
     "text": [
      "Training data shape: (3719, 802, 1)\n",
      "Scale list: [10]\n"
     ]
    },
    {
     "name": "stderr",
     "output_type": "stream",
     "text": [
      "Training: 20it [07:04, 21.20s/it, epoch=20, loss=0.278]"
     ]
    },
    {
     "name": "stdout",
     "output_type": "stream",
     "text": [
      "Model training time: 426.19 seconds\n"
     ]
    },
    {
     "name": "stderr",
     "output_type": "stream",
     "text": [
      "\n"
     ]
    }
   ],
   "source": [
    "import time\n",
    "import os\n",
    "# os.environ['CUDA_LAUNCH_BLOCKING'] = \"1\"\n",
    "\n",
    "start_time = time.time()\n",
    "model = HDST(\n",
    "    input_dims=train_data.shape[-1],\n",
    "    tmp_embed_type=args.tmp_emb_type,\n",
    "    freq=args.freq,\n",
    "    device=device,\n",
    "    task_weights=args.task_weights,\n",
    "    batch_size=args.batch_size,\n",
    "    lr=args.lr,\n",
    "    output_dims1=args.static_repr_dims,\n",
    "    output_dims2=args.dynamic_repr_dims,\n",
    "    max_train_length=args.max_train_length\n",
    ")\n",
    "\n",
    "loss_log = model.fit(\n",
    "    train_data,\n",
    "    n_epochs=args.epochs,\n",
    "    n_iters=args.iters,\n",
    "    k=args.sample_size,\n",
    "    w=args.window_size,\n",
    "    distance=args.distance,\n",
    "    top_k=args.top_k,\n",
    "    n_channels=n_channels\n",
    ")\n",
    "end_time = time.time()\n",
    "training_time = end_time - start_time\n",
    "print(f\"Model training time: {training_time:.2f} seconds\")"
   ]
  },
  {
   "cell_type": "markdown",
   "id": "b2801942-d5d0-47a1-9f33-f82006f12425",
   "metadata": {},
   "source": [
    "Save model and loss log"
   ]
  },
  {
   "cell_type": "code",
   "execution_count": 9,
   "id": "3ee8e10d-aead-4107-ab00-6b34690ca303",
   "metadata": {},
   "outputs": [],
   "source": [
    "# import torch\n",
    "# # torch.save(model, 'logs/mymodel_yahoo.pth')\n",
    "# import pandas as pd\n",
    "# df = pd.DataFrame({\"epoch\": list(range(1, len(loss_log) + 1)), \"loss\": loss_log})\n",
    "# df.to_csv(\"logs/loss_log_yahoo.csv\", index=False)"
   ]
  },
  {
   "cell_type": "markdown",
   "id": "2b646a4b-0291-49df-a19b-aa40b4549e5d",
   "metadata": {},
   "source": [
    "Visualize the loss curve and save figure"
   ]
  },
  {
   "cell_type": "code",
   "execution_count": 10,
   "id": "5a97b47a-04d8-45e0-969e-f74ac670576d",
   "metadata": {},
   "outputs": [
    {
     "data": {
      "image/png": "[encoded data removed]",
      "text/plain": [
       "<Figure size 640x480 with 1 Axes>"
      ]
     },
     "metadata": {},
     "output_type": "display_data"
    }
   ],
   "source": [
    "import matplotlib.pyplot as plt\n",
    "# print(loss_log)\n",
    "plt.plot(loss_log, label=\"Loss\")\n",
    "plt.xlabel(\"Epoch\")\n",
    "plt.ylabel(\"Loss\")\n",
    "plt.title(\"Training Loss Curve\")\n",
    "plt.legend()\n",
    "plt.grid(True)\n",
    "plt.savefig(\"loss_curve.png\")\n",
    "plt.show()"
   ]
  },
  {
   "cell_type": "markdown",
   "id": "6bc062a5-48c4-4671-b78d-0dc8d4420c77",
   "metadata": {},
   "source": [
    "## Test the model\n",
    "Firstly, get the representation of training data and test data using `model.encode`. Then train a Ridge regression model using training representation and corresponding training labels. Finally, use the Ridge regression model to do forecasting for test representation. Report the MSE and MAE."
   ]
  },
  {
   "cell_type": "code",
   "execution_count": 11,
   "id": "22bba3a8-aa7a-4566-8a39-01abb8bbd31a",
   "metadata": {},
   "outputs": [
    {
     "name": "stdout",
     "output_type": "stream",
     "text": [
      "Encoding representations with mask...\n",
      "Encoding representations without mask...\n",
      "Done\n",
      "Computing anomalies\n",
      "Done! Execution time: 2680.713316679001\n"
     ]
    }
   ],
   "source": [
    "from tasks.anomaly_detection import eval_anomaly_detection\n",
    "out, eval_res = eval_anomaly_detection(\n",
    "                model,\n",
    "                n_channels,\n",
    "                all_train_data,\n",
    "                all_train_labels,\n",
    "                all_train_timestamps,\n",
    "                all_test_data,\n",
    "                all_test_labels,\n",
    "                all_test_timestamps,\n",
    "                delay, verbose=True\n",
    "            )"
   ]
  },
  {
   "cell_type": "code",
   "execution_count": 12,
   "id": "2c03bb04-c52d-44f4-90a6-7a895cd4c3f0",
   "metadata": {},
   "outputs": [
    {
     "data": {
      "text/plain": [
       "{'f1': 0.08905436800616827,\n",
       " 'precision': 0.3083462132921175,\n",
       " 'recall': 0.05204244975395743,\n",
       " 'infer_time': 2680.713316679001}"
      ]
     },
     "execution_count": 12,
     "metadata": {},
     "output_type": "execute_result"
    }
   ],
   "source": [
    "eval_res"
   ]
  },
  {
   "cell_type": "code",
   "execution_count": null,
   "id": "0ee917a4-88b5-4147-bdc5-fcd0225d7d7a",
   "metadata": {},
   "outputs": [],
   "source": []
  }
 ],
 "metadata": {
  "kernelspec": {
   "display_name": "Python 3 (ipykernel)",
   "language": "python",
   "name": "python3"
  },
  "language_info": {
   "codemirror_mode": {
    "name": "ipython",
    "version": 3
   },
   "file_extension": ".py",
   "mimetype": "text/x-python",
   "name": "python",
   "nbconvert_exporter": "python",
   "pygments_lexer": "ipython3",
   "version": "3.12.9"
  }
 },
 "nbformat": 4,
 "nbformat_minor": 5
}
