{
 "cells": [
  {
   "cell_type": "code",
   "execution_count": 71,
   "id": "1e520362-af32-48d5-94ec-d41cd0019a45",
   "metadata": {},
   "outputs": [
    {
     "name": "stdout",
     "output_type": "stream",
     "text": [
      "Requirement already satisfied: einops in /opt/conda/lib/python3.11/site-packages (0.8.1)\n",
      "The autoreload extension is already loaded. To reload it, use:\n",
      "  %reload_ext autoreload\n"
     ]
    }
   ],
   "source": [
    "!pip install einops\n",
    "%load_ext autoreload\n",
    "%autoreload 2\n",
    "\n",
    "import seaborn as sns\n",
    "from dataclasses import dataclass\n",
    "import matplotlib.pyplot as plt\n",
    "\n",
    "import datautils\n",
    "from utils import init_dl_program\n",
    "from hdst import HDST\n",
    "import torch\n",
    "import gc\n",
    "import numpy as np"
   ]
  },
  {
   "cell_type": "markdown",
   "id": "a1f05ed6-5654-439d-b90c-f536b47e49b0",
   "metadata": {},
   "source": [
    "## Create Args Configuration Class"
   ]
  },
  {
   "cell_type": "code",
   "execution_count": 72,
   "id": "af8d59d2-5f8f-4473-a0d7-eddf3b4943f8",
   "metadata": {},
   "outputs": [],
   "source": [
    "@dataclass\n",
    "class Args:\n",
    "    task_weights: dict\n",
    "    dataset: str = \"\"\n",
    "    loader: str = \"\"\n",
    "    gpu: int = 0\n",
    "    static_repr_dims: int = 128\n",
    "    dynamic_repr_dims: int = 128\n",
    "    epochs: int = 200\n",
    "\n",
    "    run_name: str = \"\"\n",
    "    batch_size: int = 16\n",
    "    lr: float = 0.001\n",
    "    max_train_length = 1000\n",
    "    iters: int = None\n",
    "    save_every = None\n",
    "    seed: int = 1234\n",
    "    max_threads = None\n",
    "    eval: bool = True\n",
    "    irregular = 0\n",
    "\n",
    "    sample_size: int = 5\n",
    "    window_size: int = None # Use None for multi-scale\n",
    "    top_k: int =2 # Use the top k prominent periodicity as time scale. If use sepcified window size, you can set top_k as random number."
   ]
  },
  {
   "cell_type": "markdown",
   "id": "a1bc736c-ca43-4a45-b7b8-d5297b6d74ca",
   "metadata": {},
   "source": [
    "## Instantiate Args Configuration Class\n",
    "Create an instance of arguments, specifying the necessary arguments and those important to your use case."
   ]
  },
  {
   "cell_type": "code",
   "execution_count": 73,
   "id": "51964981-9e2a-4dfa-bbc8-badb1e2ec44c",
   "metadata": {},
   "outputs": [],
   "source": [
    "args = Args(\n",
    "    static_repr_dims=128,\n",
    "    dynamic_repr_dims=128,\n",
    "    task_weights={\n",
    "        'local_static_contrast': 0,\n",
    "        'global_vatiant_contrast': 0,\n",
    "        'dynamic_trend_pred': 1,\n",
    "    },\n",
    "    eval=False,\n",
    "    batch_size=32,\n",
    ")\n",
    "\n",
    "device = init_dl_program(args.gpu, seed=args.seed, max_threads=args.max_threads)"
   ]
  },
  {
   "cell_type": "markdown",
   "id": "ef2757d0-70eb-4625-b386-cf7d380fd4cd",
   "metadata": {},
   "source": [
    "## Load your data\n",
    "You can use any data, as long as it is an `np.ndarray` of shape $(N, T, C)$ where $N$ is the number of time-series instances, $T$ the number of timesteps per instance, and $C$ the number of channels.\n",
    "Choosing from 'ETTh1', 'ETTh2', 'ETTm1' and 'ETTm2'"
   ]
  },
  {
   "cell_type": "code",
   "execution_count": 74,
   "id": "dc8966d2-184d-4ae8-a81a-caa095e78025",
   "metadata": {},
   "outputs": [
    {
     "name": "stdout",
     "output_type": "stream",
     "text": [
      "Shapes - train data: (1, 8640, 7), test data: (1, 2880, 7)\n",
      "[24, 48, 168, 336, 720]\n"
     ]
    }
   ],
   "source": [
    "data, train_slice, valid_slice, test_slice, scaler, pred_lens = datautils.load_forecast_csv(\"ETTh2\")\n",
    "train_data = data[:, train_slice]\n",
    "test_data = data[:, test_slice]\n",
    "print(f\"Shapes - train data: {train_data.shape}, test data: {test_data.shape}\")\n",
    "print(pred_lens)"
   ]
  },
  {
   "cell_type": "code",
   "execution_count": 75,
   "id": "ff056654-aebc-4af3-b55a-0c75df0bebc9",
   "metadata": {},
   "outputs": [
    {
     "name": "stdout",
     "output_type": "stream",
     "text": [
      "[8640 4320 2880 2160 1728]\n"
     ]
    }
   ],
   "source": [
    "from torch.utils.data import TensorDataset, DataLoader\n",
    "from utils import FFT_for_Period\n",
    "train_data_temp = (torch.from_numpy(train_data).to(torch.float))\n",
    "scale_list, scale_weight = FFT_for_Period(train_data_temp, 5)\n",
    "print(scale_list)"
   ]
  },
  {
   "cell_type": "markdown",
   "id": "cc89e316-5120-4e3d-919e-83ab4b27a4dc",
   "metadata": {},
   "source": [
    "## Create and Train the model"
   ]
  },
  {
   "cell_type": "code",
   "execution_count": 76,
   "id": "3e0a080c-c734-4bb7-a33b-13e33253b61a",
   "metadata": {},
   "outputs": [
    {
     "data": {
      "text/plain": [
       "4048"
      ]
     },
     "execution_count": 76,
     "metadata": {},
     "output_type": "execute_result"
    }
   ],
   "source": [
    "sns.set_theme()\n",
    "torch.cuda.empty_cache()\n",
    "gc.collect()"
   ]
  },
  {
   "cell_type": "code",
   "execution_count": 79,
   "id": "0ce8c7e4-9a28-40fc-99b7-abc2abc9608f",
   "metadata": {},
   "outputs": [
    {
     "name": "stdout",
     "output_type": "stream",
     "text": [
      "Training data shape: (8, 1080, 7)\n",
      "Epoch #0: loss=0.016984442248940468\n",
      "Epoch #1: loss=0.008480295538902283\n",
      "Epoch #2: loss=0.004553752485662699\n",
      "Epoch #3: loss=0.003194929100573063\n",
      "Epoch #4: loss=0.0023480188101530075\n",
      "Epoch #5: loss=0.0017681010067462921\n",
      "Epoch #6: loss=0.001377327018417418\n",
      "Epoch #7: loss=0.0012231216533109546\n",
      "Epoch #8: loss=0.0012644613161683083\n",
      "Epoch #9: loss=0.0011792241130024195\n",
      "Epoch #10: loss=0.001084820949472487\n",
      "Epoch #11: loss=0.001020706258714199\n",
      "Epoch #12: loss=0.0009742268593981862\n",
      "Epoch #13: loss=0.000933875679038465\n",
      "Epoch #14: loss=0.0008859208901412785\n",
      "Epoch #15: loss=0.0008380120852962136\n",
      "Epoch #16: loss=0.0007933118613436818\n",
      "Epoch #17: loss=0.0007685559685342014\n",
      "Epoch #18: loss=0.0007468303665518761\n",
      "Epoch #19: loss=0.0007235510856844485\n",
      "Epoch #20: loss=0.0007090428844094276\n",
      "Epoch #21: loss=0.0006947850342839956\n",
      "Epoch #22: loss=0.0006892846431583166\n",
      "Epoch #23: loss=0.0006701567908748984\n",
      "Epoch #24: loss=0.0006675018812529743\n",
      "Epoch #25: loss=0.0006647473201155663\n",
      "Epoch #26: loss=0.0006634696619585156\n",
      "Epoch #27: loss=0.0006571323028765619\n",
      "Epoch #28: loss=0.0006489962106570601\n",
      "Epoch #29: loss=0.0006360112456604838\n",
      "Epoch #30: loss=0.0006314540514722466\n",
      "Epoch #31: loss=0.0006212817970663309\n",
      "Epoch #32: loss=0.0006160137709230185\n",
      "Epoch #33: loss=0.0006139209144748747\n",
      "Epoch #34: loss=0.0006086451467126608\n",
      "Epoch #35: loss=0.0006054827244952321\n",
      "Epoch #36: loss=0.0006032894016243517\n",
      "Epoch #37: loss=0.0006026503397151828\n",
      "Epoch #38: loss=0.0005994110833853483\n",
      "Epoch #39: loss=0.0005981518770568073\n",
      "Epoch #40: loss=0.0005923372227698565\n",
      "Epoch #41: loss=0.0005925021832808852\n",
      "Epoch #42: loss=0.0005910469917580485\n",
      "Epoch #43: loss=0.0005878838710486889\n",
      "Epoch #44: loss=0.0005833112518303096\n",
      "Epoch #45: loss=0.0005865309503860772\n",
      "Epoch #46: loss=0.0005810125730931759\n",
      "Epoch #47: loss=0.0005807065172120929\n",
      "Epoch #48: loss=0.0005785311805084348\n",
      "Epoch #49: loss=0.0005789443384855986\n",
      "Epoch #50: loss=0.0005773670854978263\n",
      "Epoch #51: loss=0.0005756717291660607\n",
      "Epoch #52: loss=0.0005754025769419968\n",
      "Epoch #53: loss=0.0005750449490733445\n",
      "Epoch #54: loss=0.0005756649188697338\n",
      "Epoch #55: loss=0.0005749319097958505\n",
      "Epoch #56: loss=0.0005742706125602126\n",
      "Epoch #57: loss=0.0005702425260096788\n",
      "Epoch #58: loss=0.0005707363598048687\n",
      "Epoch #59: loss=0.0005702762864530087\n",
      "Epoch #60: loss=0.0005712335696443915\n",
      "Epoch #61: loss=0.0005728611722588539\n",
      "Epoch #62: loss=0.0005700240726582706\n",
      "Epoch #63: loss=0.0005698477616533637\n",
      "Epoch #64: loss=0.0005673529813066125\n",
      "Epoch #65: loss=0.0005679130554199219\n",
      "Epoch #66: loss=0.0005678478628396988\n",
      "Epoch #67: loss=0.0005649279337376356\n",
      "Epoch #68: loss=0.0005680078756995499\n",
      "Epoch #69: loss=0.0005655968561768532\n",
      "Epoch #70: loss=0.0005666939541697502\n",
      "Epoch #71: loss=0.000567027076613158\n",
      "Epoch #72: loss=0.0005662951152771711\n",
      "Epoch #73: loss=0.0005648562218993902\n",
      "Epoch #74: loss=0.000564714428037405\n",
      "Epoch #75: loss=0.0005650818347930908\n",
      "Epoch #76: loss=0.0005638391594402492\n",
      "Epoch #77: loss=0.0005641517927870154\n",
      "Epoch #78: loss=0.0005633016116917133\n",
      "Epoch #79: loss=0.0005628442158922553\n",
      "Epoch #80: loss=0.0005626328638754785\n",
      "Epoch #81: loss=0.0005634744884446263\n",
      "Epoch #82: loss=0.0005626683123409748\n",
      "Epoch #83: loss=0.0005616600392386317\n",
      "Epoch #84: loss=0.0005640767049044371\n",
      "Epoch #85: loss=0.0005626780912280083\n",
      "Epoch #86: loss=0.0005591617664322257\n",
      "Epoch #87: loss=0.0005606313934549689\n",
      "Epoch #88: loss=0.0005610588705167174\n",
      "Epoch #89: loss=0.000561881810426712\n",
      "Epoch #90: loss=0.0005604370380751789\n",
      "Epoch #91: loss=0.0005606620688922703\n",
      "Epoch #92: loss=0.0005611168453469872\n",
      "Epoch #93: loss=0.0005608135834336281\n",
      "Epoch #94: loss=0.0005605307524092495\n",
      "Epoch #95: loss=0.000558802392333746\n",
      "Epoch #96: loss=0.0005608648061752319\n",
      "Epoch #97: loss=0.0005572802037931979\n",
      "Epoch #98: loss=0.0005593915702775121\n",
      "Epoch #99: loss=0.0005584009340964258\n",
      "Epoch #100: loss=0.0005583593156188726\n",
      "Epoch #101: loss=0.0005588505882769823\n",
      "Epoch #102: loss=0.0005576832918450236\n",
      "Epoch #103: loss=0.0005566676263697445\n",
      "Epoch #104: loss=0.0005552757065743208\n",
      "Epoch #105: loss=0.0005581171717494726\n",
      "Epoch #106: loss=0.000559936510398984\n",
      "Epoch #107: loss=0.0005580645520240068\n",
      "Epoch #108: loss=0.0005561693105846643\n",
      "Epoch #109: loss=0.000557531020604074\n",
      "Epoch #110: loss=0.0005577410338446498\n",
      "Epoch #111: loss=0.0005573690286837518\n",
      "Epoch #112: loss=0.000557082355953753\n",
      "Epoch #113: loss=0.0005563607555814087\n",
      "Epoch #114: loss=0.0005559474229812622\n",
      "Epoch #115: loss=0.000555372447706759\n",
      "Epoch #116: loss=0.0005551077192649245\n",
      "Epoch #117: loss=0.0005560124991461635\n",
      "Epoch #118: loss=0.0005562452133744955\n",
      "Epoch #119: loss=0.0005537240649573505\n",
      "Epoch #120: loss=0.0005569957429543138\n",
      "Epoch #121: loss=0.0005562120350077748\n",
      "Epoch #122: loss=0.0005550230271182954\n",
      "Epoch #123: loss=0.000557922525331378\n",
      "Epoch #124: loss=0.0005556378746405244\n",
      "Epoch #125: loss=0.0005542394937947392\n",
      "Epoch #126: loss=0.0005544453742913902\n",
      "Epoch #127: loss=0.0005566879990510643\n",
      "Epoch #128: loss=0.0005547298351302743\n",
      "Epoch #129: loss=0.0005549624329432845\n",
      "Epoch #130: loss=0.0005547038745135069\n",
      "Epoch #131: loss=0.0005561551079154015\n",
      "Epoch #132: loss=0.0005565308965742588\n",
      "Epoch #133: loss=0.0005544560262933373\n",
      "Epoch #134: loss=0.0005554897943511605\n",
      "Epoch #135: loss=0.0005547396140173078\n",
      "Epoch #136: loss=0.0005548433982767165\n",
      "Epoch #137: loss=0.0005542176077142358\n",
      "Epoch #138: loss=0.0005549734341911972\n",
      "Epoch #139: loss=0.0005577384727075696\n",
      "Epoch #140: loss=0.0005566346226260066\n",
      "Epoch #141: loss=0.0005539655685424805\n",
      "Epoch #142: loss=0.0005541323334909976\n",
      "Epoch #143: loss=0.0005533720832318068\n",
      "Epoch #144: loss=0.0005559967830777168\n",
      "Epoch #145: loss=0.0005530312191694975\n",
      "Epoch #146: loss=0.0005546327447518706\n",
      "Epoch #147: loss=0.0005554038798436522\n",
      "Epoch #148: loss=0.0005536513635888696\n",
      "Epoch #149: loss=0.0005540254060178995\n",
      "Epoch #150: loss=0.0005552929360419512\n",
      "Epoch #151: loss=0.0005540493875741959\n",
      "Epoch #152: loss=0.0005547014879994094\n",
      "Epoch #153: loss=0.0005547187174670398\n",
      "Epoch #154: loss=0.0005535788368433714\n",
      "Epoch #155: loss=0.0005540347192436457\n",
      "Epoch #156: loss=0.0005528648616746068\n",
      "Epoch #157: loss=0.0005551602225750685\n",
      "Epoch #158: loss=0.0005523044383153319\n",
      "Epoch #159: loss=0.0005527125904336572\n",
      "Epoch #160: loss=0.0005544247105717659\n",
      "Epoch #161: loss=0.0005543447914533317\n",
      "Epoch #162: loss=0.0005521287675946951\n",
      "Epoch #163: loss=0.0005529650370590389\n",
      "Epoch #164: loss=0.0005515337688848376\n",
      "Epoch #165: loss=0.0005511686904355884\n",
      "Epoch #166: loss=0.0005484662251546979\n",
      "Epoch #167: loss=0.0005464995629154146\n",
      "Epoch #168: loss=0.0005474740173667669\n",
      "Epoch #169: loss=0.000544812879525125\n",
      "Epoch #170: loss=0.0005413743201643229\n",
      "Epoch #171: loss=0.0005413404433056712\n",
      "Epoch #172: loss=0.0005405687843449414\n",
      "Epoch #173: loss=0.0005406532436609268\n",
      "Epoch #174: loss=0.0005401781527325511\n",
      "Epoch #175: loss=0.0005400084191933274\n",
      "Epoch #176: loss=0.0005403071409091353\n",
      "Epoch #177: loss=0.0005392987513914704\n",
      "Epoch #178: loss=0.0005393838509917259\n",
      "Epoch #179: loss=0.0005387138808146119\n",
      "Epoch #180: loss=0.0005388931022025645\n",
      "Epoch #181: loss=0.0005357951740734279\n",
      "Epoch #182: loss=0.0005380603251978755\n",
      "Epoch #183: loss=0.0005365051329135895\n",
      "Epoch #184: loss=0.0005381259834393859\n",
      "Epoch #185: loss=0.0005367087433114648\n",
      "Epoch #186: loss=0.0005385375116020441\n",
      "Epoch #187: loss=0.0005363347008824348\n",
      "Epoch #188: loss=0.0005361888324841857\n",
      "Epoch #189: loss=0.00053718953859061\n",
      "Epoch #190: loss=0.0005350080318748951\n",
      "Epoch #191: loss=0.0005376090412028134\n",
      "Epoch #192: loss=0.0005356475012376904\n",
      "Epoch #193: loss=0.0005377370398491621\n",
      "Epoch #194: loss=0.0005362766096368432\n",
      "Epoch #195: loss=0.000537807063665241\n",
      "Epoch #196: loss=0.0005361801595427096\n",
      "Epoch #197: loss=0.0005358995404094458\n",
      "Epoch #198: loss=0.000536195992026478\n",
      "Epoch #199: loss=0.0005352048901841044\n",
      "Model training time: 46.13 seconds\n"
     ]
    }
   ],
   "source": [
    "import time\n",
    "start_time = time.time()\n",
    "model = HDST(\n",
    "    input_dims=train_data.shape[-1],\n",
    "    device=device,\n",
    "    task_weights=args.task_weights,\n",
    "    batch_size=args.batch_size,\n",
    "    lr=args.lr,\n",
    "    output_dims1=args.static_repr_dims,\n",
    "    output_dims2=args.dynamic_repr_dims,\n",
    "    max_train_length=args.max_train_length\n",
    ")\n",
    "\n",
    "loss_log = model.fit(\n",
    "    train_data,\n",
    "    n_epochs=args.epochs,\n",
    "    n_iters=args.iters,\n",
    "    k=args.sample_size,\n",
    "    w=args.window_size,\n",
    "    top_k=args.top_k\n",
    ")\n",
    "end_time = time.time()\n",
    "training_time = end_time - start_time\n",
    "print(f\"Model training time: {training_time:.2f} seconds\")"
   ]
  },
  {
   "cell_type": "markdown",
   "id": "b2801942-d5d0-47a1-9f33-f82006f12425",
   "metadata": {},
   "source": [
    "Save model and loss log"
   ]
  },
  {
   "cell_type": "code",
   "execution_count": 80,
   "id": "3ee8e10d-aead-4107-ab00-6b34690ca303",
   "metadata": {},
   "outputs": [],
   "source": [
    "# import torch\n",
    "# torch.save(model, 'logs/mymodel_ETTh1.pth')\n",
    "# import pandas as pd\n",
    "# df = pd.DataFrame({\"epoch\": list(range(1, len(loss_log) + 1)), \"loss\": loss_log})\n",
    "# df.to_csv(\"logs/loss_log_ETTh1.csv\", index=False)"
   ]
  },
  {
   "cell_type": "markdown",
   "id": "2b646a4b-0291-49df-a19b-aa40b4549e5d",
   "metadata": {},
   "source": [
    "Visualize the loss curve and save figure"
   ]
  },
  {
   "cell_type": "code",
   "execution_count": 81,
   "id": "5a97b47a-04d8-45e0-969e-f74ac670576d",
   "metadata": {},
   "outputs": [
    {
     "data": {
      "image/png": "[encoded data removed]",
      "text/plain": [
       "<Figure size 640x480 with 1 Axes>"
      ]
     },
     "metadata": {},
     "output_type": "display_data"
    }
   ],
   "source": [
    "import matplotlib.pyplot as plt\n",
    "# print(loss_log)\n",
    "plt.plot(loss_log, label=\"Loss\")\n",
    "plt.xlabel(\"Epoch\")\n",
    "plt.ylabel(\"Loss\")\n",
    "plt.title(\"Training Loss Curve\")\n",
    "plt.legend()\n",
    "plt.grid(True)\n",
    "plt.savefig(\"loss_curve.png\")\n",
    "plt.show()"
   ]
  },
  {
   "cell_type": "markdown",
   "id": "6bc062a5-48c4-4671-b78d-0dc8d4420c77",
   "metadata": {},
   "source": [
    "## Test the model\n",
    "Firstly, get the representation of training data and test data using `model.encode`. Then train a Ridge regression model using training representation and corresponding training labels. Finally, use the Ridge regression model to do forecasting for test representation. Report the MSE and MAE."
   ]
  },
  {
   "cell_type": "code",
   "execution_count": 82,
   "id": "22bba3a8-aa7a-4566-8a39-01abb8bbd31a",
   "metadata": {},
   "outputs": [
    {
     "name": "stdout",
     "output_type": "stream",
     "text": [
      "24: {'norm': {'MSE': 0.36485548428171016, 'MAE': 0.44826084262403837}, 'raw': {'MSE': 22.69264700841583, 'MAE': 3.442968669206182}}\n",
      "48: {'norm': {'MSE': 0.5565576218932308, 'MAE': 0.5651633882995255}, 'raw': {'MSE': 35.71296375313536, 'MAE': 4.391382709057635}}\n",
      "168: {'norm': {'MSE': 2.1382677899788916, 'MAE': 1.1180443448401718}, 'raw': {'MSE': 91.50557622378903, 'MAE': 7.687590250631925}}\n",
      "336: {'norm': {'MSE': 2.885514036434343, 'MAE': 1.3653090466417217}, 'raw': {'MSE': 147.36801232419725, 'MAE': 9.8099469939726}}\n",
      "720: {'norm': {'MSE': 2.6514066532803358, 'MAE': 1.3661012304693092}, 'raw': {'MSE': 134.1714933307638, 'MAE': 9.736807882322637}}\n"
     ]
    }
   ],
   "source": [
    "from tasks.forecasting import eval_forecasting\n",
    "out, eval_res = eval_forecasting(\n",
    "                model,\n",
    "                data,\n",
    "                train_slice,\n",
    "                valid_slice,\n",
    "                test_slice,\n",
    "                scaler,\n",
    "                pred_lens\n",
    "            )\n",
    "res=eval_res['ours']\n",
    "for key, value in res.items():\n",
    "    print(f\"{key}: {value}\")\n"
   ]
  },
  {
   "cell_type": "code",
   "execution_count": null,
   "id": "0ee917a4-88b5-4147-bdc5-fcd0225d7d7a",
   "metadata": {},
   "outputs": [],
   "source": []
  }
 ],
 "metadata": {
  "kernelspec": {
   "display_name": "Python 3 (ipykernel)",
   "language": "python",
   "name": "python3"
  },
  "language_info": {
   "codemirror_mode": {
    "name": "ipython",
    "version": 3
   },
   "file_extension": ".py",
   "mimetype": "text/x-python",
   "name": "python",
   "nbconvert_exporter": "python",
   "pygments_lexer": "ipython3",
   "version": "3.11.11"
  }
 },
 "nbformat": 4,
 "nbformat_minor": 5
}
