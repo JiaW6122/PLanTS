{
 "cells": [
  {
   "cell_type": "code",
   "execution_count": 1,
   "id": "1e520362-af32-48d5-94ec-d41cd0019a45",
   "metadata": {},
   "outputs": [
    {
     "name": "stdout",
     "output_type": "stream",
     "text": [
      "Collecting einops\n",
      "  Downloading einops-0.8.1-py3-none-any.whl.metadata (13 kB)\n",
      "Downloading einops-0.8.1-py3-none-any.whl (64 kB)\n",
      "Installing collected packages: einops\n",
      "Successfully installed einops-0.8.1\n"
     ]
    }
   ],
   "source": [
    "!pip install einops\n",
    "%load_ext autoreload\n",
    "%autoreload 2\n",
    "\n",
    "import seaborn as sns\n",
    "from dataclasses import dataclass\n",
    "import matplotlib.pyplot as plt\n",
    "\n",
    "import datautils\n",
    "from utils import init_dl_program\n",
    "from utils import find_closest_train_segment\n",
    "from hdst import HDST\n",
    "import torch\n",
    "import gc\n",
    "import numpy as np"
   ]
  },
  {
   "cell_type": "markdown",
   "id": "a1f05ed6-5654-439d-b90c-f536b47e49b0",
   "metadata": {},
   "source": [
    "## Create Args Configuration Class"
   ]
  },
  {
   "cell_type": "code",
   "execution_count": 2,
   "id": "af8d59d2-5f8f-4473-a0d7-eddf3b4943f8",
   "metadata": {},
   "outputs": [],
   "source": [
    "@dataclass\n",
    "class Args:\n",
    "    task_weights: dict\n",
    "    dataset: str = \"\"\n",
    "    loader: str = \"\"\n",
    "    gpu: int = 0\n",
    "    static_repr_dims: int = 128\n",
    "    dynamic_repr_dims: int = 128\n",
    "    epochs: int = 200\n",
    "\n",
    "    run_name: str = \"\"\n",
    "    batch_size: int = 16\n",
    "    lr: float = 0.001\n",
    "    max_train_length = 800\n",
    "    iters: int = None\n",
    "    save_every = None\n",
    "    seed: int = 1234\n",
    "    max_threads = None\n",
    "    eval: bool = True\n",
    "    irregular = 0\n",
    "\n",
    "    sample_size: int = 50\n",
    "    window_size: int = 20"
   ]
  },
  {
   "cell_type": "markdown",
   "id": "a1bc736c-ca43-4a45-b7b8-d5297b6d74ca",
   "metadata": {},
   "source": [
    "## Instantiate Args Configuration Class\n",
    "Create an instance of arguments, specifying the necessary arguments and those important to your use case."
   ]
  },
  {
   "cell_type": "code",
   "execution_count": 10,
   "id": "51964981-9e2a-4dfa-bbc8-badb1e2ec44c",
   "metadata": {},
   "outputs": [],
   "source": [
    "args = Args(\n",
    "    static_repr_dims=128,\n",
    "    dynamic_repr_dims=128,\n",
    "    task_weights={\n",
    "        'local_static_contrast': 0,\n",
    "        'global_vatiant_contrast': 0,\n",
    "        'dynamic_trend_pred': 1,\n",
    "    },\n",
    "    eval=False,\n",
    "    batch_size=32,\n",
    ")\n",
    "\n",
    "device = init_dl_program(args.gpu, seed=args.seed, max_threads=args.max_threads)"
   ]
  },
  {
   "cell_type": "markdown",
   "id": "ef2757d0-70eb-4625-b386-cf7d380fd4cd",
   "metadata": {},
   "source": [
    "## Load your data\n",
    "You can use any data, as long as it is an `np.ndarray` of shape $(N, T, C)$ where $N$ is the number of time-series instances, $T$ the number of timesteps per instance, and $C$ the number of channels.\n",
    "Choosing from 'ETTh1', 'ETTh2', 'ETTm1' and 'ETTm2'"
   ]
  },
  {
   "cell_type": "code",
   "execution_count": 11,
   "id": "dc8966d2-184d-4ae8-a81a-caa095e78025",
   "metadata": {},
   "outputs": [
    {
     "name": "stdout",
     "output_type": "stream",
     "text": [
      "Shapes - train data: (1, 8640, 7), test data: (1, 2880, 7)\n",
      "[24, 48, 168, 336, 720]\n"
     ]
    }
   ],
   "source": [
    "data, train_slice, valid_slice, test_slice, scaler, pred_lens = datautils.load_forecast_csv(\"ETTh1\")\n",
    "train_data = data[:, train_slice]\n",
    "test_data = data[:, test_slice]\n",
    "print(f\"Shapes - train data: {train_data.shape}, test data: {test_data.shape}\")\n",
    "print(pred_lens)"
   ]
  },
  {
   "cell_type": "markdown",
   "id": "cc89e316-5120-4e3d-919e-83ab4b27a4dc",
   "metadata": {},
   "source": [
    "## Create and Train the model"
   ]
  },
  {
   "cell_type": "code",
   "execution_count": 12,
   "id": "3e0a080c-c734-4bb7-a33b-13e33253b61a",
   "metadata": {},
   "outputs": [
    {
     "data": {
      "text/plain": [
       "0"
      ]
     },
     "execution_count": 12,
     "metadata": {},
     "output_type": "execute_result"
    }
   ],
   "source": [
    "sns.set_theme()\n",
    "torch.cuda.empty_cache()\n",
    "gc.collect()"
   ]
  },
  {
   "cell_type": "code",
   "execution_count": 13,
   "id": "0ce8c7e4-9a28-40fc-99b7-abc2abc9608f",
   "metadata": {},
   "outputs": [
    {
     "name": "stdout",
     "output_type": "stream",
     "text": [
      "Training data shape: (10, 864, 7)\n",
      "Epoch #0: loss=0.016951175406575203\n",
      "Epoch #1: loss=0.006185862235724926\n",
      "Epoch #2: loss=0.003930713050067425\n",
      "Epoch #3: loss=0.0027111503295600414\n",
      "Epoch #4: loss=0.0020391647703945637\n",
      "Epoch #5: loss=0.0016333017265424132\n",
      "Epoch #6: loss=0.0013891862472519279\n",
      "Epoch #7: loss=0.0012433117954060435\n",
      "Epoch #8: loss=0.0011497490340843797\n",
      "Epoch #9: loss=0.0010896545136347413\n",
      "Epoch #10: loss=0.0010378427105024457\n",
      "Epoch #11: loss=0.0009618013864383101\n",
      "Epoch #12: loss=0.0008831804152578115\n",
      "Epoch #13: loss=0.0008090102928690612\n",
      "Epoch #14: loss=0.0007559384102933109\n",
      "Epoch #15: loss=0.0007044330704957247\n",
      "Epoch #16: loss=0.0006567391101270914\n",
      "Epoch #17: loss=0.0006288894219323993\n",
      "Epoch #18: loss=0.00060419732471928\n",
      "Epoch #19: loss=0.0005725607043132186\n",
      "Epoch #20: loss=0.000563860812690109\n",
      "Epoch #21: loss=0.0005496453959494829\n",
      "Epoch #22: loss=0.0005390336154960096\n",
      "Epoch #23: loss=0.0005241266917437315\n",
      "Epoch #24: loss=0.000499474466778338\n",
      "Epoch #25: loss=0.0004832377308048308\n",
      "Epoch #26: loss=0.00047609847388230264\n",
      "Epoch #27: loss=0.0004650027258321643\n",
      "Epoch #28: loss=0.0004521902010310441\n",
      "Epoch #29: loss=0.0004489704442676157\n",
      "Epoch #30: loss=0.000441530515672639\n",
      "Epoch #31: loss=0.0004377407894935459\n",
      "Epoch #32: loss=0.0004301186418160796\n",
      "Epoch #33: loss=0.00042466397280804813\n",
      "Epoch #34: loss=0.00042358424980193377\n",
      "Epoch #35: loss=0.0004202789277769625\n",
      "Epoch #36: loss=0.00041605852311477065\n",
      "Epoch #37: loss=0.000413429836044088\n",
      "Epoch #38: loss=0.00041076840716414154\n",
      "Epoch #39: loss=0.00040574921877123415\n",
      "Epoch #40: loss=0.00040500526665709913\n",
      "Epoch #41: loss=0.00039786697016097605\n",
      "Epoch #42: loss=0.00039385369746014476\n",
      "Epoch #43: loss=0.00039403719711117446\n",
      "Epoch #44: loss=0.0003897737478837371\n",
      "Epoch #45: loss=0.0003911606327164918\n",
      "Epoch #46: loss=0.0003905686899088323\n",
      "Epoch #47: loss=0.00038464937824755907\n",
      "Epoch #48: loss=0.00038570628385059536\n",
      "Epoch #49: loss=0.00037907142541371286\n",
      "Epoch #50: loss=0.00037857715506106615\n",
      "Epoch #51: loss=0.000377840013243258\n",
      "Epoch #52: loss=0.00037668889854103327\n",
      "Epoch #53: loss=0.0003775459772441536\n",
      "Epoch #54: loss=0.00037574919406324625\n",
      "Epoch #55: loss=0.000375885923858732\n",
      "Epoch #56: loss=0.0003739036328624934\n",
      "Epoch #57: loss=0.000374751805793494\n",
      "Epoch #58: loss=0.0003702829126268625\n",
      "Epoch #59: loss=0.0003710438613779843\n",
      "Epoch #60: loss=0.0003695261257234961\n",
      "Epoch #61: loss=0.0003724341804627329\n",
      "Epoch #62: loss=0.00037040800089016557\n",
      "Epoch #63: loss=0.0003701198729686439\n",
      "Epoch #64: loss=0.0003705294511746615\n",
      "Epoch #65: loss=0.0003686382551677525\n",
      "Epoch #66: loss=0.0003687154676299542\n",
      "Epoch #67: loss=0.0003742407134268433\n",
      "Epoch #68: loss=0.00036890743649564683\n",
      "Epoch #69: loss=0.0003711302124429494\n",
      "Epoch #70: loss=0.0003712135658133775\n",
      "Epoch #71: loss=0.0003688307770062238\n",
      "Epoch #72: loss=0.00036819028900936246\n",
      "Epoch #73: loss=0.00036936503602191806\n",
      "Epoch #74: loss=0.00036934675881639123\n",
      "Epoch #75: loss=0.0003681487578433007\n",
      "Epoch #76: loss=0.0003677817585412413\n",
      "Epoch #77: loss=0.0003660347720142454\n",
      "Epoch #78: loss=0.00036635107244364917\n",
      "Epoch #79: loss=0.0003679175570141524\n",
      "Epoch #80: loss=0.00036783711402677\n",
      "Epoch #81: loss=0.00036650869878940284\n",
      "Epoch #82: loss=0.00036710224230773747\n",
      "Epoch #83: loss=0.00036672159330919385\n",
      "Epoch #84: loss=0.0003632605366874486\n",
      "Epoch #85: loss=0.000368001899914816\n",
      "Epoch #86: loss=0.00036409200401976705\n",
      "Epoch #87: loss=0.00036719493800774217\n",
      "Epoch #88: loss=0.0003659366921056062\n",
      "Epoch #89: loss=0.0003643547825049609\n",
      "Epoch #90: loss=0.00036283282679505646\n",
      "Epoch #91: loss=0.00036439383984543383\n",
      "Epoch #92: loss=0.0003642219817265868\n",
      "Epoch #93: loss=0.00036243160138837993\n",
      "Epoch #94: loss=0.0003614486486185342\n",
      "Epoch #95: loss=0.0003605432284530252\n",
      "Epoch #96: loss=0.00036362113314680755\n",
      "Epoch #97: loss=0.00036342060775496066\n",
      "Epoch #98: loss=0.0003628630074672401\n",
      "Epoch #99: loss=0.0003626998222898692\n",
      "Epoch #100: loss=0.00036368067958392203\n",
      "Epoch #101: loss=0.00036155691486783326\n",
      "Epoch #102: loss=0.00036412887857295573\n",
      "Epoch #103: loss=0.0003618798218667507\n",
      "Epoch #104: loss=0.00036098589771427214\n",
      "Epoch #105: loss=0.0003595137095544487\n",
      "Epoch #106: loss=0.0003649469290394336\n",
      "Epoch #107: loss=0.00036128555075265467\n",
      "Epoch #108: loss=0.00036329039721749723\n",
      "Epoch #109: loss=0.00036238256143406034\n",
      "Epoch #110: loss=0.0003607249236665666\n",
      "Epoch #111: loss=0.00036244658986106515\n",
      "Epoch #112: loss=0.0003630869905464351\n",
      "Epoch #113: loss=0.0003592821885831654\n",
      "Epoch #114: loss=0.00036150403320789337\n",
      "Epoch #115: loss=0.0003620693169068545\n",
      "Epoch #116: loss=0.0003630922583397478\n",
      "Epoch #117: loss=0.00036170484963804483\n",
      "Epoch #118: loss=0.00036178354639559984\n",
      "Epoch #119: loss=0.00035985809518024325\n",
      "Epoch #120: loss=0.00036218398599885404\n",
      "Epoch #121: loss=0.0003612519067246467\n",
      "Epoch #122: loss=0.0003599023912101984\n",
      "Epoch #123: loss=0.0003593149594962597\n",
      "Epoch #124: loss=0.0003616205358412117\n",
      "Epoch #125: loss=0.00035912514431402087\n",
      "Epoch #126: loss=0.00035918812500312924\n",
      "Epoch #127: loss=0.0003610207058954984\n",
      "Epoch #128: loss=0.00036049302434548736\n",
      "Epoch #129: loss=0.00036145589547231793\n",
      "Epoch #130: loss=0.00035701546585187316\n",
      "Epoch #131: loss=0.0003599179326556623\n",
      "Epoch #132: loss=0.00036037940299138427\n",
      "Epoch #133: loss=0.0003603327495511621\n",
      "Epoch #134: loss=0.00035735167330130935\n",
      "Epoch #135: loss=0.00035952639882452786\n",
      "Epoch #136: loss=0.0003615580790210515\n",
      "Epoch #137: loss=0.0003579652402549982\n",
      "Epoch #138: loss=0.000359001278411597\n",
      "Epoch #139: loss=0.0003603283257689327\n",
      "Epoch #140: loss=0.0003582712379284203\n",
      "Epoch #141: loss=0.0003578724863473326\n",
      "Epoch #142: loss=0.00035912173916585743\n",
      "Epoch #143: loss=0.00036205866490490735\n",
      "Epoch #144: loss=0.00035781532642431557\n",
      "Epoch #145: loss=0.00035799210309050977\n",
      "Epoch #146: loss=0.0003594191512092948\n",
      "Epoch #147: loss=0.0003610411658883095\n",
      "Epoch #148: loss=0.0003584711521398276\n",
      "Epoch #149: loss=0.00035657768603414297\n",
      "Epoch #150: loss=0.00035785840009339154\n",
      "Epoch #151: loss=0.0003564407816156745\n",
      "Epoch #152: loss=0.0003582928911782801\n",
      "Epoch #153: loss=0.0003561470075510442\n",
      "Epoch #154: loss=0.0003565536462701857\n",
      "Epoch #155: loss=0.00035613778163678944\n",
      "Epoch #156: loss=0.0003575281298253685\n",
      "Epoch #157: loss=0.0003577004245016724\n",
      "Epoch #158: loss=0.0003582113713491708\n",
      "Epoch #159: loss=0.0003591082349885255\n",
      "Epoch #160: loss=0.0003592186258174479\n",
      "Epoch #161: loss=0.0003563827776815742\n",
      "Epoch #162: loss=0.0003560406039468944\n",
      "Epoch #163: loss=0.0003539624740369618\n",
      "Epoch #164: loss=0.0003568486717995256\n",
      "Epoch #165: loss=0.000355076597770676\n",
      "Epoch #166: loss=0.00035815912997350097\n",
      "Epoch #167: loss=0.00036210427060723305\n",
      "Epoch #168: loss=0.0003546991792973131\n",
      "Epoch #169: loss=0.00035263923928141594\n",
      "Epoch #170: loss=0.00035353671410121024\n",
      "Epoch #171: loss=0.0003595341113395989\n",
      "Epoch #172: loss=0.00035654206294566393\n",
      "Epoch #173: loss=0.0003524544008541852\n",
      "Epoch #174: loss=0.00035649375058710575\n",
      "Epoch #175: loss=0.0003563336213119328\n",
      "Epoch #176: loss=0.00035533105256035924\n",
      "Epoch #177: loss=0.000356867938535288\n",
      "Epoch #178: loss=0.0003573115391191095\n",
      "Epoch #179: loss=0.0003542504273355007\n",
      "Epoch #180: loss=0.0003567978856153786\n",
      "Epoch #181: loss=0.0003570530971046537\n",
      "Epoch #182: loss=0.00035362664493732154\n",
      "Epoch #183: loss=0.00035520619712769985\n",
      "Epoch #184: loss=0.00035789559478871524\n",
      "Epoch #185: loss=0.0003539467288646847\n",
      "Epoch #186: loss=0.0003537256852723658\n",
      "Epoch #187: loss=0.0003562752390280366\n",
      "Epoch #188: loss=0.00035354981082491577\n",
      "Epoch #189: loss=0.0003530684334691614\n",
      "Epoch #190: loss=0.0003580702468752861\n",
      "Epoch #191: loss=0.00035704096080735326\n",
      "Epoch #192: loss=0.00035639465204440057\n",
      "Epoch #193: loss=0.0003542867780197412\n",
      "Epoch #194: loss=0.0003548241511452943\n",
      "Epoch #195: loss=0.00035434492747299373\n",
      "Epoch #196: loss=0.0003555812290869653\n",
      "Epoch #197: loss=0.0003520870814099908\n",
      "Epoch #198: loss=0.0003559669421520084\n",
      "Epoch #199: loss=0.0003535839496180415\n",
      "Model training time: 26.26 seconds\n"
     ]
    }
   ],
   "source": [
    "import time\n",
    "start_time = time.time()\n",
    "model = HDST(\n",
    "    input_dims=train_data.shape[-1],\n",
    "    device=device,\n",
    "    task_weights=args.task_weights,\n",
    "    batch_size=args.batch_size,\n",
    "    lr=args.lr,\n",
    "    output_dims1=args.static_repr_dims,\n",
    "    output_dims2=args.dynamic_repr_dims,\n",
    "    max_train_length=args.max_train_length\n",
    ")\n",
    "\n",
    "loss_log = model.fit(\n",
    "    train_data,\n",
    "    n_epochs=args.epochs,\n",
    "    n_iters=args.iters,\n",
    "    k=args.sample_size,\n",
    "    w=args.window_size\n",
    ")\n",
    "end_time = time.time()\n",
    "training_time = end_time - start_time\n",
    "print(f\"Model training time: {training_time:.2f} seconds\")"
   ]
  },
  {
   "cell_type": "markdown",
   "id": "b2801942-d5d0-47a1-9f33-f82006f12425",
   "metadata": {},
   "source": [
    "Save model and loss log"
   ]
  },
  {
   "cell_type": "code",
   "execution_count": 14,
   "id": "3ee8e10d-aead-4107-ab00-6b34690ca303",
   "metadata": {},
   "outputs": [],
   "source": [
    "import torch\n",
    "torch.save(model, 'mymodel_ETTh1.pth')\n",
    "import pandas as pd\n",
    "df = pd.DataFrame({\"epoch\": list(range(1, len(loss_log) + 1)), \"loss\": loss_log})\n",
    "df.to_csv(\"loss_log_ETTh1.csv\", index=False)"
   ]
  },
  {
   "cell_type": "markdown",
   "id": "2b646a4b-0291-49df-a19b-aa40b4549e5d",
   "metadata": {},
   "source": [
    "Visualize the loss curve and save figure"
   ]
  },
  {
   "cell_type": "code",
   "execution_count": 15,
   "id": "5a97b47a-04d8-45e0-969e-f74ac670576d",
   "metadata": {},
   "outputs": [
    {
     "data": {
      "image/png": "[encoded data removed]",
      "text/plain": [
       "<Figure size 640x480 with 1 Axes>"
      ]
     },
     "metadata": {},
     "output_type": "display_data"
    }
   ],
   "source": [
    "import matplotlib.pyplot as plt\n",
    "# print(loss_log)\n",
    "plt.plot(loss_log, label=\"Loss\")\n",
    "plt.xlabel(\"Epoch\")\n",
    "plt.ylabel(\"Loss\")\n",
    "plt.title(\"Training Loss Curve\")\n",
    "plt.legend()\n",
    "plt.grid(True)\n",
    "plt.savefig(\"loss_curve.png\")\n",
    "plt.show()"
   ]
  },
  {
   "cell_type": "markdown",
   "id": "6bc062a5-48c4-4671-b78d-0dc8d4420c77",
   "metadata": {},
   "source": [
    "## Test the model\n",
    "Firstly, get the representation of training data and test data using `model.encode`. Then train a Ridge regression model using training representation and corresponding training labels. Finally, use the Ridge regression model to do forecasting for test representation. Report the MSE and MAE."
   ]
  },
  {
   "cell_type": "code",
   "execution_count": 16,
   "id": "22bba3a8-aa7a-4566-8a39-01abb8bbd31a",
   "metadata": {},
   "outputs": [
    {
     "name": "stdout",
     "output_type": "stream",
     "text": [
      "24: {'norm': {'MSE': 0.5565053445003253, 'MAE': 0.49736163040439313}, 'raw': {'MSE': 9.249993089101432, 'MAE': 1.6475488562159843}}\n",
      "48: {'norm': {'MSE': 0.5921183579356384, 'MAE': 0.525191319753037}, 'raw': {'MSE': 10.235303355360944, 'MAE': 1.7782019035524608}}\n",
      "168: {'norm': {'MSE': 0.7872599382981638, 'MAE': 0.6443405254468182}, 'raw': {'MSE': 12.661591495788585, 'MAE': 2.1317056660272997}}\n",
      "336: {'norm': {'MSE': 0.9951050293958258, 'MAE': 0.7579650647142826}, 'raw': {'MSE': 14.598729049605092, 'MAE': 2.4372077735328905}}\n",
      "720: {'norm': {'MSE': 1.156674949745874, 'MAE': 0.8426143369023678}, 'raw': {'MSE': 15.286192258908873, 'MAE': 2.6612748894383964}}\n"
     ]
    }
   ],
   "source": [
    "from tasks.forecasting import eval_forecasting\n",
    "out, eval_res = eval_forecasting(\n",
    "                model,\n",
    "                data,\n",
    "                train_slice,\n",
    "                valid_slice,\n",
    "                test_slice,\n",
    "                scaler,\n",
    "                pred_lens\n",
    "            )\n",
    "res=eval_res['ours']\n",
    "for key, value in res.items():\n",
    "    print(f\"{key}: {value}\")\n"
   ]
  },
  {
   "cell_type": "code",
   "execution_count": null,
   "id": "0ee917a4-88b5-4147-bdc5-fcd0225d7d7a",
   "metadata": {},
   "outputs": [],
   "source": []
  }
 ],
 "metadata": {
  "kernelspec": {
   "display_name": "Python 3 (ipykernel)",
   "language": "python",
   "name": "python3"
  },
  "language_info": {
   "codemirror_mode": {
    "name": "ipython",
    "version": 3
   },
   "file_extension": ".py",
   "mimetype": "text/x-python",
   "name": "python",
   "nbconvert_exporter": "python",
   "pygments_lexer": "ipython3",
   "version": "3.11.11"
  }
 },
 "nbformat": 4,
 "nbformat_minor": 5
}
