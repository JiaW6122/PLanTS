{
 "cells": [
  {
   "cell_type": "code",
   "execution_count": 1,
   "id": "1e520362-af32-48d5-94ec-d41cd0019a45",
   "metadata": {},
   "outputs": [
    {
     "name": "stdout",
     "output_type": "stream",
     "text": [
      "Collecting einops\n",
      "  Using cached einops-0.8.1-py3-none-any.whl.metadata (13 kB)\n",
      "Using cached einops-0.8.1-py3-none-any.whl (64 kB)\n",
      "Installing collected packages: einops\n",
      "Successfully installed einops-0.8.1\n"
     ]
    }
   ],
   "source": [
    "!pip install einops\n",
    "%load_ext autoreload\n",
    "%autoreload 2\n",
    "\n",
    "import seaborn as sns\n",
    "from dataclasses import dataclass\n",
    "import matplotlib.pyplot as plt\n",
    "\n",
    "import datautils\n",
    "from utils import init_dl_program\n",
    "from hdst import HDST\n",
    "import torch\n",
    "import gc\n",
    "import numpy as np"
   ]
  },
  {
   "cell_type": "markdown",
   "id": "a1f05ed6-5654-439d-b90c-f536b47e49b0",
   "metadata": {},
   "source": [
    "## Create Args Configuration Class"
   ]
  },
  {
   "cell_type": "code",
   "execution_count": 19,
   "id": "af8d59d2-5f8f-4473-a0d7-eddf3b4943f8",
   "metadata": {},
   "outputs": [],
   "source": [
    "@dataclass\n",
    "class Args:\n",
    "    task_weights: dict\n",
    "    dataset: str = \"\"\n",
    "    loader: str = \"\"\n",
    "    gpu: int = 0\n",
    "    static_repr_dims: int = 128\n",
    "    dynamic_repr_dims: int = 128\n",
    "    epochs: int = 200\n",
    "\n",
    "    run_name: str = \"\"\n",
    "    batch_size: int = 16\n",
    "    lr: float = 0.001\n",
    "    max_train_length = 800\n",
    "    iters: int = None\n",
    "    save_every = None\n",
    "    seed: int = 1234\n",
    "    max_threads = None\n",
    "    eval: bool = True\n",
    "    irregular = 0\n",
    "\n",
    "    sample_size: int = 50\n",
    "    window_size: int = 5"
   ]
  },
  {
   "cell_type": "markdown",
   "id": "a1bc736c-ca43-4a45-b7b8-d5297b6d74ca",
   "metadata": {},
   "source": [
    "## Instantiate Args Configuration Class\n",
    "Create an instance of arguments, specifying the necessary arguments and those important to your use case."
   ]
  },
  {
   "cell_type": "code",
   "execution_count": 20,
   "id": "51964981-9e2a-4dfa-bbc8-badb1e2ec44c",
   "metadata": {},
   "outputs": [],
   "source": [
    "args = Args(\n",
    "    static_repr_dims=128,\n",
    "    dynamic_repr_dims=128,\n",
    "    task_weights={\n",
    "        'local_static_contrast': 0.33,\n",
    "        'global_vatiant_contrast': 0.33,\n",
    "        'dynamic_trend_pred': 0.34,\n",
    "    },\n",
    "    eval=False,\n",
    "    batch_size=32,\n",
    ")\n",
    "\n",
    "device = init_dl_program(args.gpu, seed=args.seed, max_threads=args.max_threads)"
   ]
  },
  {
   "cell_type": "markdown",
   "id": "ef2757d0-70eb-4625-b386-cf7d380fd4cd",
   "metadata": {},
   "source": [
    "## Load your HAR data\n",
    "The UCIHAR dataset records 6 activities of daily living, i.e., walking, sitting, laying, standing, walking upstairs and walking downstairs. 30 participants at an age between 19 to 48 carry a smartphone on the waist while performing the activities. The smartphone records reading at a sampling rate of 50 Hz. The time-series measurements are pre-processed to extract 561 features."
   ]
  },
  {
   "cell_type": "markdown",
   "id": "65738d9e-12d5-4e26-ac5c-f47d3d31096c",
   "metadata": {},
   "source": [
    "Preprocess the HAR data to concatenate individual measurements. Shape of processed data: $(N, C, T)$ where $N$ is the number of time-series instances, $T$ the number of timesteps per instance, and $C$ the number of channels."
   ]
  },
  {
   "cell_type": "code",
   "execution_count": 21,
   "id": "b16f833c-04a7-439d-8233-da5997f54afa",
   "metadata": {},
   "outputs": [],
   "source": [
    "# !python datasets/preprocess_HAR.py"
   ]
  },
  {
   "cell_type": "code",
   "execution_count": 22,
   "id": "69519846-5bef-4610-886f-d9ae3140be74",
   "metadata": {},
   "outputs": [
    {
     "name": "stdout",
     "output_type": "stream",
     "text": [
      "Shapes - train data: (21, 561, 281), test data: (9, 561, 288)\n",
      "Shapes - train labels: (21, 281), test labels: (9, 288)\n"
     ]
    }
   ],
   "source": [
    "train_data, train_labels, test_data, test_labels = datautils.load_HAR(\"HAR_data\")\n",
    "print(f\"Shapes - train data: {train_data.shape}, test data: {test_data.shape}\")\n",
    "print(f\"Shapes - train labels: {train_labels.shape}, test labels: {test_labels.shape}\")"
   ]
  },
  {
   "cell_type": "markdown",
   "id": "3d638eaf-a7b6-4e24-800b-00647d28e84c",
   "metadata": {},
   "source": [
    "Reorder the dimension and form your data into an `np.ndarray` of shape $(N, T, C)$"
   ]
  },
  {
   "cell_type": "code",
   "execution_count": 23,
   "id": "f4306fa3-14ff-41db-a427-03eea470fd27",
   "metadata": {},
   "outputs": [
    {
     "name": "stdout",
     "output_type": "stream",
     "text": [
      "Shapes - train data: (21, 281, 561), test data: (9, 288, 561)\n",
      "Shapes - train labels: (21, 281), test labels: (9, 288)\n"
     ]
    }
   ],
   "source": [
    "train_data = np.transpose(train_data, (0, 2, 1)) \n",
    "test_data = np.transpose(test_data, (0, 2, 1))    \n",
    "print(f\"Shapes - train data: {train_data.shape}, test data: {test_data.shape}\")\n",
    "print(f\"Shapes - train labels: {train_labels.shape}, test labels: {test_labels.shape}\")"
   ]
  },
  {
   "cell_type": "markdown",
   "id": "cc89e316-5120-4e3d-919e-83ab4b27a4dc",
   "metadata": {},
   "source": [
    "## Create and Train the model"
   ]
  },
  {
   "cell_type": "code",
   "execution_count": 24,
   "id": "3e0a080c-c734-4bb7-a33b-13e33253b61a",
   "metadata": {},
   "outputs": [
    {
     "data": {
      "text/plain": [
       "3477"
      ]
     },
     "execution_count": 24,
     "metadata": {},
     "output_type": "execute_result"
    }
   ],
   "source": [
    "sns.set_theme()\n",
    "torch.cuda.empty_cache()\n",
    "gc.collect()"
   ]
  },
  {
   "cell_type": "code",
   "execution_count": 25,
   "id": "0ce8c7e4-9a28-40fc-99b7-abc2abc9608f",
   "metadata": {},
   "outputs": [
    {
     "name": "stdout",
     "output_type": "stream",
     "text": [
      "Training data shape: (21, 281, 561)\n",
      "Epoch #0: loss=1.2359646558761597\n",
      "Epoch #1: loss=2.489485025405884\n",
      "Epoch #2: loss=1.23723304271698\n",
      "Epoch #3: loss=1.2339050769805908\n",
      "Epoch #4: loss=1.2331393957138062\n",
      "Epoch #5: loss=1.232339859008789\n",
      "Epoch #6: loss=1.2309372425079346\n",
      "Epoch #7: loss=1.2308143377304077\n",
      "Epoch #8: loss=1.2340971231460571\n",
      "Epoch #9: loss=1.2302314043045044\n",
      "Epoch #10: loss=1.2297133207321167\n",
      "Epoch #11: loss=1.2291878461837769\n",
      "Epoch #12: loss=1.230139970779419\n",
      "Epoch #13: loss=1.2288668155670166\n",
      "Epoch #14: loss=1.2255644798278809\n",
      "Epoch #15: loss=1.2245978116989136\n",
      "Epoch #16: loss=1.2238385677337646\n",
      "Epoch #17: loss=1.2243462800979614\n",
      "Epoch #18: loss=1.226793646812439\n",
      "Epoch #19: loss=1.2244796752929688\n",
      "Epoch #20: loss=1.2209945917129517\n",
      "Epoch #21: loss=1.2265053987503052\n",
      "Epoch #22: loss=1.2216588258743286\n",
      "Epoch #23: loss=1.2188867330551147\n",
      "Epoch #24: loss=1.2180241346359253\n",
      "Epoch #25: loss=1.2122465372085571\n",
      "Epoch #26: loss=1.213141918182373\n",
      "Epoch #27: loss=1.2216815948486328\n",
      "Epoch #28: loss=1.21040678024292\n",
      "Epoch #29: loss=1.2173012495040894\n",
      "Epoch #30: loss=1.2139158248901367\n",
      "Epoch #31: loss=1.2097995281219482\n",
      "Epoch #32: loss=1.2032898664474487\n",
      "Epoch #33: loss=1.208773136138916\n",
      "Epoch #34: loss=1.2037005424499512\n",
      "Epoch #35: loss=1.2060139179229736\n",
      "Epoch #36: loss=1.2011948823928833\n",
      "Epoch #37: loss=1.1986100673675537\n",
      "Epoch #38: loss=1.2007651329040527\n",
      "Epoch #39: loss=1.1919046640396118\n",
      "Epoch #40: loss=1.190553069114685\n",
      "Epoch #41: loss=1.1949177980422974\n",
      "Epoch #42: loss=1.18223237991333\n",
      "Epoch #43: loss=1.1876137256622314\n",
      "Epoch #44: loss=1.1884994506835938\n",
      "Epoch #45: loss=1.1840907335281372\n",
      "Epoch #46: loss=1.1930965185165405\n",
      "Epoch #47: loss=1.162975549697876\n",
      "Epoch #48: loss=1.177893042564392\n",
      "Epoch #49: loss=1.1675578355789185\n",
      "Epoch #50: loss=1.1889482736587524\n",
      "Epoch #51: loss=1.1833584308624268\n",
      "Epoch #52: loss=1.1921157836914062\n",
      "Epoch #53: loss=1.1840869188308716\n",
      "Epoch #54: loss=1.188994288444519\n",
      "Epoch #55: loss=1.1843246221542358\n",
      "Epoch #56: loss=1.1652202606201172\n",
      "Epoch #57: loss=1.1691389083862305\n",
      "Epoch #58: loss=1.1632081270217896\n",
      "Epoch #59: loss=1.1563585996627808\n",
      "Epoch #60: loss=1.1437137126922607\n",
      "Epoch #61: loss=1.1466960906982422\n",
      "Epoch #62: loss=1.159222960472107\n",
      "Epoch #63: loss=1.1352592706680298\n",
      "Epoch #64: loss=1.132903814315796\n",
      "Epoch #65: loss=1.1397778987884521\n",
      "Epoch #66: loss=1.1345295906066895\n",
      "Epoch #67: loss=1.1239744424819946\n",
      "Epoch #68: loss=1.111586332321167\n",
      "Epoch #69: loss=1.112549901008606\n",
      "Epoch #70: loss=1.1238123178482056\n",
      "Epoch #71: loss=1.1089298725128174\n",
      "Epoch #72: loss=1.1096670627593994\n",
      "Epoch #73: loss=1.1257600784301758\n",
      "Epoch #74: loss=1.1057517528533936\n",
      "Epoch #75: loss=1.1103010177612305\n",
      "Epoch #76: loss=1.1088266372680664\n",
      "Epoch #77: loss=1.0724304914474487\n",
      "Epoch #78: loss=1.0848612785339355\n",
      "Epoch #79: loss=1.0742661952972412\n",
      "Epoch #80: loss=1.0985441207885742\n",
      "Epoch #81: loss=1.0804893970489502\n",
      "Epoch #82: loss=1.0669530630111694\n",
      "Epoch #83: loss=1.0820286273956299\n",
      "Epoch #84: loss=1.0758249759674072\n",
      "Epoch #85: loss=1.0732957124710083\n",
      "Epoch #86: loss=1.0717819929122925\n",
      "Epoch #87: loss=1.0592966079711914\n",
      "Epoch #88: loss=1.0723469257354736\n",
      "Epoch #89: loss=1.061080813407898\n",
      "Epoch #90: loss=1.0798978805541992\n",
      "Epoch #91: loss=1.0923207998275757\n",
      "Epoch #92: loss=1.0756950378417969\n",
      "Epoch #93: loss=1.071181058883667\n",
      "Epoch #94: loss=1.0528593063354492\n",
      "Epoch #95: loss=1.0681239366531372\n",
      "Epoch #96: loss=1.0482858419418335\n",
      "Epoch #97: loss=1.043362021446228\n",
      "Epoch #98: loss=1.0406670570373535\n",
      "Epoch #99: loss=1.0477207899093628\n",
      "Epoch #100: loss=1.044728398323059\n",
      "Epoch #101: loss=1.0332486629486084\n",
      "Epoch #102: loss=1.0355240106582642\n",
      "Epoch #103: loss=1.0492388010025024\n",
      "Epoch #104: loss=1.036135196685791\n",
      "Epoch #105: loss=1.0250189304351807\n",
      "Epoch #106: loss=1.0220470428466797\n",
      "Epoch #107: loss=1.0322027206420898\n",
      "Epoch #108: loss=1.0232834815979004\n",
      "Epoch #109: loss=1.000787377357483\n",
      "Epoch #110: loss=1.0136620998382568\n",
      "Epoch #111: loss=1.0062130689620972\n",
      "Epoch #112: loss=1.0001912117004395\n",
      "Epoch #113: loss=0.9889264106750488\n",
      "Epoch #114: loss=1.002221941947937\n",
      "Epoch #115: loss=1.0028880834579468\n",
      "Epoch #116: loss=0.995439887046814\n",
      "Epoch #117: loss=1.005702257156372\n",
      "Epoch #118: loss=0.9960905909538269\n",
      "Epoch #119: loss=0.997081458568573\n",
      "Epoch #120: loss=0.9850478172302246\n",
      "Epoch #121: loss=0.9873647689819336\n",
      "Epoch #122: loss=0.9780133962631226\n",
      "Epoch #123: loss=0.9898874759674072\n",
      "Epoch #124: loss=0.9755275845527649\n",
      "Epoch #125: loss=0.9747418761253357\n",
      "Epoch #126: loss=0.9834813475608826\n",
      "Epoch #127: loss=0.9568412899971008\n",
      "Epoch #128: loss=0.9866155982017517\n",
      "Epoch #129: loss=0.97389817237854\n",
      "Epoch #130: loss=0.9686659574508667\n",
      "Epoch #131: loss=0.9708776473999023\n",
      "Epoch #132: loss=1.0398255586624146\n",
      "Epoch #133: loss=1.0287889242172241\n",
      "Epoch #134: loss=1.009808897972107\n",
      "Epoch #135: loss=1.0411479473114014\n",
      "Epoch #136: loss=1.015868902206421\n",
      "Epoch #137: loss=1.0351992845535278\n",
      "Epoch #138: loss=1.0278936624526978\n",
      "Epoch #139: loss=0.9816787242889404\n",
      "Epoch #140: loss=1.0298715829849243\n",
      "Epoch #141: loss=1.006981372833252\n",
      "Epoch #142: loss=0.9945184588432312\n",
      "Epoch #143: loss=0.9967978000640869\n",
      "Epoch #144: loss=0.9982779622077942\n",
      "Epoch #145: loss=0.9881048798561096\n",
      "Epoch #146: loss=1.0002601146697998\n",
      "Epoch #147: loss=0.9900256395339966\n",
      "Epoch #148: loss=0.9770451784133911\n",
      "Epoch #149: loss=0.9927868247032166\n",
      "Epoch #150: loss=0.962878406047821\n",
      "Epoch #151: loss=0.9527227878570557\n",
      "Epoch #152: loss=0.9614649415016174\n",
      "Epoch #153: loss=0.9790780544281006\n",
      "Epoch #154: loss=0.9234840869903564\n",
      "Epoch #155: loss=0.9592866897583008\n",
      "Epoch #156: loss=0.9522836804389954\n",
      "Epoch #157: loss=0.9535209536552429\n",
      "Epoch #158: loss=0.9063506722450256\n",
      "Epoch #159: loss=0.8799576759338379\n",
      "Epoch #160: loss=0.9349667429924011\n",
      "Epoch #161: loss=0.9458230137825012\n",
      "Epoch #162: loss=0.9238407015800476\n",
      "Epoch #163: loss=0.8927377462387085\n",
      "Epoch #164: loss=0.9166940450668335\n",
      "Epoch #165: loss=0.9371090531349182\n",
      "Epoch #166: loss=0.8980962634086609\n",
      "Epoch #167: loss=0.9110724925994873\n",
      "Epoch #168: loss=0.9213567972183228\n",
      "Epoch #169: loss=0.8989324569702148\n",
      "Epoch #170: loss=0.8950792551040649\n",
      "Epoch #171: loss=0.9167159199714661\n",
      "Epoch #172: loss=0.9043933749198914\n",
      "Epoch #173: loss=0.9068154692649841\n",
      "Epoch #174: loss=0.8703540563583374\n",
      "Epoch #175: loss=0.8922037482261658\n",
      "Epoch #176: loss=0.8702803254127502\n",
      "Epoch #177: loss=0.8850483298301697\n",
      "Epoch #178: loss=0.8493358492851257\n",
      "Epoch #179: loss=0.9125469923019409\n",
      "Epoch #180: loss=0.8756957054138184\n",
      "Epoch #181: loss=0.8810442686080933\n",
      "Epoch #182: loss=0.8835558891296387\n",
      "Epoch #183: loss=0.8498612642288208\n",
      "Epoch #184: loss=0.8735153079032898\n",
      "Epoch #185: loss=0.832927942276001\n",
      "Epoch #186: loss=0.8514220714569092\n",
      "Epoch #187: loss=0.8483876585960388\n",
      "Epoch #188: loss=0.8500425815582275\n",
      "Epoch #189: loss=0.8393427729606628\n",
      "Epoch #190: loss=0.8521402478218079\n",
      "Epoch #191: loss=0.8481945991516113\n",
      "Epoch #192: loss=0.843704104423523\n",
      "Epoch #193: loss=0.802086353302002\n",
      "Epoch #194: loss=0.7985172867774963\n",
      "Epoch #195: loss=0.7864680290222168\n",
      "Epoch #196: loss=0.8380618691444397\n",
      "Epoch #197: loss=0.8096803426742554\n",
      "Epoch #198: loss=0.806455135345459\n",
      "Epoch #199: loss=0.8137327432632446\n",
      "Model training time: 24.84 seconds\n"
     ]
    }
   ],
   "source": [
    "import time\n",
    "start_time = time.time()\n",
    "model = HDST(\n",
    "    input_dims=train_data.shape[-1],\n",
    "    device=device,\n",
    "    task_weights=args.task_weights,\n",
    "    batch_size=args.batch_size,\n",
    "    lr=args.lr,\n",
    "    output_dims1=args.static_repr_dims,\n",
    "    output_dims2=args.dynamic_repr_dims,\n",
    "    max_train_length=args.max_train_length\n",
    ")\n",
    "\n",
    "loss_log = model.fit(\n",
    "    train_data,\n",
    "    n_epochs=args.epochs,\n",
    "    n_iters=args.iters,\n",
    "    k=args.sample_size,\n",
    "    w=args.window_size\n",
    ")\n",
    "end_time = time.time()\n",
    "training_time = end_time - start_time\n",
    "print(f\"Model training time: {training_time:.2f} seconds\")"
   ]
  },
  {
   "cell_type": "markdown",
   "id": "b2801942-d5d0-47a1-9f33-f82006f12425",
   "metadata": {},
   "source": [
    "Save model and loss log"
   ]
  },
  {
   "cell_type": "code",
   "execution_count": 26,
   "id": "3ee8e10d-aead-4107-ab00-6b34690ca303",
   "metadata": {},
   "outputs": [],
   "source": [
    "import torch\n",
    "torch.save(model, 'logs/mymodel_HAR.pth')\n",
    "import pandas as pd\n",
    "df = pd.DataFrame({\"epoch\": list(range(1, len(loss_log) + 1)), \"loss\": loss_log})\n",
    "df.to_csv(\"logs/loss_log_HAR.csv\", index=False)"
   ]
  },
  {
   "cell_type": "markdown",
   "id": "2b646a4b-0291-49df-a19b-aa40b4549e5d",
   "metadata": {},
   "source": [
    "Visualize the loss curve and save figure"
   ]
  },
  {
   "cell_type": "code",
   "execution_count": 27,
   "id": "5a97b47a-04d8-45e0-969e-f74ac670576d",
   "metadata": {},
   "outputs": [
    {
     "data": {
      "image/png": "[encoded data removed]",
      "text/plain": [
       "<Figure size 640x480 with 1 Axes>"
      ]
     },
     "metadata": {},
     "output_type": "display_data"
    }
   ],
   "source": [
    "import matplotlib.pyplot as plt\n",
    "# print(loss_log)\n",
    "plt.plot(loss_log, label=\"Loss\")\n",
    "plt.xlabel(\"Epoch\")\n",
    "plt.ylabel(\"Loss\")\n",
    "plt.title(\"Training Loss Curve\")\n",
    "plt.legend()\n",
    "plt.grid(True)\n",
    "plt.savefig(\"loss_curve.png\")\n",
    "plt.show()"
   ]
  },
  {
   "cell_type": "markdown",
   "id": "6bc062a5-48c4-4671-b78d-0dc8d4420c77",
   "metadata": {},
   "source": [
    "## Test the model\n",
    "Firstly, get the representation of training data and test data using `model.encode`. Then train a simple classifier (svm) using training representation and corresponding training labels. Finally, use the classifier to do calssification for test representation. Report the acc and auprc."
   ]
  },
  {
   "cell_type": "code",
   "execution_count": 35,
   "id": "a8bc0d94-51cf-44f6-9d46-9ed4c5de4255",
   "metadata": {},
   "outputs": [
    {
     "ename": "KeyboardInterrupt",
     "evalue": "",
     "output_type": "error",
     "traceback": [
      "\u001b[0;31m---------------------------------------------------------------------------\u001b[0m",
      "\u001b[0;31mKeyboardInterrupt\u001b[0m                         Traceback (most recent call last)",
      "Cell \u001b[0;32mIn[35], line 2\u001b[0m\n\u001b[1;32m      1\u001b[0m \u001b[38;5;28;01mfrom\u001b[39;00m\u001b[38;5;250m \u001b[39m\u001b[38;5;21;01mtasks\u001b[39;00m\u001b[38;5;21;01m.\u001b[39;00m\u001b[38;5;21;01mstate_prediction\u001b[39;00m\u001b[38;5;250m \u001b[39m\u001b[38;5;28;01mimport\u001b[39;00m eval_state_prediction\n\u001b[0;32m----> 2\u001b[0m \u001b[43meval_state_prediction\u001b[49m\u001b[43m(\u001b[49m\u001b[43mmodel\u001b[49m\u001b[43m,\u001b[49m\u001b[43mtrain_data\u001b[49m\u001b[43m,\u001b[49m\u001b[43mtrain_labels\u001b[49m\u001b[43m,\u001b[49m\u001b[43mtest_data\u001b[49m\u001b[43m,\u001b[49m\u001b[43mtest_labels\u001b[49m\u001b[43m,\u001b[49m\u001b[43mlr\u001b[49m\u001b[38;5;241;43m=\u001b[39;49m\u001b[38;5;241;43m0.001\u001b[39;49m\u001b[43m,\u001b[49m\u001b[43mwindow_size\u001b[49m\u001b[38;5;241;43m=\u001b[39;49m\u001b[43margs\u001b[49m\u001b[38;5;241;43m.\u001b[39;49m\u001b[43mwindow_size\u001b[49m\u001b[43m)\u001b[49m\n",
      "File \u001b[0;32m~/HDST/tasks/state_prediction.py:152\u001b[0m, in \u001b[0;36meval_state_prediction\u001b[0;34m(model, train_data, train_labels, test_data, test_labels, lr, window_size, n_states, encoding_size)\u001b[0m\n\u001b[1;32m    150\u001b[0m train_loader, valid_loader, test_loader\u001b[38;5;241m=\u001b[39mcreate_dataset(train_data, train_labels, test_data, test_labels, window_size)\n\u001b[1;32m    151\u001b[0m \u001b[38;5;66;03m###train\u001b[39;00m\n\u001b[0;32m--> 152\u001b[0m best_acc, best_auc, best_aupc \u001b[38;5;241m=\u001b[39m \u001b[43mtrain_classifier\u001b[49m\u001b[43m(\u001b[49m\u001b[43mmodel\u001b[49m\u001b[43m,\u001b[49m\u001b[43m \u001b[49m\u001b[43mclassifier\u001b[49m\u001b[43m,\u001b[49m\u001b[43m \u001b[49m\u001b[43mtrain_loader\u001b[49m\u001b[43m,\u001b[49m\u001b[43m \u001b[49m\u001b[43mvalid_loader\u001b[49m\u001b[43m,\u001b[49m\u001b[43m \u001b[49m\u001b[43mlr\u001b[49m\u001b[43m)\u001b[49m\n\u001b[1;32m    153\u001b[0m \u001b[38;5;28mprint\u001b[39m(\u001b[38;5;124m'\u001b[39m\u001b[38;5;124mBest_acc:\u001b[39m\u001b[38;5;124m'\u001b[39m, best_acc,\u001b[38;5;124m'\u001b[39m\u001b[38;5;124mBest_auc:\u001b[39m\u001b[38;5;124m'\u001b[39m, best_auc, \u001b[38;5;124m'\u001b[39m\u001b[38;5;124mBest_aupc:\u001b[39m\u001b[38;5;124m'\u001b[39m, best_aupc)\n\u001b[1;32m    155\u001b[0m \u001b[38;5;66;03m###test\u001b[39;00m\n",
      "File \u001b[0;32m~/HDST/tasks/state_prediction.py:111\u001b[0m, in \u001b[0;36mtrain_classifier\u001b[0;34m(model, classifier, train_loader, valid_loader, lr, n_epochs)\u001b[0m\n\u001b[1;32m    109\u001b[0m train_accs, test_accs \u001b[38;5;241m=\u001b[39m [], []\n\u001b[1;32m    110\u001b[0m \u001b[38;5;28;01mfor\u001b[39;00m epoch \u001b[38;5;129;01min\u001b[39;00m \u001b[38;5;28mrange\u001b[39m(n_epochs):\n\u001b[0;32m--> 111\u001b[0m     train_loss, train_acc, train_auc, train_auprc, _\u001b[38;5;241m=\u001b[39m \u001b[43mrun_epoch\u001b[49m\u001b[43m(\u001b[49m\u001b[43mmodel\u001b[49m\u001b[43m,\u001b[49m\u001b[43m \u001b[49m\u001b[43mclassifier\u001b[49m\u001b[43m,\u001b[49m\u001b[43m \u001b[49m\u001b[43mtrain_loader\u001b[49m\u001b[43m,\u001b[49m\u001b[43m \u001b[49m\u001b[38;5;28;43;01mTrue\u001b[39;49;00m\u001b[43m,\u001b[49m\u001b[43m \u001b[49m\u001b[43mlr\u001b[49m\u001b[43m)\u001b[49m\n\u001b[1;32m    112\u001b[0m     test_loss, test_acc, test_auc, test_auprc, _ \u001b[38;5;241m=\u001b[39m run_epoch(model, classifier, valid_loader, \u001b[38;5;28;01mFalse\u001b[39;00m)\n\u001b[1;32m    113\u001b[0m     train_losses\u001b[38;5;241m.\u001b[39mappend(train_loss)\n",
      "File \u001b[0;32m~/HDST/tasks/state_prediction.py:77\u001b[0m, in \u001b[0;36mrun_epoch\u001b[0;34m(model, classifier, data_loader, is_train, lr)\u001b[0m\n\u001b[1;32m     74\u001b[0m x\u001b[38;5;241m=\u001b[39mx\u001b[38;5;241m.\u001b[39mcpu()\u001b[38;5;241m.\u001b[39mdetach()\u001b[38;5;241m.\u001b[39mnumpy()\n\u001b[1;32m     75\u001b[0m x\u001b[38;5;241m=\u001b[39mnp\u001b[38;5;241m.\u001b[39mtranspose(x, (\u001b[38;5;241m0\u001b[39m, \u001b[38;5;241m2\u001b[39m, \u001b[38;5;241m1\u001b[39m)) \n\u001b[0;32m---> 77\u001b[0m encoding\u001b[38;5;241m=\u001b[39m\u001b[43mmodel\u001b[49m\u001b[38;5;241;43m.\u001b[39;49m\u001b[43mencode\u001b[49m\u001b[43m(\u001b[49m\u001b[43mx\u001b[49m\u001b[43m,\u001b[49m\u001b[43m \u001b[49m\u001b[43mencoding_window\u001b[49m\u001b[38;5;241;43m=\u001b[39;49m\u001b[38;5;124;43m'\u001b[39;49m\u001b[38;5;124;43mfull_series\u001b[39;49m\u001b[38;5;124;43m'\u001b[39;49m\u001b[43m)\u001b[49m\n\u001b[1;32m     78\u001b[0m \u001b[38;5;66;03m# print(encoding.shape)\u001b[39;00m\n\u001b[1;32m     79\u001b[0m encoding\u001b[38;5;241m=\u001b[39mtorch\u001b[38;5;241m.\u001b[39mTensor(encoding)\u001b[38;5;241m.\u001b[39mto(device)\n",
      "File \u001b[0;32m~/HDST/hdst.py:402\u001b[0m, in \u001b[0;36mHDST.encode\u001b[0;34m(self, data, mask, encoding_window, causal, sliding_length, sliding_padding, batch_size)\u001b[0m\n\u001b[1;32m    396\u001b[0m         out \u001b[38;5;241m=\u001b[39m F\u001b[38;5;241m.\u001b[39mmax_pool1d(\n\u001b[1;32m    397\u001b[0m             out\u001b[38;5;241m.\u001b[39mtranspose(\u001b[38;5;241m1\u001b[39m, \u001b[38;5;241m2\u001b[39m)\u001b[38;5;241m.\u001b[39mcontiguous(),\n\u001b[1;32m    398\u001b[0m             kernel_size \u001b[38;5;241m=\u001b[39m out\u001b[38;5;241m.\u001b[39msize(\u001b[38;5;241m1\u001b[39m),\n\u001b[1;32m    399\u001b[0m         )\u001b[38;5;241m.\u001b[39msqueeze(\u001b[38;5;241m1\u001b[39m)\n\u001b[1;32m    401\u001b[0m \u001b[38;5;28;01melse\u001b[39;00m:\n\u001b[0;32m--> 402\u001b[0m     out \u001b[38;5;241m=\u001b[39m \u001b[38;5;28;43mself\u001b[39;49m\u001b[38;5;241;43m.\u001b[39;49m\u001b[43m_eval_with_pooling\u001b[49m\u001b[43m(\u001b[49m\n\u001b[1;32m    403\u001b[0m \u001b[43m        \u001b[49m\u001b[43mx\u001b[49m\u001b[43m,\u001b[49m\n\u001b[1;32m    404\u001b[0m \u001b[43m        \u001b[49m\u001b[43mmask\u001b[49m\u001b[38;5;241;43m=\u001b[39;49m\u001b[43mmask\u001b[49m\u001b[43m,\u001b[49m\n\u001b[1;32m    405\u001b[0m \u001b[43m        \u001b[49m\u001b[43mencoding_window\u001b[49m\u001b[38;5;241;43m=\u001b[39;49m\u001b[43mencoding_window\u001b[49m\u001b[43m,\u001b[49m\n\u001b[1;32m    406\u001b[0m \u001b[43m    \u001b[49m\u001b[43m)\u001b[49m\n\u001b[1;32m    407\u001b[0m     \u001b[38;5;28;01mif\u001b[39;00m encoding_window \u001b[38;5;241m==\u001b[39m \u001b[38;5;124m'\u001b[39m\u001b[38;5;124mfull_series\u001b[39m\u001b[38;5;124m'\u001b[39m:\n\u001b[1;32m    408\u001b[0m         out \u001b[38;5;241m=\u001b[39m out\u001b[38;5;241m.\u001b[39msqueeze(\u001b[38;5;241m1\u001b[39m)\n",
      "File \u001b[0;32m~/HDST/hdst.py:240\u001b[0m, in \u001b[0;36mHDST._eval_with_pooling\u001b[0;34m(self, x, mask, slicing, encoding_window)\u001b[0m\n\u001b[1;32m    233\u001b[0m \u001b[38;5;28;01mdef\u001b[39;00m\u001b[38;5;250m \u001b[39m\u001b[38;5;21m_eval_with_pooling\u001b[39m(\n\u001b[1;32m    234\u001b[0m         \u001b[38;5;28mself\u001b[39m,\n\u001b[1;32m    235\u001b[0m         x,\n\u001b[0;32m   (...)\u001b[0m\n\u001b[1;32m    238\u001b[0m         encoding_window\u001b[38;5;241m=\u001b[39m\u001b[38;5;28;01mNone\u001b[39;00m,\n\u001b[1;32m    239\u001b[0m     ):\n\u001b[0;32m--> 240\u001b[0m     out_static, out_dynamic \u001b[38;5;241m=\u001b[39m \u001b[38;5;28;43mself\u001b[39;49m\u001b[38;5;241;43m.\u001b[39;49m\u001b[43mnet\u001b[49m\u001b[43m(\u001b[49m\u001b[43mx\u001b[49m\u001b[38;5;241;43m.\u001b[39;49m\u001b[43mto\u001b[49m\u001b[43m(\u001b[49m\u001b[38;5;28;43mself\u001b[39;49m\u001b[38;5;241;43m.\u001b[39;49m\u001b[43mdevice\u001b[49m\u001b[43m,\u001b[49m\u001b[43m \u001b[49m\u001b[43mnon_blocking\u001b[49m\u001b[38;5;241;43m=\u001b[39;49m\u001b[38;5;28;43;01mTrue\u001b[39;49;00m\u001b[43m)\u001b[49m\u001b[43m,\u001b[49m\u001b[43mmask\u001b[49m\u001b[43m)\u001b[49m\n\u001b[1;32m    241\u001b[0m     out \u001b[38;5;241m=\u001b[39m torch\u001b[38;5;241m.\u001b[39mcat([out_static, out_dynamic], dim\u001b[38;5;241m=\u001b[39m\u001b[38;5;241m-\u001b[39m\u001b[38;5;241m1\u001b[39m)\n\u001b[1;32m    243\u001b[0m     \u001b[38;5;28;01mif\u001b[39;00m encoding_window \u001b[38;5;241m==\u001b[39m \u001b[38;5;124m'\u001b[39m\u001b[38;5;124mfull_series\u001b[39m\u001b[38;5;124m'\u001b[39m:\n",
      "File \u001b[0;32m/opt/conda/lib/python3.11/site-packages/torch/nn/modules/module.py:1553\u001b[0m, in \u001b[0;36mModule._wrapped_call_impl\u001b[0;34m(self, *args, **kwargs)\u001b[0m\n\u001b[1;32m   1551\u001b[0m     \u001b[38;5;28;01mreturn\u001b[39;00m \u001b[38;5;28mself\u001b[39m\u001b[38;5;241m.\u001b[39m_compiled_call_impl(\u001b[38;5;241m*\u001b[39margs, \u001b[38;5;241m*\u001b[39m\u001b[38;5;241m*\u001b[39mkwargs)  \u001b[38;5;66;03m# type: ignore[misc]\u001b[39;00m\n\u001b[1;32m   1552\u001b[0m \u001b[38;5;28;01melse\u001b[39;00m:\n\u001b[0;32m-> 1553\u001b[0m     \u001b[38;5;28;01mreturn\u001b[39;00m \u001b[38;5;28;43mself\u001b[39;49m\u001b[38;5;241;43m.\u001b[39;49m\u001b[43m_call_impl\u001b[49m\u001b[43m(\u001b[49m\u001b[38;5;241;43m*\u001b[39;49m\u001b[43margs\u001b[49m\u001b[43m,\u001b[49m\u001b[43m \u001b[49m\u001b[38;5;241;43m*\u001b[39;49m\u001b[38;5;241;43m*\u001b[39;49m\u001b[43mkwargs\u001b[49m\u001b[43m)\u001b[49m\n",
      "File \u001b[0;32m/opt/conda/lib/python3.11/site-packages/torch/nn/modules/module.py:1562\u001b[0m, in \u001b[0;36mModule._call_impl\u001b[0;34m(self, *args, **kwargs)\u001b[0m\n\u001b[1;32m   1557\u001b[0m \u001b[38;5;66;03m# If we don't have any hooks, we want to skip the rest of the logic in\u001b[39;00m\n\u001b[1;32m   1558\u001b[0m \u001b[38;5;66;03m# this function, and just call forward.\u001b[39;00m\n\u001b[1;32m   1559\u001b[0m \u001b[38;5;28;01mif\u001b[39;00m \u001b[38;5;129;01mnot\u001b[39;00m (\u001b[38;5;28mself\u001b[39m\u001b[38;5;241m.\u001b[39m_backward_hooks \u001b[38;5;129;01mor\u001b[39;00m \u001b[38;5;28mself\u001b[39m\u001b[38;5;241m.\u001b[39m_backward_pre_hooks \u001b[38;5;129;01mor\u001b[39;00m \u001b[38;5;28mself\u001b[39m\u001b[38;5;241m.\u001b[39m_forward_hooks \u001b[38;5;129;01mor\u001b[39;00m \u001b[38;5;28mself\u001b[39m\u001b[38;5;241m.\u001b[39m_forward_pre_hooks\n\u001b[1;32m   1560\u001b[0m         \u001b[38;5;129;01mor\u001b[39;00m _global_backward_pre_hooks \u001b[38;5;129;01mor\u001b[39;00m _global_backward_hooks\n\u001b[1;32m   1561\u001b[0m         \u001b[38;5;129;01mor\u001b[39;00m _global_forward_hooks \u001b[38;5;129;01mor\u001b[39;00m _global_forward_pre_hooks):\n\u001b[0;32m-> 1562\u001b[0m     \u001b[38;5;28;01mreturn\u001b[39;00m \u001b[43mforward_call\u001b[49m\u001b[43m(\u001b[49m\u001b[38;5;241;43m*\u001b[39;49m\u001b[43margs\u001b[49m\u001b[43m,\u001b[49m\u001b[43m \u001b[49m\u001b[38;5;241;43m*\u001b[39;49m\u001b[38;5;241;43m*\u001b[39;49m\u001b[43mkwargs\u001b[49m\u001b[43m)\u001b[49m\n\u001b[1;32m   1564\u001b[0m \u001b[38;5;28;01mtry\u001b[39;00m:\n\u001b[1;32m   1565\u001b[0m     result \u001b[38;5;241m=\u001b[39m \u001b[38;5;28;01mNone\u001b[39;00m\n",
      "File \u001b[0;32m/opt/conda/lib/python3.11/site-packages/torch/optim/swa_utils.py:219\u001b[0m, in \u001b[0;36mAveragedModel.forward\u001b[0;34m(self, *args, **kwargs)\u001b[0m\n\u001b[1;32m    218\u001b[0m \u001b[38;5;28;01mdef\u001b[39;00m\u001b[38;5;250m \u001b[39m\u001b[38;5;21mforward\u001b[39m(\u001b[38;5;28mself\u001b[39m, \u001b[38;5;241m*\u001b[39margs, \u001b[38;5;241m*\u001b[39m\u001b[38;5;241m*\u001b[39mkwargs):\n\u001b[0;32m--> 219\u001b[0m     \u001b[38;5;28;01mreturn\u001b[39;00m \u001b[38;5;28;43mself\u001b[39;49m\u001b[38;5;241;43m.\u001b[39;49m\u001b[43mmodule\u001b[49m\u001b[43m(\u001b[49m\u001b[38;5;241;43m*\u001b[39;49m\u001b[43margs\u001b[49m\u001b[43m,\u001b[49m\u001b[43m \u001b[49m\u001b[38;5;241;43m*\u001b[39;49m\u001b[38;5;241;43m*\u001b[39;49m\u001b[43mkwargs\u001b[49m\u001b[43m)\u001b[49m\n",
      "File \u001b[0;32m/opt/conda/lib/python3.11/site-packages/torch/nn/modules/module.py:1553\u001b[0m, in \u001b[0;36mModule._wrapped_call_impl\u001b[0;34m(self, *args, **kwargs)\u001b[0m\n\u001b[1;32m   1551\u001b[0m     \u001b[38;5;28;01mreturn\u001b[39;00m \u001b[38;5;28mself\u001b[39m\u001b[38;5;241m.\u001b[39m_compiled_call_impl(\u001b[38;5;241m*\u001b[39margs, \u001b[38;5;241m*\u001b[39m\u001b[38;5;241m*\u001b[39mkwargs)  \u001b[38;5;66;03m# type: ignore[misc]\u001b[39;00m\n\u001b[1;32m   1552\u001b[0m \u001b[38;5;28;01melse\u001b[39;00m:\n\u001b[0;32m-> 1553\u001b[0m     \u001b[38;5;28;01mreturn\u001b[39;00m \u001b[38;5;28;43mself\u001b[39;49m\u001b[38;5;241;43m.\u001b[39;49m\u001b[43m_call_impl\u001b[49m\u001b[43m(\u001b[49m\u001b[38;5;241;43m*\u001b[39;49m\u001b[43margs\u001b[49m\u001b[43m,\u001b[49m\u001b[43m \u001b[49m\u001b[38;5;241;43m*\u001b[39;49m\u001b[38;5;241;43m*\u001b[39;49m\u001b[43mkwargs\u001b[49m\u001b[43m)\u001b[49m\n",
      "File \u001b[0;32m/opt/conda/lib/python3.11/site-packages/torch/nn/modules/module.py:1562\u001b[0m, in \u001b[0;36mModule._call_impl\u001b[0;34m(self, *args, **kwargs)\u001b[0m\n\u001b[1;32m   1557\u001b[0m \u001b[38;5;66;03m# If we don't have any hooks, we want to skip the rest of the logic in\u001b[39;00m\n\u001b[1;32m   1558\u001b[0m \u001b[38;5;66;03m# this function, and just call forward.\u001b[39;00m\n\u001b[1;32m   1559\u001b[0m \u001b[38;5;28;01mif\u001b[39;00m \u001b[38;5;129;01mnot\u001b[39;00m (\u001b[38;5;28mself\u001b[39m\u001b[38;5;241m.\u001b[39m_backward_hooks \u001b[38;5;129;01mor\u001b[39;00m \u001b[38;5;28mself\u001b[39m\u001b[38;5;241m.\u001b[39m_backward_pre_hooks \u001b[38;5;129;01mor\u001b[39;00m \u001b[38;5;28mself\u001b[39m\u001b[38;5;241m.\u001b[39m_forward_hooks \u001b[38;5;129;01mor\u001b[39;00m \u001b[38;5;28mself\u001b[39m\u001b[38;5;241m.\u001b[39m_forward_pre_hooks\n\u001b[1;32m   1560\u001b[0m         \u001b[38;5;129;01mor\u001b[39;00m _global_backward_pre_hooks \u001b[38;5;129;01mor\u001b[39;00m _global_backward_hooks\n\u001b[1;32m   1561\u001b[0m         \u001b[38;5;129;01mor\u001b[39;00m _global_forward_hooks \u001b[38;5;129;01mor\u001b[39;00m _global_forward_pre_hooks):\n\u001b[0;32m-> 1562\u001b[0m     \u001b[38;5;28;01mreturn\u001b[39;00m \u001b[43mforward_call\u001b[49m\u001b[43m(\u001b[49m\u001b[38;5;241;43m*\u001b[39;49m\u001b[43margs\u001b[49m\u001b[43m,\u001b[49m\u001b[43m \u001b[49m\u001b[38;5;241;43m*\u001b[39;49m\u001b[38;5;241;43m*\u001b[39;49m\u001b[43mkwargs\u001b[49m\u001b[43m)\u001b[49m\n\u001b[1;32m   1564\u001b[0m \u001b[38;5;28;01mtry\u001b[39;00m:\n\u001b[1;32m   1565\u001b[0m     result \u001b[38;5;241m=\u001b[39m \u001b[38;5;28;01mNone\u001b[39;00m\n",
      "File \u001b[0;32m~/HDST/models/encoder.py:352\u001b[0m, in \u001b[0;36mHDEncoder2.forward\u001b[0;34m(self, x, mask)\u001b[0m\n\u001b[1;32m    350\u001b[0m \u001b[38;5;66;03m# conv encoder\u001b[39;00m\n\u001b[1;32m    351\u001b[0m x_static \u001b[38;5;241m=\u001b[39m x_static\u001b[38;5;241m.\u001b[39mtranspose(\u001b[38;5;241m1\u001b[39m, \u001b[38;5;241m2\u001b[39m)  \u001b[38;5;66;03m# (B * k) x fc_dims x w\u001b[39;00m\n\u001b[0;32m--> 352\u001b[0m x_static \u001b[38;5;241m=\u001b[39m \u001b[38;5;28mself\u001b[39m\u001b[38;5;241m.\u001b[39mrepr_dropout(\u001b[38;5;28;43mself\u001b[39;49m\u001b[38;5;241;43m.\u001b[39;49m\u001b[43mstatic_feature_extractor\u001b[49m\u001b[43m(\u001b[49m\u001b[43mx_static\u001b[49m\u001b[43m)\u001b[49m)  \u001b[38;5;66;03m# (B * k) x out_dims1 x w\u001b[39;00m\n\u001b[1;32m    353\u001b[0m x_static \u001b[38;5;241m=\u001b[39m x_static\u001b[38;5;241m.\u001b[39mtranspose(\u001b[38;5;241m1\u001b[39m, \u001b[38;5;241m2\u001b[39m)  \u001b[38;5;66;03m# (B * k) x w x out_dims1\u001b[39;00m\n\u001b[1;32m    355\u001b[0m \u001b[38;5;66;03m#dynamic feature representations\u001b[39;00m\n",
      "File \u001b[0;32m/opt/conda/lib/python3.11/site-packages/torch/nn/modules/module.py:1553\u001b[0m, in \u001b[0;36mModule._wrapped_call_impl\u001b[0;34m(self, *args, **kwargs)\u001b[0m\n\u001b[1;32m   1551\u001b[0m     \u001b[38;5;28;01mreturn\u001b[39;00m \u001b[38;5;28mself\u001b[39m\u001b[38;5;241m.\u001b[39m_compiled_call_impl(\u001b[38;5;241m*\u001b[39margs, \u001b[38;5;241m*\u001b[39m\u001b[38;5;241m*\u001b[39mkwargs)  \u001b[38;5;66;03m# type: ignore[misc]\u001b[39;00m\n\u001b[1;32m   1552\u001b[0m \u001b[38;5;28;01melse\u001b[39;00m:\n\u001b[0;32m-> 1553\u001b[0m     \u001b[38;5;28;01mreturn\u001b[39;00m \u001b[38;5;28;43mself\u001b[39;49m\u001b[38;5;241;43m.\u001b[39;49m\u001b[43m_call_impl\u001b[49m\u001b[43m(\u001b[49m\u001b[38;5;241;43m*\u001b[39;49m\u001b[43margs\u001b[49m\u001b[43m,\u001b[49m\u001b[43m \u001b[49m\u001b[38;5;241;43m*\u001b[39;49m\u001b[38;5;241;43m*\u001b[39;49m\u001b[43mkwargs\u001b[49m\u001b[43m)\u001b[49m\n",
      "File \u001b[0;32m/opt/conda/lib/python3.11/site-packages/torch/nn/modules/module.py:1562\u001b[0m, in \u001b[0;36mModule._call_impl\u001b[0;34m(self, *args, **kwargs)\u001b[0m\n\u001b[1;32m   1557\u001b[0m \u001b[38;5;66;03m# If we don't have any hooks, we want to skip the rest of the logic in\u001b[39;00m\n\u001b[1;32m   1558\u001b[0m \u001b[38;5;66;03m# this function, and just call forward.\u001b[39;00m\n\u001b[1;32m   1559\u001b[0m \u001b[38;5;28;01mif\u001b[39;00m \u001b[38;5;129;01mnot\u001b[39;00m (\u001b[38;5;28mself\u001b[39m\u001b[38;5;241m.\u001b[39m_backward_hooks \u001b[38;5;129;01mor\u001b[39;00m \u001b[38;5;28mself\u001b[39m\u001b[38;5;241m.\u001b[39m_backward_pre_hooks \u001b[38;5;129;01mor\u001b[39;00m \u001b[38;5;28mself\u001b[39m\u001b[38;5;241m.\u001b[39m_forward_hooks \u001b[38;5;129;01mor\u001b[39;00m \u001b[38;5;28mself\u001b[39m\u001b[38;5;241m.\u001b[39m_forward_pre_hooks\n\u001b[1;32m   1560\u001b[0m         \u001b[38;5;129;01mor\u001b[39;00m _global_backward_pre_hooks \u001b[38;5;129;01mor\u001b[39;00m _global_backward_hooks\n\u001b[1;32m   1561\u001b[0m         \u001b[38;5;129;01mor\u001b[39;00m _global_forward_hooks \u001b[38;5;129;01mor\u001b[39;00m _global_forward_pre_hooks):\n\u001b[0;32m-> 1562\u001b[0m     \u001b[38;5;28;01mreturn\u001b[39;00m \u001b[43mforward_call\u001b[49m\u001b[43m(\u001b[49m\u001b[38;5;241;43m*\u001b[39;49m\u001b[43margs\u001b[49m\u001b[43m,\u001b[49m\u001b[43m \u001b[49m\u001b[38;5;241;43m*\u001b[39;49m\u001b[38;5;241;43m*\u001b[39;49m\u001b[43mkwargs\u001b[49m\u001b[43m)\u001b[49m\n\u001b[1;32m   1564\u001b[0m \u001b[38;5;28;01mtry\u001b[39;00m:\n\u001b[1;32m   1565\u001b[0m     result \u001b[38;5;241m=\u001b[39m \u001b[38;5;28;01mNone\u001b[39;00m\n",
      "File \u001b[0;32m~/HDST/models/dilated_conv.py:55\u001b[0m, in \u001b[0;36mDilatedConvEncoder.forward\u001b[0;34m(self, x)\u001b[0m\n\u001b[1;32m     54\u001b[0m \u001b[38;5;28;01mdef\u001b[39;00m\u001b[38;5;250m \u001b[39m\u001b[38;5;21mforward\u001b[39m(\u001b[38;5;28mself\u001b[39m, x):\n\u001b[0;32m---> 55\u001b[0m     \u001b[38;5;28;01mreturn\u001b[39;00m \u001b[38;5;28;43mself\u001b[39;49m\u001b[38;5;241;43m.\u001b[39;49m\u001b[43mnet\u001b[49m\u001b[43m(\u001b[49m\u001b[43mx\u001b[49m\u001b[43m)\u001b[49m\n",
      "File \u001b[0;32m/opt/conda/lib/python3.11/site-packages/torch/nn/modules/module.py:1553\u001b[0m, in \u001b[0;36mModule._wrapped_call_impl\u001b[0;34m(self, *args, **kwargs)\u001b[0m\n\u001b[1;32m   1551\u001b[0m     \u001b[38;5;28;01mreturn\u001b[39;00m \u001b[38;5;28mself\u001b[39m\u001b[38;5;241m.\u001b[39m_compiled_call_impl(\u001b[38;5;241m*\u001b[39margs, \u001b[38;5;241m*\u001b[39m\u001b[38;5;241m*\u001b[39mkwargs)  \u001b[38;5;66;03m# type: ignore[misc]\u001b[39;00m\n\u001b[1;32m   1552\u001b[0m \u001b[38;5;28;01melse\u001b[39;00m:\n\u001b[0;32m-> 1553\u001b[0m     \u001b[38;5;28;01mreturn\u001b[39;00m \u001b[38;5;28;43mself\u001b[39;49m\u001b[38;5;241;43m.\u001b[39;49m\u001b[43m_call_impl\u001b[49m\u001b[43m(\u001b[49m\u001b[38;5;241;43m*\u001b[39;49m\u001b[43margs\u001b[49m\u001b[43m,\u001b[49m\u001b[43m \u001b[49m\u001b[38;5;241;43m*\u001b[39;49m\u001b[38;5;241;43m*\u001b[39;49m\u001b[43mkwargs\u001b[49m\u001b[43m)\u001b[49m\n",
      "File \u001b[0;32m/opt/conda/lib/python3.11/site-packages/torch/nn/modules/module.py:1562\u001b[0m, in \u001b[0;36mModule._call_impl\u001b[0;34m(self, *args, **kwargs)\u001b[0m\n\u001b[1;32m   1557\u001b[0m \u001b[38;5;66;03m# If we don't have any hooks, we want to skip the rest of the logic in\u001b[39;00m\n\u001b[1;32m   1558\u001b[0m \u001b[38;5;66;03m# this function, and just call forward.\u001b[39;00m\n\u001b[1;32m   1559\u001b[0m \u001b[38;5;28;01mif\u001b[39;00m \u001b[38;5;129;01mnot\u001b[39;00m (\u001b[38;5;28mself\u001b[39m\u001b[38;5;241m.\u001b[39m_backward_hooks \u001b[38;5;129;01mor\u001b[39;00m \u001b[38;5;28mself\u001b[39m\u001b[38;5;241m.\u001b[39m_backward_pre_hooks \u001b[38;5;129;01mor\u001b[39;00m \u001b[38;5;28mself\u001b[39m\u001b[38;5;241m.\u001b[39m_forward_hooks \u001b[38;5;129;01mor\u001b[39;00m \u001b[38;5;28mself\u001b[39m\u001b[38;5;241m.\u001b[39m_forward_pre_hooks\n\u001b[1;32m   1560\u001b[0m         \u001b[38;5;129;01mor\u001b[39;00m _global_backward_pre_hooks \u001b[38;5;129;01mor\u001b[39;00m _global_backward_hooks\n\u001b[1;32m   1561\u001b[0m         \u001b[38;5;129;01mor\u001b[39;00m _global_forward_hooks \u001b[38;5;129;01mor\u001b[39;00m _global_forward_pre_hooks):\n\u001b[0;32m-> 1562\u001b[0m     \u001b[38;5;28;01mreturn\u001b[39;00m \u001b[43mforward_call\u001b[49m\u001b[43m(\u001b[49m\u001b[38;5;241;43m*\u001b[39;49m\u001b[43margs\u001b[49m\u001b[43m,\u001b[49m\u001b[43m \u001b[49m\u001b[38;5;241;43m*\u001b[39;49m\u001b[38;5;241;43m*\u001b[39;49m\u001b[43mkwargs\u001b[49m\u001b[43m)\u001b[49m\n\u001b[1;32m   1564\u001b[0m \u001b[38;5;28;01mtry\u001b[39;00m:\n\u001b[1;32m   1565\u001b[0m     result \u001b[38;5;241m=\u001b[39m \u001b[38;5;28;01mNone\u001b[39;00m\n",
      "File \u001b[0;32m/opt/conda/lib/python3.11/site-packages/torch/nn/modules/container.py:219\u001b[0m, in \u001b[0;36mSequential.forward\u001b[0;34m(self, input)\u001b[0m\n\u001b[1;32m    217\u001b[0m \u001b[38;5;28;01mdef\u001b[39;00m\u001b[38;5;250m \u001b[39m\u001b[38;5;21mforward\u001b[39m(\u001b[38;5;28mself\u001b[39m, \u001b[38;5;28minput\u001b[39m):\n\u001b[1;32m    218\u001b[0m     \u001b[38;5;28;01mfor\u001b[39;00m module \u001b[38;5;129;01min\u001b[39;00m \u001b[38;5;28mself\u001b[39m:\n\u001b[0;32m--> 219\u001b[0m         \u001b[38;5;28minput\u001b[39m \u001b[38;5;241m=\u001b[39m \u001b[43mmodule\u001b[49m\u001b[43m(\u001b[49m\u001b[38;5;28;43minput\u001b[39;49m\u001b[43m)\u001b[49m\n\u001b[1;32m    220\u001b[0m     \u001b[38;5;28;01mreturn\u001b[39;00m \u001b[38;5;28minput\u001b[39m\n",
      "File \u001b[0;32m/opt/conda/lib/python3.11/site-packages/torch/nn/modules/module.py:1553\u001b[0m, in \u001b[0;36mModule._wrapped_call_impl\u001b[0;34m(self, *args, **kwargs)\u001b[0m\n\u001b[1;32m   1551\u001b[0m     \u001b[38;5;28;01mreturn\u001b[39;00m \u001b[38;5;28mself\u001b[39m\u001b[38;5;241m.\u001b[39m_compiled_call_impl(\u001b[38;5;241m*\u001b[39margs, \u001b[38;5;241m*\u001b[39m\u001b[38;5;241m*\u001b[39mkwargs)  \u001b[38;5;66;03m# type: ignore[misc]\u001b[39;00m\n\u001b[1;32m   1552\u001b[0m \u001b[38;5;28;01melse\u001b[39;00m:\n\u001b[0;32m-> 1553\u001b[0m     \u001b[38;5;28;01mreturn\u001b[39;00m \u001b[38;5;28;43mself\u001b[39;49m\u001b[38;5;241;43m.\u001b[39;49m\u001b[43m_call_impl\u001b[49m\u001b[43m(\u001b[49m\u001b[38;5;241;43m*\u001b[39;49m\u001b[43margs\u001b[49m\u001b[43m,\u001b[49m\u001b[43m \u001b[49m\u001b[38;5;241;43m*\u001b[39;49m\u001b[38;5;241;43m*\u001b[39;49m\u001b[43mkwargs\u001b[49m\u001b[43m)\u001b[49m\n",
      "File \u001b[0;32m/opt/conda/lib/python3.11/site-packages/torch/nn/modules/module.py:1562\u001b[0m, in \u001b[0;36mModule._call_impl\u001b[0;34m(self, *args, **kwargs)\u001b[0m\n\u001b[1;32m   1557\u001b[0m \u001b[38;5;66;03m# If we don't have any hooks, we want to skip the rest of the logic in\u001b[39;00m\n\u001b[1;32m   1558\u001b[0m \u001b[38;5;66;03m# this function, and just call forward.\u001b[39;00m\n\u001b[1;32m   1559\u001b[0m \u001b[38;5;28;01mif\u001b[39;00m \u001b[38;5;129;01mnot\u001b[39;00m (\u001b[38;5;28mself\u001b[39m\u001b[38;5;241m.\u001b[39m_backward_hooks \u001b[38;5;129;01mor\u001b[39;00m \u001b[38;5;28mself\u001b[39m\u001b[38;5;241m.\u001b[39m_backward_pre_hooks \u001b[38;5;129;01mor\u001b[39;00m \u001b[38;5;28mself\u001b[39m\u001b[38;5;241m.\u001b[39m_forward_hooks \u001b[38;5;129;01mor\u001b[39;00m \u001b[38;5;28mself\u001b[39m\u001b[38;5;241m.\u001b[39m_forward_pre_hooks\n\u001b[1;32m   1560\u001b[0m         \u001b[38;5;129;01mor\u001b[39;00m _global_backward_pre_hooks \u001b[38;5;129;01mor\u001b[39;00m _global_backward_hooks\n\u001b[1;32m   1561\u001b[0m         \u001b[38;5;129;01mor\u001b[39;00m _global_forward_hooks \u001b[38;5;129;01mor\u001b[39;00m _global_forward_pre_hooks):\n\u001b[0;32m-> 1562\u001b[0m     \u001b[38;5;28;01mreturn\u001b[39;00m \u001b[43mforward_call\u001b[49m\u001b[43m(\u001b[49m\u001b[38;5;241;43m*\u001b[39;49m\u001b[43margs\u001b[49m\u001b[43m,\u001b[49m\u001b[43m \u001b[49m\u001b[38;5;241;43m*\u001b[39;49m\u001b[38;5;241;43m*\u001b[39;49m\u001b[43mkwargs\u001b[49m\u001b[43m)\u001b[49m\n\u001b[1;32m   1564\u001b[0m \u001b[38;5;28;01mtry\u001b[39;00m:\n\u001b[1;32m   1565\u001b[0m     result \u001b[38;5;241m=\u001b[39m \u001b[38;5;28;01mNone\u001b[39;00m\n",
      "File \u001b[0;32m~/HDST/models/dilated_conv.py:36\u001b[0m, in \u001b[0;36mConvBlock.forward\u001b[0;34m(self, x)\u001b[0m\n\u001b[1;32m     34\u001b[0m x \u001b[38;5;241m=\u001b[39m F\u001b[38;5;241m.\u001b[39mgelu(x)\n\u001b[1;32m     35\u001b[0m x \u001b[38;5;241m=\u001b[39m \u001b[38;5;28mself\u001b[39m\u001b[38;5;241m.\u001b[39mconv1(x)\n\u001b[0;32m---> 36\u001b[0m x \u001b[38;5;241m=\u001b[39m \u001b[43mF\u001b[49m\u001b[38;5;241;43m.\u001b[39;49m\u001b[43mgelu\u001b[49m\u001b[43m(\u001b[49m\u001b[43mx\u001b[49m\u001b[43m)\u001b[49m\n\u001b[1;32m     37\u001b[0m x \u001b[38;5;241m=\u001b[39m \u001b[38;5;28mself\u001b[39m\u001b[38;5;241m.\u001b[39mconv2(x)\n\u001b[1;32m     38\u001b[0m \u001b[38;5;28;01mreturn\u001b[39;00m x \u001b[38;5;241m+\u001b[39m residual\n",
      "\u001b[0;31mKeyboardInterrupt\u001b[0m: "
     ]
    }
   ],
   "source": [
    "from tasks.state_prediction import eval_state_prediction\n",
    "eval_state_prediction(model,train_data,train_labels,test_data,test_labels,lr=0.001)"
   ]
  },
  {
   "cell_type": "code",
   "execution_count": null,
   "id": "4eef37f9-d2a1-4b4b-85c0-f020f4e0e366",
   "metadata": {},
   "outputs": [],
   "source": []
  }
 ],
 "metadata": {
  "kernelspec": {
   "display_name": "Python 3 (ipykernel)",
   "language": "python",
   "name": "python3"
  },
  "language_info": {
   "codemirror_mode": {
    "name": "ipython",
    "version": 3
   },
   "file_extension": ".py",
   "mimetype": "text/x-python",
   "name": "python",
   "nbconvert_exporter": "python",
   "pygments_lexer": "ipython3",
   "version": "3.11.11"
  }
 },
 "nbformat": 4,
 "nbformat_minor": 5
}
