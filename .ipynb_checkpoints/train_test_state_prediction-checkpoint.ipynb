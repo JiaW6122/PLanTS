{
 "cells": [
  {
   "cell_type": "code",
   "execution_count": 6,
   "id": "1e520362-af32-48d5-94ec-d41cd0019a45",
   "metadata": {},
   "outputs": [
    {
     "name": "stdout",
     "output_type": "stream",
     "text": [
      "Requirement already satisfied: einops in /opt/conda/lib/python3.11/site-packages (0.8.1)\n",
      "The autoreload extension is already loaded. To reload it, use:\n",
      "  %reload_ext autoreload\n"
     ]
    }
   ],
   "source": [
    "!pip install einops\n",
    "%load_ext autoreload\n",
    "%autoreload 2\n",
    "\n",
    "import seaborn as sns\n",
    "from dataclasses import dataclass\n",
    "import matplotlib.pyplot as plt\n",
    "\n",
    "import datautils\n",
    "from utils import init_dl_program\n",
    "from hdst import HDST\n",
    "import torch\n",
    "import gc\n",
    "import numpy as np"
   ]
  },
  {
   "cell_type": "markdown",
   "id": "a1f05ed6-5654-439d-b90c-f536b47e49b0",
   "metadata": {},
   "source": [
    "## Create Args Configuration Class"
   ]
  },
  {
   "cell_type": "code",
   "execution_count": 12,
   "id": "af8d59d2-5f8f-4473-a0d7-eddf3b4943f8",
   "metadata": {},
   "outputs": [],
   "source": [
    "@dataclass\n",
    "class Args:\n",
    "    task_weights: dict\n",
    "    dataset: str = \"\"\n",
    "    loader: str = \"\"\n",
    "    gpu: int = 0\n",
    "    static_repr_dims: int = 128\n",
    "    dynamic_repr_dims: int = 128\n",
    "    epochs: int = 200\n",
    "\n",
    "    run_name: str = \"\"\n",
    "    batch_size: int = 16\n",
    "    lr: float = 0.001\n",
    "    max_train_length = 800\n",
    "    iters: int = None\n",
    "    save_every = None\n",
    "    seed: int = 1234\n",
    "    max_threads = None\n",
    "    eval: bool = True\n",
    "    irregular = 0\n",
    "\n",
    "    sample_size: int = 50\n",
    "    window_size: int = 5"
   ]
  },
  {
   "cell_type": "markdown",
   "id": "a1bc736c-ca43-4a45-b7b8-d5297b6d74ca",
   "metadata": {},
   "source": [
    "## Instantiate Args Configuration Class\n",
    "Create an instance of arguments, specifying the necessary arguments and those important to your use case."
   ]
  },
  {
   "cell_type": "code",
   "execution_count": 13,
   "id": "51964981-9e2a-4dfa-bbc8-badb1e2ec44c",
   "metadata": {},
   "outputs": [],
   "source": [
    "args = Args(\n",
    "    static_repr_dims=128,\n",
    "    dynamic_repr_dims=128,\n",
    "    task_weights={\n",
    "        'local_static_contrast': 0.33,\n",
    "        'global_vatiant_contrast': 0.33,\n",
    "        'dynamic_trend_pred': 0.34,\n",
    "    },\n",
    "    eval=False,\n",
    "    batch_size=32,\n",
    ")\n",
    "\n",
    "device = init_dl_program(args.gpu, seed=args.seed, max_threads=args.max_threads)"
   ]
  },
  {
   "cell_type": "markdown",
   "id": "ef2757d0-70eb-4625-b386-cf7d380fd4cd",
   "metadata": {},
   "source": [
    "## Load your HAR data\n",
    "The UCIHAR dataset records 6 activities of daily living, i.e., walking, sitting, laying, standing, walking upstairs and walking downstairs. 30 participants at an age between 19 to 48 carry a smartphone on the waist while performing the activities. The smartphone records reading at a sampling rate of 50 Hz. The time-series measurements are pre-processed to extract 561 features."
   ]
  },
  {
   "cell_type": "markdown",
   "id": "65738d9e-12d5-4e26-ac5c-f47d3d31096c",
   "metadata": {},
   "source": [
    "Preprocess the HAR data to concatenate individual measurements. Shape of processed data: $(N, C, T)$ where $N$ is the number of time-series instances, $T$ the number of timesteps per instance, and $C$ the number of channels."
   ]
  },
  {
   "cell_type": "code",
   "execution_count": 14,
   "id": "b16f833c-04a7-439d-8233-da5997f54afa",
   "metadata": {},
   "outputs": [],
   "source": [
    "# !python datasets/preprocess_HAR.py"
   ]
  },
  {
   "cell_type": "code",
   "execution_count": 15,
   "id": "69519846-5bef-4610-886f-d9ae3140be74",
   "metadata": {},
   "outputs": [
    {
     "name": "stdout",
     "output_type": "stream",
     "text": [
      "Shapes - train data: (21, 561, 281), test data: (9, 561, 288)\n",
      "Shapes - train labels: (21, 281), test labels: (9, 288)\n"
     ]
    }
   ],
   "source": [
    "train_data, train_labels, test_data, test_labels = datautils.load_HAR(\"HAR_data\")\n",
    "print(f\"Shapes - train data: {train_data.shape}, test data: {test_data.shape}\")\n",
    "print(f\"Shapes - train labels: {train_labels.shape}, test labels: {test_labels.shape}\")"
   ]
  },
  {
   "cell_type": "markdown",
   "id": "3d638eaf-a7b6-4e24-800b-00647d28e84c",
   "metadata": {},
   "source": [
    "Reorder the dimension and form your data into an `np.ndarray` of shape $(N, T, C)$"
   ]
  },
  {
   "cell_type": "code",
   "execution_count": 16,
   "id": "f4306fa3-14ff-41db-a427-03eea470fd27",
   "metadata": {},
   "outputs": [
    {
     "name": "stdout",
     "output_type": "stream",
     "text": [
      "Shapes - train data: (21, 281, 561), test data: (9, 288, 561)\n",
      "Shapes - train labels: (21, 281), test labels: (9, 288)\n"
     ]
    }
   ],
   "source": [
    "train_data = np.transpose(train_data, (0, 2, 1)) \n",
    "test_data = np.transpose(test_data, (0, 2, 1))    \n",
    "print(f\"Shapes - train data: {train_data.shape}, test data: {test_data.shape}\")\n",
    "print(f\"Shapes - train labels: {train_labels.shape}, test labels: {test_labels.shape}\")"
   ]
  },
  {
   "cell_type": "markdown",
   "id": "cc89e316-5120-4e3d-919e-83ab4b27a4dc",
   "metadata": {},
   "source": [
    "## Create and Train the model"
   ]
  },
  {
   "cell_type": "code",
   "execution_count": 17,
   "id": "3e0a080c-c734-4bb7-a33b-13e33253b61a",
   "metadata": {},
   "outputs": [
    {
     "data": {
      "text/plain": [
       "2440"
      ]
     },
     "execution_count": 17,
     "metadata": {},
     "output_type": "execute_result"
    }
   ],
   "source": [
    "sns.set_theme()\n",
    "torch.cuda.empty_cache()\n",
    "gc.collect()"
   ]
  },
  {
   "cell_type": "code",
   "execution_count": 20,
   "id": "0ce8c7e4-9a28-40fc-99b7-abc2abc9608f",
   "metadata": {},
   "outputs": [
    {
     "name": "stdout",
     "output_type": "stream",
     "text": [
      "Training data shape: (21, 281, 561)\n",
      "Epoch #0: loss=1.2404946088790894\n",
      "Epoch #1: loss=1.7036030292510986\n",
      "Epoch #2: loss=1.2337825298309326\n",
      "Epoch #3: loss=1.2352582216262817\n",
      "Epoch #4: loss=1.2335811853408813\n",
      "Epoch #5: loss=1.2290122509002686\n",
      "Epoch #6: loss=1.2340337038040161\n",
      "Epoch #7: loss=1.2289800643920898\n",
      "Epoch #8: loss=1.2285388708114624\n",
      "Epoch #9: loss=1.230430245399475\n",
      "Epoch #10: loss=1.2297064065933228\n",
      "Epoch #11: loss=1.2256975173950195\n",
      "Epoch #12: loss=1.2253884077072144\n",
      "Epoch #13: loss=1.2248214483261108\n",
      "Epoch #14: loss=1.2238638401031494\n",
      "Epoch #15: loss=1.2240989208221436\n",
      "Epoch #16: loss=1.2249654531478882\n",
      "Epoch #17: loss=1.2239729166030884\n",
      "Epoch #18: loss=1.2157682180404663\n",
      "Epoch #19: loss=1.2306228876113892\n",
      "Epoch #20: loss=1.2167255878448486\n",
      "Epoch #21: loss=1.220805287361145\n",
      "Epoch #22: loss=1.2161879539489746\n",
      "Epoch #23: loss=1.210570216178894\n",
      "Epoch #24: loss=1.212729811668396\n",
      "Epoch #25: loss=1.2130206823349\n",
      "Epoch #26: loss=1.2119847536087036\n",
      "Epoch #27: loss=1.2245362997055054\n",
      "Epoch #28: loss=1.2048066854476929\n",
      "Epoch #29: loss=1.2144889831542969\n",
      "Epoch #30: loss=1.1897001266479492\n",
      "Epoch #31: loss=1.2042258977890015\n",
      "Epoch #32: loss=1.200437307357788\n",
      "Epoch #33: loss=1.1939955949783325\n",
      "Epoch #34: loss=1.1828012466430664\n",
      "Epoch #35: loss=1.233789324760437\n",
      "Epoch #36: loss=1.2004029750823975\n",
      "Epoch #37: loss=1.2160977125167847\n",
      "Epoch #38: loss=1.2214537858963013\n",
      "Epoch #39: loss=1.2189178466796875\n",
      "Epoch #40: loss=1.2191472053527832\n",
      "Epoch #41: loss=1.218096375465393\n",
      "Epoch #42: loss=1.2108632326126099\n",
      "Epoch #43: loss=1.200805425643921\n",
      "Epoch #44: loss=1.2007157802581787\n",
      "Epoch #45: loss=1.1828089952468872\n",
      "Epoch #46: loss=1.2079920768737793\n",
      "Epoch #47: loss=1.1858998537063599\n",
      "Epoch #48: loss=1.192799687385559\n",
      "Epoch #49: loss=1.189132809638977\n",
      "Epoch #50: loss=1.1920506954193115\n",
      "Epoch #51: loss=1.1859444379806519\n",
      "Epoch #52: loss=1.180923581123352\n",
      "Epoch #53: loss=1.1847617626190186\n",
      "Epoch #54: loss=1.1806586980819702\n",
      "Epoch #55: loss=1.1705524921417236\n",
      "Epoch #56: loss=1.1729071140289307\n",
      "Epoch #57: loss=1.1687085628509521\n",
      "Epoch #58: loss=1.1527820825576782\n",
      "Epoch #59: loss=1.1575076580047607\n",
      "Epoch #60: loss=1.164529800415039\n",
      "Epoch #61: loss=1.157539963722229\n",
      "Epoch #62: loss=1.1395891904830933\n",
      "Epoch #63: loss=1.1388052701950073\n",
      "Epoch #64: loss=1.1553211212158203\n",
      "Epoch #65: loss=1.1392463445663452\n",
      "Epoch #66: loss=1.1377378702163696\n",
      "Epoch #67: loss=1.1283456087112427\n",
      "Epoch #68: loss=1.1302586793899536\n",
      "Epoch #69: loss=1.1138423681259155\n",
      "Epoch #70: loss=1.1259846687316895\n",
      "Epoch #71: loss=1.140019178390503\n",
      "Epoch #72: loss=1.1327437162399292\n",
      "Epoch #73: loss=1.1297805309295654\n",
      "Epoch #74: loss=1.112267255783081\n",
      "Epoch #75: loss=1.1007276773452759\n",
      "Epoch #76: loss=1.0981957912445068\n",
      "Epoch #77: loss=1.1233829259872437\n",
      "Epoch #78: loss=1.1256816387176514\n",
      "Epoch #79: loss=1.102234959602356\n",
      "Epoch #80: loss=1.0945889949798584\n",
      "Epoch #81: loss=1.1114290952682495\n",
      "Epoch #82: loss=1.084638237953186\n",
      "Epoch #83: loss=1.082221508026123\n",
      "Epoch #84: loss=1.0853137969970703\n",
      "Epoch #85: loss=1.0640543699264526\n",
      "Epoch #86: loss=1.078200101852417\n",
      "Epoch #87: loss=1.0590473413467407\n",
      "Epoch #88: loss=1.0619595050811768\n",
      "Epoch #89: loss=1.0414544343948364\n",
      "Epoch #90: loss=1.055392861366272\n",
      "Epoch #91: loss=1.042250633239746\n",
      "Epoch #92: loss=1.0383820533752441\n",
      "Epoch #93: loss=1.039360523223877\n",
      "Epoch #94: loss=1.0402365922927856\n",
      "Epoch #95: loss=1.0355826616287231\n",
      "Epoch #96: loss=1.0064629316329956\n",
      "Epoch #97: loss=1.0264209508895874\n",
      "Epoch #98: loss=1.009992241859436\n",
      "Epoch #99: loss=1.0227805376052856\n",
      "Epoch #100: loss=1.007311224937439\n",
      "Epoch #101: loss=1.017993688583374\n",
      "Epoch #102: loss=1.036192774772644\n",
      "Epoch #103: loss=1.043121099472046\n",
      "Epoch #104: loss=1.0539759397506714\n",
      "Epoch #105: loss=1.032148838043213\n",
      "Epoch #106: loss=1.0078603029251099\n",
      "Epoch #107: loss=1.0390335321426392\n",
      "Epoch #108: loss=1.0109126567840576\n",
      "Epoch #109: loss=1.0096549987792969\n",
      "Epoch #110: loss=1.008050560951233\n",
      "Epoch #111: loss=1.0033373832702637\n",
      "Epoch #112: loss=1.010540246963501\n",
      "Epoch #113: loss=1.0052716732025146\n",
      "Epoch #114: loss=0.9767659902572632\n",
      "Epoch #115: loss=0.9860822558403015\n",
      "Epoch #116: loss=0.9910314083099365\n",
      "Epoch #117: loss=0.9646207094192505\n",
      "Epoch #118: loss=0.9731818437576294\n",
      "Epoch #119: loss=0.9694386720657349\n",
      "Epoch #120: loss=0.9662026762962341\n",
      "Epoch #121: loss=0.9319829940795898\n",
      "Epoch #122: loss=0.9469572901725769\n",
      "Epoch #123: loss=0.9443106055259705\n",
      "Epoch #124: loss=0.9601765871047974\n",
      "Epoch #125: loss=0.9383390545845032\n",
      "Epoch #126: loss=0.9569104313850403\n",
      "Epoch #127: loss=0.9347229599952698\n",
      "Epoch #128: loss=0.9199391007423401\n",
      "Epoch #129: loss=0.9213405847549438\n",
      "Epoch #130: loss=0.9027523994445801\n",
      "Epoch #131: loss=0.9038010835647583\n",
      "Epoch #132: loss=0.8964607119560242\n",
      "Epoch #133: loss=0.9020081758499146\n",
      "Epoch #134: loss=0.8918044567108154\n",
      "Epoch #135: loss=0.8951998949050903\n",
      "Epoch #136: loss=0.8775774836540222\n",
      "Epoch #137: loss=0.9234588146209717\n",
      "Epoch #138: loss=0.9063085913658142\n",
      "Epoch #139: loss=0.8632084727287292\n",
      "Epoch #140: loss=0.8949217796325684\n",
      "Epoch #141: loss=0.8503875136375427\n",
      "Epoch #142: loss=0.881786048412323\n",
      "Epoch #143: loss=0.8746497631072998\n",
      "Epoch #144: loss=0.8663320541381836\n",
      "Epoch #145: loss=0.8637709021568298\n",
      "Epoch #146: loss=0.8478527665138245\n",
      "Epoch #147: loss=0.8686081767082214\n",
      "Epoch #148: loss=0.8236309885978699\n",
      "Epoch #149: loss=0.8289846777915955\n",
      "Epoch #150: loss=0.8384110927581787\n",
      "Epoch #151: loss=0.8401445746421814\n",
      "Epoch #152: loss=0.832231879234314\n",
      "Epoch #153: loss=0.843776285648346\n",
      "Epoch #154: loss=0.8323267102241516\n",
      "Epoch #155: loss=0.8305727243423462\n",
      "Epoch #156: loss=0.8202870488166809\n",
      "Epoch #157: loss=0.7824743390083313\n",
      "Epoch #158: loss=0.8186721801757812\n",
      "Epoch #159: loss=0.8788231015205383\n",
      "Epoch #160: loss=0.8225290179252625\n",
      "Epoch #161: loss=0.8308350443840027\n",
      "Epoch #162: loss=0.8270463943481445\n",
      "Epoch #163: loss=0.8504613041877747\n",
      "Epoch #164: loss=0.8096424341201782\n",
      "Epoch #165: loss=0.8193822503089905\n",
      "Epoch #166: loss=0.8311852216720581\n",
      "Epoch #167: loss=0.7855679392814636\n",
      "Epoch #168: loss=0.813322901725769\n",
      "Epoch #169: loss=0.8121008276939392\n",
      "Epoch #170: loss=0.7865569591522217\n",
      "Epoch #171: loss=0.812190592288971\n",
      "Epoch #172: loss=0.7859503030776978\n",
      "Epoch #173: loss=0.7994643449783325\n",
      "Epoch #174: loss=0.8083071708679199\n",
      "Epoch #175: loss=0.7576116323471069\n",
      "Epoch #176: loss=0.7660846710205078\n",
      "Epoch #177: loss=0.7843791246414185\n",
      "Epoch #178: loss=0.7785638570785522\n",
      "Epoch #179: loss=0.7664153575897217\n",
      "Epoch #180: loss=0.7794968485832214\n",
      "Epoch #181: loss=0.7427822351455688\n",
      "Epoch #182: loss=0.7689967751502991\n",
      "Epoch #183: loss=0.7393205165863037\n",
      "Epoch #184: loss=0.7537073493003845\n",
      "Epoch #185: loss=0.7474679350852966\n",
      "Epoch #186: loss=0.7348350882530212\n",
      "Epoch #187: loss=0.7236918210983276\n",
      "Epoch #188: loss=0.7417311072349548\n",
      "Epoch #189: loss=0.7331515550613403\n",
      "Epoch #190: loss=0.76139897108078\n",
      "Epoch #191: loss=0.736335039138794\n",
      "Epoch #192: loss=0.7254773378372192\n",
      "Epoch #193: loss=0.7207084894180298\n",
      "Epoch #194: loss=0.7458370327949524\n",
      "Epoch #195: loss=0.7064836025238037\n",
      "Epoch #196: loss=0.7228572964668274\n",
      "Epoch #197: loss=0.6972932815551758\n",
      "Epoch #198: loss=0.702269434928894\n",
      "Epoch #199: loss=0.7065381407737732\n",
      "Model training time: 25.59 seconds\n"
     ]
    }
   ],
   "source": [
    "import time\n",
    "start_time = time.time()\n",
    "model = HDST(\n",
    "    input_dims=train_data.shape[-1],\n",
    "    device=device,\n",
    "    task_weights=args.task_weights,\n",
    "    batch_size=args.batch_size,\n",
    "    lr=args.lr,\n",
    "    output_dims1=args.static_repr_dims,\n",
    "    output_dims2=args.dynamic_repr_dims,\n",
    "    max_train_length=args.max_train_length\n",
    ")\n",
    "\n",
    "loss_log = model.fit(\n",
    "    train_data,\n",
    "    n_epochs=args.epochs,\n",
    "    n_iters=args.iters,\n",
    "    k=args.sample_size,\n",
    "    w=args.window_size\n",
    ")\n",
    "end_time = time.time()\n",
    "training_time = end_time - start_time\n",
    "print(f\"Model training time: {training_time:.2f} seconds\")"
   ]
  },
  {
   "cell_type": "markdown",
   "id": "b2801942-d5d0-47a1-9f33-f82006f12425",
   "metadata": {},
   "source": [
    "Save model and loss log"
   ]
  },
  {
   "cell_type": "code",
   "execution_count": 21,
   "id": "3ee8e10d-aead-4107-ab00-6b34690ca303",
   "metadata": {},
   "outputs": [],
   "source": [
    "import torch\n",
    "torch.save(model, 'logs/mymodel_HAR.pth')\n",
    "import pandas as pd\n",
    "df = pd.DataFrame({\"epoch\": list(range(1, len(loss_log) + 1)), \"loss\": loss_log})\n",
    "df.to_csv(\"logs/loss_log_HAR.csv\", index=False)"
   ]
  },
  {
   "cell_type": "markdown",
   "id": "2b646a4b-0291-49df-a19b-aa40b4549e5d",
   "metadata": {},
   "source": [
    "Visualize the loss curve and save figure"
   ]
  },
  {
   "cell_type": "code",
   "execution_count": 22,
   "id": "5a97b47a-04d8-45e0-969e-f74ac670576d",
   "metadata": {},
   "outputs": [
    {
     "data": {
      "image/png": "[encoded data removed]",
      "text/plain": [
       "<Figure size 640x480 with 1 Axes>"
      ]
     },
     "metadata": {},
     "output_type": "display_data"
    }
   ],
   "source": [
    "import matplotlib.pyplot as plt\n",
    "# print(loss_log)\n",
    "plt.plot(loss_log, label=\"Loss\")\n",
    "plt.xlabel(\"Epoch\")\n",
    "plt.ylabel(\"Loss\")\n",
    "plt.title(\"Training Loss Curve\")\n",
    "plt.legend()\n",
    "plt.grid(True)\n",
    "plt.savefig(\"loss_curve.png\")\n",
    "plt.show()"
   ]
  },
  {
   "cell_type": "markdown",
   "id": "6bc062a5-48c4-4671-b78d-0dc8d4420c77",
   "metadata": {},
   "source": [
    "## Test the model\n",
    "Firstly, get the representation of training data and test data using `model.encode`. Then train a simple classifier (svm) using training representation and corresponding training labels. Finally, use the classifier to do calssification for test representation. Report the acc and auprc."
   ]
  },
  {
   "cell_type": "code",
   "execution_count": 9,
   "id": "22bba3a8-aa7a-4566-8a39-01abb8bbd31a",
   "metadata": {},
   "outputs": [
    {
     "name": "stdout",
     "output_type": "stream",
     "text": [
      "acc: 0.4666666666666667 auprc: 0.3915506715506715\n"
     ]
    }
   ],
   "source": []
  },
  {
   "cell_type": "code",
   "execution_count": null,
   "id": "a8bc0d94-51cf-44f6-9d46-9ed4c5de4255",
   "metadata": {},
   "outputs": [],
   "source": []
  }
 ],
 "metadata": {
  "kernelspec": {
   "display_name": "Python 3 (ipykernel)",
   "language": "python",
   "name": "python3"
  },
  "language_info": {
   "codemirror_mode": {
    "name": "ipython",
    "version": 3
   },
   "file_extension": ".py",
   "mimetype": "text/x-python",
   "name": "python",
   "nbconvert_exporter": "python",
   "pygments_lexer": "ipython3",
   "version": "3.11.11"
  }
 },
 "nbformat": 4,
 "nbformat_minor": 5
}
