{
 "cells": [
  {
   "cell_type": "code",
   "execution_count": 1,
   "id": "1e520362-af32-48d5-94ec-d41cd0019a45",
   "metadata": {},
   "outputs": [
    {
     "name": "stdout",
     "output_type": "stream",
     "text": [
      "Requirement already satisfied: einops in /opt/conda/lib/python3.12/site-packages (0.8.1)\n",
      "Requirement already satisfied: tslearn in /opt/conda/lib/python3.12/site-packages (0.6.3)\n",
      "Requirement already satisfied: numpy in /opt/conda/lib/python3.12/site-packages (from tslearn) (1.26.4)\n",
      "Requirement already satisfied: scipy in /opt/conda/lib/python3.12/site-packages (from tslearn) (1.15.2)\n",
      "Requirement already satisfied: scikit-learn in /opt/conda/lib/python3.12/site-packages (from tslearn) (1.5.2)\n",
      "Requirement already satisfied: numba in /opt/conda/lib/python3.12/site-packages (from tslearn) (0.61.2)\n",
      "Requirement already satisfied: joblib in /opt/conda/lib/python3.12/site-packages (from tslearn) (1.5.0)\n",
      "Requirement already satisfied: llvmlite<0.45,>=0.44.0dev0 in /opt/conda/lib/python3.12/site-packages (from numba->tslearn) (0.44.0)\n",
      "Requirement already satisfied: threadpoolctl>=3.1.0 in /opt/conda/lib/python3.12/site-packages (from scikit-learn->tslearn) (3.6.0)\n"
     ]
    }
   ],
   "source": [
    "!pip install einops\n",
    "!pip install tslearn\n",
    "%load_ext autoreload\n",
    "%autoreload 2\n",
    "\n",
    "import seaborn as sns\n",
    "from dataclasses import dataclass, field\n",
    "import matplotlib.pyplot as plt\n",
    "\n",
    "import datautils\n",
    "from utils import init_dl_program\n",
    "from hdst import HDST\n",
    "import torch\n",
    "import gc\n",
    "import numpy as np"
   ]
  },
  {
   "cell_type": "markdown",
   "id": "a1f05ed6-5654-439d-b90c-f536b47e49b0",
   "metadata": {},
   "source": [
    "## Create Args Configuration Class"
   ]
  },
  {
   "cell_type": "code",
   "execution_count": 2,
   "id": "4d6486c5-dbe7-4ba2-8e2a-14faf2eed082",
   "metadata": {},
   "outputs": [],
   "source": [
    "# @dataclass\n",
    "# class Args:\n",
    "#     task_weights: dict\n",
    "#     dataset: str = \"\"\n",
    "#     loader: str = \"\"\n",
    "#     gpu: int = 0\n",
    "#     static_repr_dims: int = 128\n",
    "#     dynamic_repr_dims: int = 128\n",
    "#     epochs: int = 200\n",
    "\n",
    "#     run_name: str = \"\"\n",
    "#     batch_size: int = 128\n",
    "#     lr: float = 0.0001\n",
    "#     max_train_length = 800\n",
    "#     iters: int = None\n",
    "#     save_every = None\n",
    "#     seed: int = 1234\n",
    "#     max_threads = None\n",
    "#     eval: bool = True\n",
    "#     irregular = 0\n",
    "\n",
    "#     sample_size: int = 20\n",
    "#     # window_size: int = 20\n",
    "#     window_size: str = \"Auto\"\n",
    "#     # window_size: list = field(default_factory=lambda: [20, 100, 200])\n",
    "#     distance: str = \"mcc\"\n",
    "#     top_k: int =3 # Use the top k prominent periodicity as time scale. If use sepcified window size, you can set top_k as random number.\n",
    "#     tmp_emb_type: str = \"original\" # Define the embedding type of time stamps. \n",
    "#         #'temporal_fixed': using FixedEmbedding with explicit timestamps inputs. Like ETT\n",
    "#         #'temporal_learn': using nn.Embedding with explicit timestamps inputs.\n",
    "#         #'positional': using PositionalEmbedding with synthetic timestamps inputs. Like UEA\n",
    "#         #'original' : using original input to extract dynamic information. \n",
    "#     freq: str = 'h' # 'h' for 'ETTh1', 'ETTh2', 't' for 'ETTm1' and 'ETTm2'"
   ]
  },
  {
   "cell_type": "code",
   "execution_count": 3,
   "id": "ed66d77a-e019-43e7-8d0d-78546b648ce3",
   "metadata": {},
   "outputs": [],
   "source": [
    "@dataclass\n",
    "class Args:\n",
    "    task_weights: dict\n",
    "    dataset: str = \"\"\n",
    "    loader: str = \"\"\n",
    "    gpu: int = 0\n",
    "    static_repr_dims: int = 128\n",
    "    dynamic_repr_dims: int = 128\n",
    "    epochs: int = None\n",
    "\n",
    "    run_name: str = \"\"\n",
    "    batch_size: int = 128\n",
    "    lr: float = 0.001\n",
    "    max_train_length = 800\n",
    "    iters: int = None\n",
    "    save_every = None\n",
    "    seed: int = 1234\n",
    "    max_threads = None\n",
    "    eval: bool = True\n",
    "    irregular = 0\n",
    "\n",
    "    sample_size: int = 20\n",
    "    window_size: int = 10\n",
    "    # window_size: str = \"Auto\"\n",
    "    # window_size: list = field(default_factory=lambda: [20, 100, 200])\n",
    "    distance: str = \"mcc\"\n",
    "    top_k: int =3 # Use the top k prominent periodicity as time scale. If use sepcified window size, you can set top_k as random number.\n",
    "    tmp_emb_type: str = \"original\" # Define the embedding type of time stamps. \n",
    "        #'temporal_fixed': using FixedEmbedding with explicit timestamps inputs. Like ETT\n",
    "        #'temporal_learn': using nn.Embedding with explicit timestamps inputs.\n",
    "        #'positional': using PositionalEmbedding with synthetic timestamps inputs. Like UEA\n",
    "        #'original' : using original input to extract dynamic information. \n",
    "    freq: str = 'h' # 'h' for 'ETTh1', 'ETTh2', 't' for 'ETTm1' and 'ETTm2'"
   ]
  },
  {
   "cell_type": "markdown",
   "id": "a1bc736c-ca43-4a45-b7b8-d5297b6d74ca",
   "metadata": {},
   "source": [
    "## Instantiate Args Configuration Class\n",
    "Create an instance of arguments, specifying the necessary arguments and those important to your use case."
   ]
  },
  {
   "cell_type": "code",
   "execution_count": 4,
   "id": "51964981-9e2a-4dfa-bbc8-badb1e2ec44c",
   "metadata": {},
   "outputs": [],
   "source": [
    "args = Args(\n",
    "    static_repr_dims=128,\n",
    "    dynamic_repr_dims=128,\n",
    "    task_weights={\n",
    "        'local_static_contrast': 0.25,\n",
    "        'global_vatiant_contrast': 0.25,\n",
    "        'dynamic_trend_pred': 0.5,\n",
    "        'dynamic_trend_pred2': 0.0,\n",
    "    },\n",
    "    eval=False,\n",
    ")\n",
    "\n",
    "device = init_dl_program(args.gpu, seed=args.seed, max_threads=args.max_threads)"
   ]
  },
  {
   "cell_type": "markdown",
   "id": "ef2757d0-70eb-4625-b386-cf7d380fd4cd",
   "metadata": {},
   "source": [
    "## Load your data\n",
    "You can use any data, as long as it is an `np.ndarray` of shape $(N, T, C)$ where $N$ is the number of time-series instances, $T$ the number of timesteps per instance, and $C$ the number of channels.\n",
    "Choosing from \"UCR\", \"UEA\", \"ECG\" and \"HAR\" (ECG and HAR are not available right now)"
   ]
  },
  {
   "cell_type": "markdown",
   "id": "0a9cdacb-a895-4211-9375-9c5d50386ad5",
   "metadata": {},
   "source": [
    "### UCR\n",
    "There are 128 UCR Time Series Classification datasets under UCR folder. Choose one to load."
   ]
  },
  {
   "cell_type": "code",
   "execution_count": 5,
   "id": "dc8966d2-184d-4ae8-a81a-caa095e78025",
   "metadata": {},
   "outputs": [],
   "source": [
    "# train_data, train_labels, test_data, test_labels = datautils.load_UCR(\"ACSF1\")\n",
    "# print(f\"Shapes - train data: {train_data.shape}, test data: {test_data.shape}\")"
   ]
  },
  {
   "cell_type": "markdown",
   "id": "71595a05-6bf7-4517-a1a6-d391e3ad68a7",
   "metadata": {},
   "source": [
    "### UEA\n",
    "There are 30 multivariate UEA Time Series Classification datasets under UEA folder. Choose one to load."
   ]
  },
  {
   "cell_type": "code",
   "execution_count": 6,
   "id": "385745a4-4945-4793-8e33-285a4c66ce93",
   "metadata": {},
   "outputs": [],
   "source": [
    "import os\n",
    "import numpy as np\n",
    "import pandas as pd\n",
    "from sklearn.preprocessing import StandardScaler \n",
    "import s3fs\n",
    "import io\n",
    "\n",
    "from utils import pkl_load, pad_nan_to_target\n",
    "from scipy.io.arff import loadarff\n",
    "import pickle\n",
    "import matplotlib.pyplot as plt\n",
    "from matplotlib.patches import Patch\n",
    "from timefeatures import time_features\n",
    "def load_UEA(dataset, normalize=True, s3_bucket=None, s3_prefix=None):\n",
    "    if s3_bucket is not None:\n",
    "        fs = s3fs.S3FileSystem()\n",
    "        if s3_bucket.startswith('s3://'):\n",
    "            s3_bucket = s3_bucket[5:]  # Remove 's3://'\n",
    " \n",
    "        train_path = f'{s3_bucket}/{s3_prefix}/UEA/{dataset}/{dataset}_TRAIN.arff'\n",
    "        test_path = f'{s3_bucket}/{s3_prefix}/UEA/{dataset}/{dataset}_TEST.arff'\n",
    " \n",
    "        with fs.open(train_path, 'rb') as f:\n",
    "            train_data = loadarff(io.TextIOWrapper(f, encoding='utf-8'))[0]\n",
    "        with fs.open(test_path, 'rb') as f:\n",
    "            test_data = loadarff(io.TextIOWrapper(f, encoding='utf-8'))[0]\n",
    "    else:\n",
    "        # Local mode\n",
    "        train_data = loadarff(f'datasets/UEA/{dataset}/{dataset}_TRAIN.arff')[0]\n",
    "        test_data = loadarff(f'datasets/UEA/{dataset}/{dataset}_TEST.arff')[0]\n",
    " \n",
    "    def extract_data(data):\n",
    "        res_data = []\n",
    "        res_labels = []\n",
    "        for t_data, t_label in data:\n",
    "            t_data = np.array([d.tolist() for d in t_data])\n",
    "            t_label = t_label.decode(\"utf-8\")\n",
    "            res_data.append(t_data)\n",
    "            res_labels.append(t_label)\n",
    "        return np.array(res_data).swapaxes(1, 2), np.array(res_labels)\n",
    " \n",
    "    train_X, train_y = extract_data(train_data)\n",
    "    test_X, test_y = extract_data(test_data)\n",
    " \n",
    "    if normalize:\n",
    "        scaler = StandardScaler()\n",
    "        scaler.fit(train_X.reshape(-1, train_X.shape[-1]))\n",
    "        train_X = scaler.transform(train_X.reshape(-1, train_X.shape[-1])).reshape(train_X.shape)\n",
    "        test_X = scaler.transform(test_X.reshape(-1, test_X.shape[-1])).reshape(test_X.shape)\n",
    " \n",
    "    labels = np.unique(train_y)\n",
    "    transform = {k: i for i, k in enumerate(labels)}\n",
    "    train_y = np.vectorize(transform.get)(train_y)\n",
    "    test_y = np.vectorize(transform.get)(test_y)\n",
    " \n",
    "    return train_X, train_y, test_X, test_y"
   ]
  },
  {
   "cell_type": "code",
   "execution_count": 7,
   "id": "a8ee4c4a-f08d-4743-852f-e567b9059f6b",
   "metadata": {},
   "outputs": [
    {
     "name": "stdout",
     "output_type": "stream",
     "text": [
      "Shapes - train data: (275, 144, 9), test data: (300, 144, 9)\n",
      "Shapes - train tmp: (275, 144, 1), test tmp: (300, 144, 1)\n",
      "Shapes - train all: (275, 144, 10), test all: (300, 144, 10)\n"
     ]
    }
   ],
   "source": [
    "train_data, train_labels, test_data, test_labels = load_UEA(\"ArticularyWordRecognition\", s3_bucket=\"sagemaker-bdrl-aws\", s3_prefix=\"xiaowang/HDST\")\n",
    "N1, T1, n_channels = train_data.shape\n",
    "N2, T2, _ = test_data.shape\n",
    "train_mark = np.arange(T1)  \n",
    "train_mark_full = np.broadcast_to(train_mark[None, :, None], (N1, T1, 1))  # (N1, T1, 1)\n",
    "test_mark = np.arange(T2)  \n",
    "test_mark_full = np.broadcast_to(test_mark[None, :, None], (N2, T2, 1))  # (N2, T2, 1)\n",
    "print(f\"Shapes - train data: {train_data.shape}, test data: {test_data.shape}\")\n",
    "print(f\"Shapes - train tmp: {train_mark_full.shape}, test tmp: {test_mark_full.shape}\")\n",
    "train_all=np.concatenate((train_data,train_mark_full),axis=2)\n",
    "test_all=np.concatenate((test_data,test_mark_full),axis=2)\n",
    "print(f\"Shapes - train all: {train_all.shape}, test all: {test_all.shape}\")"
   ]
  },
  {
   "cell_type": "markdown",
   "id": "cc89e316-5120-4e3d-919e-83ab4b27a4dc",
   "metadata": {},
   "source": [
    "## Create and Train the model"
   ]
  },
  {
   "cell_type": "code",
   "execution_count": 60,
   "id": "3e0a080c-c734-4bb7-a33b-13e33253b61a",
   "metadata": {},
   "outputs": [
    {
     "data": {
      "text/plain": [
       "47"
      ]
     },
     "execution_count": 60,
     "metadata": {},
     "output_type": "execute_result"
    }
   ],
   "source": [
    "sns.set_theme()\n",
    "torch.cuda.empty_cache()\n",
    "gc.collect()"
   ]
  },
  {
   "cell_type": "code",
   "execution_count": 61,
   "id": "437c2780-8d1e-4968-a0ac-041fff3664c6",
   "metadata": {},
   "outputs": [
    {
     "name": "stdout",
     "output_type": "stream",
     "text": [
      "Training data shape: (25000, 22, 200)\n",
      "Scale list: [10]\n"
     ]
    },
    {
     "name": "stderr",
     "output_type": "stream",
     "text": [
      "Training: 3it [01:04, 21.61s/it, epoch=3, loss=0.0184]"
     ]
    },
    {
     "name": "stdout",
     "output_type": "stream",
     "text": [
      "Model training time: 65.17 seconds\n"
     ]
    },
    {
     "name": "stderr",
     "output_type": "stream",
     "text": [
      "\n"
     ]
    }
   ],
   "source": [
    "import time\n",
    "import os\n",
    "# os.environ['CUDA_LAUNCH_BLOCKING'] = \"1\"\n",
    "\n",
    "start_time = time.time()\n",
    "model = HDST(\n",
    "    input_dims=train_data.shape[-1],\n",
    "    tmp_embed_type=args.tmp_emb_type,\n",
    "    freq=args.freq,\n",
    "    device=device,\n",
    "    task_weights=args.task_weights,\n",
    "    batch_size=args.batch_size,\n",
    "    lr=args.lr,\n",
    "    output_dims1=args.static_repr_dims,\n",
    "    output_dims2=args.dynamic_repr_dims,\n",
    "    max_train_length=args.max_train_length\n",
    ")\n",
    "\n",
    "loss_log = model.fit(\n",
    "    train_all,\n",
    "    n_epochs=args.epochs,\n",
    "    n_iters=args.iters,\n",
    "    k=args.sample_size,\n",
    "    w=args.window_size,\n",
    "    distance=args.distance,\n",
    "    top_k=args.top_k,\n",
    "    n_channels=n_channels\n",
    ")\n",
    "end_time = time.time()\n",
    "training_time = end_time - start_time\n",
    "print(f\"Model training time: {training_time:.2f} seconds\")"
   ]
  },
  {
   "cell_type": "markdown",
   "id": "b2801942-d5d0-47a1-9f33-f82006f12425",
   "metadata": {},
   "source": [
    "Save model and loss log"
   ]
  },
  {
   "cell_type": "code",
   "execution_count": 62,
   "id": "3ee8e10d-aead-4107-ab00-6b34690ca303",
   "metadata": {},
   "outputs": [],
   "source": [
    "# import torch\n",
    "# torch.save(model, 'mymodel.pth')\n",
    "# import pandas as pd\n",
    "# df = pd.DataFrame({\"epoch\": list(range(1, len(loss_log) + 1)), \"loss\": loss_log})\n",
    "# df.to_csv(\"loss_log.csv\", index=False)"
   ]
  },
  {
   "cell_type": "markdown",
   "id": "2b646a4b-0291-49df-a19b-aa40b4549e5d",
   "metadata": {},
   "source": [
    "Visualize the loss curve and save figure"
   ]
  },
  {
   "cell_type": "code",
   "execution_count": 63,
   "id": "5a97b47a-04d8-45e0-969e-f74ac670576d",
   "metadata": {},
   "outputs": [
    {
     "data": {
      "image/png": "[encoded data removed]",
      "text/plain": [
       "<Figure size 640x480 with 1 Axes>"
      ]
     },
     "metadata": {},
     "output_type": "display_data"
    }
   ],
   "source": [
    "import matplotlib.pyplot as plt\n",
    "# print(loss_log)\n",
    "plt.plot(loss_log, label=\"Loss\")\n",
    "plt.xlabel(\"Epoch\")\n",
    "plt.ylabel(\"Loss\")\n",
    "plt.title(\"Training Loss Curve\")\n",
    "plt.legend()\n",
    "plt.grid(True)\n",
    "plt.savefig(\"loss_curve.png\")\n",
    "plt.show()"
   ]
  },
  {
   "cell_type": "markdown",
   "id": "6bc062a5-48c4-4671-b78d-0dc8d4420c77",
   "metadata": {},
   "source": [
    "## Test the model\n",
    "Firstly, get the representation of training data and test data using `model.encode`. Then train a simple classifier (svm) using training representation and corresponding training labels. Finally, use the classifier to do calssification for test representation. Report the acc and auprc."
   ]
  },
  {
   "cell_type": "code",
   "execution_count": 64,
   "id": "96ee90f8-002e-48c3-b4a1-08f38e5af53e",
   "metadata": {},
   "outputs": [
    {
     "name": "stdout",
     "output_type": "stream",
     "text": [
      "{'acc': 0.38132, 'auprc': 0.3449488109536879}\n"
     ]
    }
   ],
   "source": [
    "from tasks.classification import eval_classification\n",
    "out, eval_res = eval_classification(\n",
    "                model,\n",
    "                train_all,\n",
    "                train_labels,\n",
    "                test_all,\n",
    "                test_labels,\n",
    "                n_channels,\n",
    "                encoding_protocol='full_series',\n",
    "                eval_protocol='svm'\n",
    "            )\n",
    "print(eval_res)"
   ]
  },
  {
   "cell_type": "code",
   "execution_count": 56,
   "id": "a8bc0d94-51cf-44f6-9d46-9ed4c5de4255",
   "metadata": {},
   "outputs": [],
   "source": [
    "# import numpy as np\n",
    "# import matplotlib.pyplot as plt\n",
    "# from sklearn.manifold import TSNE\n",
    "# from sklearn.preprocessing import LabelEncoder\n",
    "\n",
    "# # Your data\n",
    "# # train_repr: shape (n_samples, n_features)\n",
    "# # train_labels: shape (n_samples,)\n",
    "# # Encode labels to integers (if not already)\n",
    "# label_encoder = LabelEncoder()\n",
    "# labels_encoded = label_encoder.fit_transform(train_labels)\n",
    "\n",
    "# n_samples = train_repr.shape[0]\n",
    "# perplexity = min(30, (n_samples - 1) // 3)  # Safe heuristic\n",
    "\n",
    "# # Run t-SNE\n",
    "# tsne = TSNE(n_components=2, perplexity=perplexity, learning_rate='auto', init='pca', random_state=42)\n",
    "# embedded = tsne.fit_transform(train_repr)\n",
    "\n",
    "# # Plot\n",
    "# plt.figure(figsize=(8, 6))\n",
    "# scatter = plt.scatter(embedded[:, 0], embedded[:, 1], c=labels_encoded, cmap='tab10', s=10)\n",
    "# plt.colorbar(scatter, ticks=np.unique(labels_encoded))\n",
    "# plt.title(\"t-SNE Visualization\")\n",
    "# plt.xlabel(\"t-SNE-1\")\n",
    "# plt.ylabel(\"t-SNE-2\")\n",
    "# plt.show()\n"
   ]
  },
  {
   "cell_type": "code",
   "execution_count": 134,
   "id": "e2d30a9e-16a0-47fd-bb4c-d26bf6c1e183",
   "metadata": {},
   "outputs": [],
   "source": [
    "# print(train_labels)"
   ]
  },
  {
   "cell_type": "code",
   "execution_count": null,
   "id": "2ebf7e69-ca4b-4cdb-bce2-05163bfa1e65",
   "metadata": {},
   "outputs": [],
   "source": []
  }
 ],
 "metadata": {
  "kernelspec": {
   "display_name": "Python 3 (ipykernel)",
   "language": "python",
   "name": "python3"
  },
  "language_info": {
   "codemirror_mode": {
    "name": "ipython",
    "version": 3
   },
   "file_extension": ".py",
   "mimetype": "text/x-python",
   "name": "python",
   "nbconvert_exporter": "python",
   "pygments_lexer": "ipython3",
   "version": "3.12.9"
  }
 },
 "nbformat": 4,
 "nbformat_minor": 5
}
