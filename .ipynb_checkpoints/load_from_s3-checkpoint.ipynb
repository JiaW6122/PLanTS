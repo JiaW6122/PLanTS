{
 "cells": [
  {
   "cell_type": "code",
   "execution_count": 11,
   "id": "0e40425e-01ea-4b34-80d4-aae09a63569a",
   "metadata": {},
   "outputs": [],
   "source": [
    "import os\n",
    "import numpy as np\n",
    "import pandas as pd\n",
    "from sklearn.preprocessing import StandardScaler \n",
    "import s3fs\n",
    "import io\n",
    "\n",
    "from utils import pkl_load, pad_nan_to_target\n",
    "from scipy.io.arff import loadarff\n",
    "import pickle\n",
    "import matplotlib.pyplot as plt\n",
    "from matplotlib.patches import Patch\n",
    "from timefeatures import time_features\n",
    "def load_UEA(dataset, normalize=True, s3_bucket=None, s3_prefix=None):\n",
    "    if s3_bucket is not None:\n",
    "        fs = s3fs.S3FileSystem()\n",
    "        if s3_bucket.startswith('s3://'):\n",
    "            s3_bucket = s3_bucket[5:]  # Remove 's3://'\n",
    " \n",
    "        train_path = f'{s3_bucket}/{s3_prefix}/UEA/{dataset}/{dataset}_TRAIN.arff'\n",
    "        test_path = f'{s3_bucket}/{s3_prefix}/UEA/{dataset}/{dataset}_TEST.arff'\n",
    " \n",
    "        with fs.open(train_path, 'rb') as f:\n",
    "            train_data = loadarff(io.TextIOWrapper(f, encoding='utf-8'))[0]\n",
    "        with fs.open(test_path, 'rb') as f:\n",
    "            test_data = loadarff(io.TextIOWrapper(f, encoding='utf-8'))[0]\n",
    "    else:\n",
    "        # Local mode\n",
    "        train_data = loadarff(f'datasets/UEA/{dataset}/{dataset}_TRAIN.arff')[0]\n",
    "        test_data = loadarff(f'datasets/UEA/{dataset}/{dataset}_TEST.arff')[0]\n",
    " \n",
    "    def extract_data(data):\n",
    "        res_data = []\n",
    "        res_labels = []\n",
    "        for t_data, t_label in data:\n",
    "            t_data = np.array([d.tolist() for d in t_data])\n",
    "            t_label = t_label.decode(\"utf-8\")\n",
    "            res_data.append(t_data)\n",
    "            res_labels.append(t_label)\n",
    "        return np.array(res_data).swapaxes(1, 2), np.array(res_labels)\n",
    " \n",
    "    train_X, train_y = extract_data(train_data)\n",
    "    test_X, test_y = extract_data(test_data)\n",
    " \n",
    "    if normalize:\n",
    "        scaler = StandardScaler()\n",
    "        scaler.fit(train_X.reshape(-1, train_X.shape[-1]))\n",
    "        train_X = scaler.transform(train_X.reshape(-1, train_X.shape[-1])).reshape(train_X.shape)\n",
    "        test_X = scaler.transform(test_X.reshape(-1, test_X.shape[-1])).reshape(test_X.shape)\n",
    " \n",
    "    labels = np.unique(train_y)\n",
    "    transform = {k: i for i, k in enumerate(labels)}\n",
    "    train_y = np.vectorize(transform.get)(train_y)\n",
    "    test_y = np.vectorize(transform.get)(test_y)\n",
    " \n",
    "    return train_X, train_y, test_X, test_y"
   ]
  },
  {
   "cell_type": "code",
   "execution_count": 16,
   "id": "9f437a03-4643-4467-95cd-7b349bf915d7",
   "metadata": {},
   "outputs": [],
   "source": [
    "train_data, train_labels, test_data, test_labels = load_UEA(\n",
    "    \"UWaveGestureLibrary\",\n",
    "    s3_bucket=\"sagemaker-bdrl-aws\",\n",
    "    s3_prefix=\"xiaowang/HDST\"\n",
    ")"
   ]
  },
  {
   "cell_type": "code",
   "execution_count": 17,
   "id": "599dc199-b2ce-43ee-a428-01bb5473d0e6",
   "metadata": {},
   "outputs": [
    {
     "name": "stdout",
     "output_type": "stream",
     "text": [
      "Shapes - train data: (120, 315, 3), test data: (320, 315, 3)\n"
     ]
    }
   ],
   "source": [
    "print(f\"Shapes - train data: {train_data.shape}, test data: {test_data.shape}\")"
   ]
  },
  {
   "cell_type": "code",
   "execution_count": null,
   "id": "dcbdf9f4-728e-47d0-942b-67f21d362f5d",
   "metadata": {},
   "outputs": [],
   "source": []
  }
 ],
 "metadata": {
  "kernelspec": {
   "display_name": "Python 3 (ipykernel)",
   "language": "python",
   "name": "python3"
  },
  "language_info": {
   "codemirror_mode": {
    "name": "ipython",
    "version": 3
   },
   "file_extension": ".py",
   "mimetype": "text/x-python",
   "name": "python",
   "nbconvert_exporter": "python",
   "pygments_lexer": "ipython3",
   "version": "3.12.9"
  }
 },
 "nbformat": 4,
 "nbformat_minor": 5
}
