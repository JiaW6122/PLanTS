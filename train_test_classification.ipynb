{
 "cells": [
  {
   "cell_type": "code",
   "execution_count": 1,
   "id": "1e520362-af32-48d5-94ec-d41cd0019a45",
   "metadata": {},
   "outputs": [
    {
     "name": "stdout",
     "output_type": "stream",
     "text": [
      "Collecting einops\n",
      "  Using cached einops-0.8.1-py3-none-any.whl.metadata (13 kB)\n",
      "Using cached einops-0.8.1-py3-none-any.whl (64 kB)\n",
      "Installing collected packages: einops\n",
      "Successfully installed einops-0.8.1\n"
     ]
    }
   ],
   "source": [
    "!pip install einops\n",
    "%load_ext autoreload\n",
    "%autoreload 2\n",
    "\n",
    "import seaborn as sns\n",
    "from dataclasses import dataclass\n",
    "import matplotlib.pyplot as plt\n",
    "\n",
    "import datautils\n",
    "from utils import init_dl_program\n",
    "from hdst import HDST\n",
    "import torch\n",
    "import gc\n",
    "import numpy as np"
   ]
  },
  {
   "cell_type": "markdown",
   "id": "a1f05ed6-5654-439d-b90c-f536b47e49b0",
   "metadata": {},
   "source": [
    "## Create Args Configuration Class"
   ]
  },
  {
   "cell_type": "code",
   "execution_count": 2,
   "id": "af8d59d2-5f8f-4473-a0d7-eddf3b4943f8",
   "metadata": {},
   "outputs": [],
   "source": [
    "@dataclass\n",
    "class Args:\n",
    "    task_weights: dict\n",
    "    dataset: str = \"\"\n",
    "    loader: str = \"\"\n",
    "    gpu: int = 0\n",
    "    static_repr_dims: int = 128\n",
    "    dynamic_repr_dims: int = 128\n",
    "    epochs: int = 200\n",
    "\n",
    "    run_name: str = \"\"\n",
    "    batch_size: int = 16\n",
    "    lr: float = 0.001\n",
    "    max_train_length = 800\n",
    "    iters: int = None\n",
    "    save_every = None\n",
    "    seed: int = 1234\n",
    "    max_threads = None\n",
    "    eval: bool = True\n",
    "    irregular = 0\n",
    "\n",
    "    sample_size: int = 50\n",
    "    window_size: int = 20"
   ]
  },
  {
   "cell_type": "markdown",
   "id": "a1bc736c-ca43-4a45-b7b8-d5297b6d74ca",
   "metadata": {},
   "source": [
    "## Instantiate Args Configuration Class\n",
    "Create an instance of arguments, specifying the necessary arguments and those important to your use case."
   ]
  },
  {
   "cell_type": "code",
   "execution_count": 3,
   "id": "51964981-9e2a-4dfa-bbc8-badb1e2ec44c",
   "metadata": {},
   "outputs": [],
   "source": [
    "args = Args(\n",
    "    static_repr_dims=128,\n",
    "    dynamic_repr_dims=128,\n",
    "    task_weights={\n",
    "        'local_static_contrast': 0.33,\n",
    "        'global_vatiant_contrast': 0.33,\n",
    "        'dynamic_trend_pred': 0.34,\n",
    "    },\n",
    "    eval=False,\n",
    "    batch_size=32,\n",
    ")\n",
    "\n",
    "device = init_dl_program(args.gpu, seed=args.seed, max_threads=args.max_threads)"
   ]
  },
  {
   "cell_type": "markdown",
   "id": "ef2757d0-70eb-4625-b386-cf7d380fd4cd",
   "metadata": {},
   "source": [
    "## Load your data\n",
    "You can use any data, as long as it is an `np.ndarray` of shape $(N, T, C)$ where $N$ is the number of time-series instances, $T$ the number of timesteps per instance, and $C$ the number of channels.\n",
    "Choosing from \"UCR\", \"UEA\", \"ECG\" and \"HAR\" (ECG and HAR are not available right now)"
   ]
  },
  {
   "cell_type": "markdown",
   "id": "0a9cdacb-a895-4211-9375-9c5d50386ad5",
   "metadata": {},
   "source": [
    "### UCR\n",
    "There are 128 UCR Time Series Classification datasets under UCR folder. Choose one to load."
   ]
  },
  {
   "cell_type": "code",
   "execution_count": null,
   "id": "dc8966d2-184d-4ae8-a81a-caa095e78025",
   "metadata": {},
   "outputs": [],
   "source": [
    "train_data, train_labels, test_data, test_labels = datautils.load_UCR(\"ACSF1\")\n",
    "print(f\"Shapes - train data: {train_data.shape}, test data: {test_data.shape}\")"
   ]
  },
  {
   "cell_type": "markdown",
   "id": "71595a05-6bf7-4517-a1a6-d391e3ad68a7",
   "metadata": {},
   "source": [
    "### UEA\n",
    "There are 30 multivariate UEA Time Series Classification datasets under UEA folder. Choose one to load."
   ]
  },
  {
   "cell_type": "code",
   "execution_count": 4,
   "id": "a8ee4c4a-f08d-4743-852f-e567b9059f6b",
   "metadata": {},
   "outputs": [
    {
     "name": "stdout",
     "output_type": "stream",
     "text": [
      "Shapes - train data: (15, 640, 2), test data: (15, 640, 2)\n"
     ]
    }
   ],
   "source": [
    "train_data, train_labels, test_data, test_labels = datautils.load_UEA(\"AtrialFibrillation\")\n",
    "print(f\"Shapes - train data: {train_data.shape}, test data: {test_data.shape}\")"
   ]
  },
  {
   "cell_type": "markdown",
   "id": "cc89e316-5120-4e3d-919e-83ab4b27a4dc",
   "metadata": {},
   "source": [
    "## Create and Train the model"
   ]
  },
  {
   "cell_type": "code",
   "execution_count": 5,
   "id": "3e0a080c-c734-4bb7-a33b-13e33253b61a",
   "metadata": {},
   "outputs": [
    {
     "data": {
      "text/plain": [
       "12"
      ]
     },
     "execution_count": 5,
     "metadata": {},
     "output_type": "execute_result"
    }
   ],
   "source": [
    "sns.set_theme()\n",
    "torch.cuda.empty_cache()\n",
    "gc.collect()"
   ]
  },
  {
   "cell_type": "code",
   "execution_count": 6,
   "id": "0ce8c7e4-9a28-40fc-99b7-abc2abc9608f",
   "metadata": {},
   "outputs": [
    {
     "name": "stdout",
     "output_type": "stream",
     "text": [
      "Training data shape: (15, 640, 2)\n",
      "Epoch #0: loss=2.6060452461242676\n",
      "Epoch #1: loss=2.790367603302002\n",
      "Epoch #2: loss=2.5673162937164307\n",
      "Epoch #3: loss=2.579359769821167\n",
      "Epoch #4: loss=2.565676212310791\n",
      "Epoch #5: loss=2.547593116760254\n",
      "Epoch #6: loss=2.523077964782715\n",
      "Epoch #7: loss=2.544933319091797\n",
      "Epoch #8: loss=2.5110695362091064\n",
      "Epoch #9: loss=2.489795446395874\n",
      "Epoch #10: loss=2.4702415466308594\n",
      "Epoch #11: loss=2.459918975830078\n",
      "Epoch #12: loss=2.4439103603363037\n",
      "Epoch #13: loss=2.4257798194885254\n",
      "Epoch #14: loss=2.4186747074127197\n",
      "Epoch #15: loss=2.4045932292938232\n",
      "Epoch #16: loss=2.399014472961426\n",
      "Epoch #17: loss=2.3740293979644775\n",
      "Epoch #18: loss=2.3643035888671875\n",
      "Epoch #19: loss=2.3630001544952393\n",
      "Epoch #20: loss=2.347736120223999\n",
      "Epoch #21: loss=2.353487730026245\n",
      "Epoch #22: loss=2.34149169921875\n",
      "Epoch #23: loss=2.342567205429077\n",
      "Epoch #24: loss=2.3189587593078613\n",
      "Epoch #25: loss=2.324443817138672\n",
      "Epoch #26: loss=2.3308908939361572\n",
      "Epoch #27: loss=2.2996582984924316\n",
      "Epoch #28: loss=2.3004984855651855\n",
      "Epoch #29: loss=2.3030450344085693\n",
      "Epoch #30: loss=2.289593458175659\n",
      "Epoch #31: loss=2.2773780822753906\n",
      "Epoch #32: loss=2.277212381362915\n",
      "Epoch #33: loss=2.2754266262054443\n",
      "Epoch #34: loss=2.2561168670654297\n",
      "Epoch #35: loss=2.240994930267334\n",
      "Epoch #36: loss=2.258650064468384\n",
      "Epoch #37: loss=2.2469117641448975\n",
      "Epoch #38: loss=2.2419207096099854\n",
      "Epoch #39: loss=2.2449324131011963\n",
      "Epoch #40: loss=2.2080225944519043\n",
      "Epoch #41: loss=2.2288525104522705\n",
      "Epoch #42: loss=2.2081239223480225\n",
      "Epoch #43: loss=2.212700366973877\n",
      "Epoch #44: loss=2.205080032348633\n",
      "Epoch #45: loss=2.2061712741851807\n",
      "Epoch #46: loss=2.196614980697632\n",
      "Epoch #47: loss=2.1886508464813232\n",
      "Epoch #48: loss=2.1822333335876465\n",
      "Epoch #49: loss=2.2041406631469727\n",
      "Epoch #50: loss=2.1726391315460205\n",
      "Epoch #51: loss=2.17405104637146\n",
      "Epoch #52: loss=2.171264886856079\n",
      "Epoch #53: loss=2.155846118927002\n",
      "Epoch #54: loss=2.1753532886505127\n",
      "Epoch #55: loss=2.151139736175537\n",
      "Epoch #56: loss=2.1558587551116943\n",
      "Epoch #57: loss=2.15630841255188\n",
      "Epoch #58: loss=2.1379663944244385\n",
      "Epoch #59: loss=2.141061782836914\n",
      "Epoch #60: loss=2.1185142993927\n",
      "Epoch #61: loss=2.1354610919952393\n",
      "Epoch #62: loss=2.1221704483032227\n",
      "Epoch #63: loss=2.1138498783111572\n",
      "Epoch #64: loss=2.1278891563415527\n",
      "Epoch #65: loss=2.109076738357544\n",
      "Epoch #66: loss=2.1055331230163574\n",
      "Epoch #67: loss=2.0973875522613525\n",
      "Epoch #68: loss=2.0967092514038086\n",
      "Epoch #69: loss=2.100405216217041\n",
      "Epoch #70: loss=2.081296443939209\n",
      "Epoch #71: loss=2.092583179473877\n",
      "Epoch #72: loss=2.091569185256958\n",
      "Epoch #73: loss=2.1023764610290527\n",
      "Epoch #74: loss=2.086991310119629\n",
      "Epoch #75: loss=2.084381341934204\n",
      "Epoch #76: loss=2.092806816101074\n",
      "Epoch #77: loss=2.09159255027771\n",
      "Epoch #78: loss=2.0636563301086426\n",
      "Epoch #79: loss=2.061234951019287\n",
      "Epoch #80: loss=2.055126905441284\n",
      "Epoch #81: loss=2.054046154022217\n",
      "Epoch #82: loss=2.060142755508423\n",
      "Epoch #83: loss=2.0277631282806396\n",
      "Epoch #84: loss=2.046665668487549\n",
      "Epoch #85: loss=2.0366296768188477\n",
      "Epoch #86: loss=2.023603916168213\n",
      "Epoch #87: loss=2.0570802688598633\n",
      "Epoch #88: loss=2.0210189819335938\n",
      "Epoch #89: loss=2.0154659748077393\n",
      "Epoch #90: loss=2.049177885055542\n",
      "Epoch #91: loss=2.0263049602508545\n",
      "Epoch #92: loss=2.032989263534546\n",
      "Epoch #93: loss=2.027697801589966\n",
      "Epoch #94: loss=2.0269179344177246\n",
      "Epoch #95: loss=2.0256073474884033\n",
      "Epoch #96: loss=2.0216383934020996\n",
      "Epoch #97: loss=2.0100138187408447\n",
      "Epoch #98: loss=2.0032854080200195\n",
      "Epoch #99: loss=2.0027217864990234\n",
      "Epoch #100: loss=1.9928803443908691\n",
      "Epoch #101: loss=2.0036768913269043\n",
      "Epoch #102: loss=1.9985809326171875\n",
      "Epoch #103: loss=1.9918980598449707\n",
      "Epoch #104: loss=1.9801995754241943\n",
      "Epoch #105: loss=1.9933898448944092\n",
      "Epoch #106: loss=1.978399634361267\n",
      "Epoch #107: loss=1.9779508113861084\n",
      "Epoch #108: loss=1.9861199855804443\n",
      "Epoch #109: loss=1.9717047214508057\n",
      "Epoch #110: loss=1.9792025089263916\n",
      "Epoch #111: loss=1.9791215658187866\n",
      "Epoch #112: loss=1.9624536037445068\n",
      "Epoch #113: loss=1.9817312955856323\n",
      "Epoch #114: loss=1.9658962488174438\n",
      "Epoch #115: loss=1.9718778133392334\n",
      "Epoch #116: loss=1.9488766193389893\n",
      "Epoch #117: loss=1.9538227319717407\n",
      "Epoch #118: loss=1.9389231204986572\n",
      "Epoch #119: loss=1.9478354454040527\n",
      "Epoch #120: loss=1.9519811868667603\n",
      "Epoch #121: loss=1.9529696702957153\n",
      "Epoch #122: loss=1.9604215621948242\n",
      "Epoch #123: loss=1.9446600675582886\n",
      "Epoch #124: loss=1.9710211753845215\n",
      "Epoch #125: loss=1.9486967325210571\n",
      "Epoch #126: loss=1.9263705015182495\n",
      "Epoch #127: loss=1.9482431411743164\n",
      "Epoch #128: loss=1.947884440422058\n",
      "Epoch #129: loss=1.9560691118240356\n",
      "Epoch #130: loss=1.9236971139907837\n",
      "Epoch #131: loss=1.9458750486373901\n",
      "Epoch #132: loss=1.9368582963943481\n",
      "Epoch #133: loss=1.92720365524292\n",
      "Epoch #134: loss=1.9359688758850098\n",
      "Epoch #135: loss=1.9344810247421265\n",
      "Epoch #136: loss=1.911929965019226\n",
      "Epoch #137: loss=1.9794642925262451\n",
      "Epoch #138: loss=2.0224106311798096\n",
      "Epoch #139: loss=2.0284676551818848\n",
      "Epoch #140: loss=2.0731544494628906\n",
      "Epoch #141: loss=2.057314395904541\n",
      "Epoch #142: loss=2.053576946258545\n",
      "Epoch #143: loss=2.063608407974243\n",
      "Epoch #144: loss=2.028146505355835\n",
      "Epoch #145: loss=2.0143730640411377\n",
      "Epoch #146: loss=2.023207426071167\n",
      "Epoch #147: loss=2.0201385021209717\n",
      "Epoch #148: loss=2.0067505836486816\n",
      "Epoch #149: loss=1.9977012872695923\n",
      "Epoch #150: loss=2.0037524700164795\n",
      "Epoch #151: loss=1.993377685546875\n",
      "Epoch #152: loss=1.9928913116455078\n",
      "Epoch #153: loss=1.9670263528823853\n",
      "Epoch #154: loss=1.9768702983856201\n",
      "Epoch #155: loss=1.9674456119537354\n",
      "Epoch #156: loss=1.9737812280654907\n",
      "Epoch #157: loss=1.9598280191421509\n",
      "Epoch #158: loss=1.950683832168579\n",
      "Epoch #159: loss=1.9373667240142822\n",
      "Epoch #160: loss=1.9553014039993286\n",
      "Epoch #161: loss=1.9477723836898804\n",
      "Epoch #162: loss=1.9508062601089478\n",
      "Epoch #163: loss=1.9401438236236572\n",
      "Epoch #164: loss=1.939751148223877\n",
      "Epoch #165: loss=1.9299336671829224\n",
      "Epoch #166: loss=1.948020100593567\n",
      "Epoch #167: loss=1.9394505023956299\n",
      "Epoch #168: loss=1.918406367301941\n",
      "Epoch #169: loss=1.9167147874832153\n",
      "Epoch #170: loss=1.929787278175354\n",
      "Epoch #171: loss=1.9199196100234985\n",
      "Epoch #172: loss=1.9141862392425537\n",
      "Epoch #173: loss=1.9348939657211304\n",
      "Epoch #174: loss=1.9149318933486938\n",
      "Epoch #175: loss=1.9100568294525146\n",
      "Epoch #176: loss=1.902004599571228\n",
      "Epoch #177: loss=1.9246275424957275\n",
      "Epoch #178: loss=1.9014326333999634\n",
      "Epoch #179: loss=1.9245301485061646\n",
      "Epoch #180: loss=1.8951154947280884\n",
      "Epoch #181: loss=1.9181969165802002\n",
      "Epoch #182: loss=1.8963576555252075\n",
      "Epoch #183: loss=1.9130222797393799\n",
      "Epoch #184: loss=1.897493600845337\n",
      "Epoch #185: loss=1.8885347843170166\n",
      "Epoch #186: loss=1.9036529064178467\n",
      "Epoch #187: loss=1.8943357467651367\n",
      "Epoch #188: loss=1.8810955286026\n",
      "Epoch #189: loss=1.8957278728485107\n",
      "Epoch #190: loss=1.8803406953811646\n",
      "Epoch #191: loss=1.8773199319839478\n",
      "Epoch #192: loss=1.8772999048233032\n",
      "Epoch #193: loss=1.8621234893798828\n",
      "Epoch #194: loss=1.8855708837509155\n",
      "Epoch #195: loss=1.8753058910369873\n",
      "Epoch #196: loss=1.8675153255462646\n",
      "Epoch #197: loss=1.8705742359161377\n",
      "Epoch #198: loss=1.8634834289550781\n",
      "Epoch #199: loss=1.8562266826629639\n",
      "Model training time: 5526.91 seconds\n"
     ]
    }
   ],
   "source": [
    "import time\n",
    "start_time = time.time()\n",
    "model = HDST(\n",
    "    input_dims=train_data.shape[-1],\n",
    "    device=device,\n",
    "    task_weights=args.task_weights,\n",
    "    batch_size=args.batch_size,\n",
    "    lr=args.lr,\n",
    "    output_dims1=args.static_repr_dims,\n",
    "    output_dims2=args.dynamic_repr_dims,\n",
    "    max_train_length=args.max_train_length\n",
    ")\n",
    "\n",
    "loss_log = model.fit(\n",
    "    train_data,\n",
    "    n_epochs=args.epochs,\n",
    "    n_iters=args.iters,\n",
    "    k=args.sample_size,\n",
    "    w=args.window_size\n",
    ")\n",
    "end_time = time.time()\n",
    "training_time = end_time - start_time\n",
    "print(f\"Model training time: {training_time:.2f} seconds\")"
   ]
  },
  {
   "cell_type": "markdown",
   "id": "b2801942-d5d0-47a1-9f33-f82006f12425",
   "metadata": {},
   "source": [
    "Save model and loss log"
   ]
  },
  {
   "cell_type": "code",
   "execution_count": 7,
   "id": "3ee8e10d-aead-4107-ab00-6b34690ca303",
   "metadata": {},
   "outputs": [],
   "source": [
    "import torch\n",
    "torch.save(model, 'mymodel.pth')\n",
    "import pandas as pd\n",
    "df = pd.DataFrame({\"epoch\": list(range(1, len(loss_log) + 1)), \"loss\": loss_log})\n",
    "df.to_csv(\"loss_log.csv\", index=False)"
   ]
  },
  {
   "cell_type": "markdown",
   "id": "2b646a4b-0291-49df-a19b-aa40b4549e5d",
   "metadata": {},
   "source": [
    "Visualize the loss curve and save figure"
   ]
  },
  {
   "cell_type": "code",
   "execution_count": 8,
   "id": "5a97b47a-04d8-45e0-969e-f74ac670576d",
   "metadata": {},
   "outputs": [
    {
     "data": {
      "image/png": "[encoded data removed]",
      "text/plain": [
       "<Figure size 640x480 with 1 Axes>"
      ]
     },
     "metadata": {},
     "output_type": "display_data"
    }
   ],
   "source": [
    "import matplotlib.pyplot as plt\n",
    "# print(loss_log)\n",
    "plt.plot(loss_log, label=\"Loss\")\n",
    "plt.xlabel(\"Epoch\")\n",
    "plt.ylabel(\"Loss\")\n",
    "plt.title(\"Training Loss Curve\")\n",
    "plt.legend()\n",
    "plt.grid(True)\n",
    "plt.savefig(\"loss_curve.png\")\n",
    "plt.show()"
   ]
  },
  {
   "cell_type": "markdown",
   "id": "6bc062a5-48c4-4671-b78d-0dc8d4420c77",
   "metadata": {},
   "source": [
    "## Test the model\n",
    "Firstly, get the representation of training data and test data using `model.encode`. Then train a simple classifier (svm) using training representation and corresponding training labels. Finally, use the classifier to do calssification for test representation. Report the acc and auprc."
   ]
  },
  {
   "cell_type": "code",
   "execution_count": 9,
   "id": "22bba3a8-aa7a-4566-8a39-01abb8bbd31a",
   "metadata": {},
   "outputs": [
    {
     "name": "stdout",
     "output_type": "stream",
     "text": [
      "acc: 0.4666666666666667 auprc: 0.3915506715506715\n"
     ]
    }
   ],
   "source": [
    "from tasks import _eval_protocols as eval_protocols\n",
    "train_repr = model.encode(train_data, encoding_window='full_series' if train_labels.ndim == 1 else None)\n",
    "test_repr = model.encode(test_data, encoding_window='full_series' if train_labels.ndim == 1 else None)\n",
    "fit_clf = eval_protocols.fit_svm\n",
    "clf = fit_clf(train_repr, train_labels)\n",
    "acc = clf.score(test_repr, test_labels)\n",
    "y_score = clf.decision_function(test_repr)\n",
    "from sklearn.preprocessing import label_binarize\n",
    "from sklearn.metrics import average_precision_score\n",
    "test_labels_onehot = label_binarize(test_labels, classes=np.arange(train_labels.max()+1))\n",
    "auprc = average_precision_score(test_labels_onehot, y_score)\n",
    "print( 'acc:', acc, 'auprc:', auprc )"
   ]
  },
  {
   "cell_type": "code",
   "execution_count": null,
   "id": "a8bc0d94-51cf-44f6-9d46-9ed4c5de4255",
   "metadata": {},
   "outputs": [],
   "source": []
  }
 ],
 "metadata": {
  "kernelspec": {
   "display_name": "Python 3 (ipykernel)",
   "language": "python",
   "name": "python3"
  },
  "language_info": {
   "codemirror_mode": {
    "name": "ipython",
    "version": 3
   },
   "file_extension": ".py",
   "mimetype": "text/x-python",
   "name": "python",
   "nbconvert_exporter": "python",
   "pygments_lexer": "ipython3",
   "version": "3.11.11"
  }
 },
 "nbformat": 4,
 "nbformat_minor": 5
}
