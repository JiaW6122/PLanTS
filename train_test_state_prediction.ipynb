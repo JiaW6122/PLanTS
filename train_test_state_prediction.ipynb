{
 "cells": [
  {
   "cell_type": "code",
   "execution_count": 1,
   "id": "1e520362-af32-48d5-94ec-d41cd0019a45",
   "metadata": {},
   "outputs": [
    {
     "name": "stdout",
     "output_type": "stream",
     "text": [
      "Collecting einops\n",
      "  Using cached einops-0.8.1-py3-none-any.whl.metadata (13 kB)\n",
      "Using cached einops-0.8.1-py3-none-any.whl (64 kB)\n",
      "Installing collected packages: einops\n",
      "Successfully installed einops-0.8.1\n"
     ]
    }
   ],
   "source": [
    "!pip install einops\n",
    "%load_ext autoreload\n",
    "%autoreload 2\n",
    "\n",
    "import seaborn as sns\n",
    "from dataclasses import dataclass\n",
    "import matplotlib.pyplot as plt\n",
    "\n",
    "import datautils\n",
    "from utils import init_dl_program\n",
    "from hdst import HDST\n",
    "import torch\n",
    "import gc\n",
    "import numpy as np"
   ]
  },
  {
   "cell_type": "markdown",
   "id": "a1f05ed6-5654-439d-b90c-f536b47e49b0",
   "metadata": {},
   "source": [
    "## Create Args Configuration Class"
   ]
  },
  {
   "cell_type": "code",
   "execution_count": 2,
   "id": "af8d59d2-5f8f-4473-a0d7-eddf3b4943f8",
   "metadata": {},
   "outputs": [],
   "source": [
    "@dataclass\n",
    "class Args:\n",
    "    task_weights: dict\n",
    "    dataset: str = \"\"\n",
    "    loader: str = \"\"\n",
    "    gpu: int = 0\n",
    "    static_repr_dims: int = 128\n",
    "    dynamic_repr_dims: int = 128\n",
    "    epochs: int = 200\n",
    "\n",
    "    run_name: str = \"\"\n",
    "    batch_size: int = 16\n",
    "    lr: float = 0.001\n",
    "    max_train_length = 800\n",
    "    iters: int = None\n",
    "    save_every = None\n",
    "    seed: int = 1234\n",
    "    max_threads = None\n",
    "    eval: bool = True\n",
    "    irregular = 0\n",
    "\n",
    "    sample_size: int = 50\n",
    "    window_size: int = 5"
   ]
  },
  {
   "cell_type": "markdown",
   "id": "a1bc736c-ca43-4a45-b7b8-d5297b6d74ca",
   "metadata": {},
   "source": [
    "## Instantiate Args Configuration Class\n",
    "Create an instance of arguments, specifying the necessary arguments and those important to your use case."
   ]
  },
  {
   "cell_type": "code",
   "execution_count": 3,
   "id": "51964981-9e2a-4dfa-bbc8-badb1e2ec44c",
   "metadata": {},
   "outputs": [],
   "source": [
    "args = Args(\n",
    "    static_repr_dims=128,\n",
    "    dynamic_repr_dims=128,\n",
    "    task_weights={\n",
    "        'local_static_contrast': 0.33,\n",
    "        'global_vatiant_contrast': 0.33,\n",
    "        'dynamic_trend_pred': 0.34,\n",
    "    },\n",
    "    eval=False,\n",
    "    batch_size=32,\n",
    ")\n",
    "\n",
    "device = init_dl_program(args.gpu, seed=args.seed, max_threads=args.max_threads)"
   ]
  },
  {
   "cell_type": "markdown",
   "id": "ef2757d0-70eb-4625-b386-cf7d380fd4cd",
   "metadata": {},
   "source": [
    "## Load your HAR data\n",
    "The UCIHAR dataset records 6 activities of daily living, i.e., walking, sitting, laying, standing, walking upstairs and walking downstairs. 30 participants at an age between 19 to 48 carry a smartphone on the waist while performing the activities. The smartphone records reading at a sampling rate of 50 Hz. The time-series measurements are pre-processed to extract 561 features."
   ]
  },
  {
   "cell_type": "markdown",
   "id": "65738d9e-12d5-4e26-ac5c-f47d3d31096c",
   "metadata": {},
   "source": [
    "Preprocess the HAR data to concatenate individual measurements. Shape of processed data: $(N, C, T)$ where $N$ is the number of time-series instances, $T$ the number of timesteps per instance, and $C$ the number of channels."
   ]
  },
  {
   "cell_type": "code",
   "execution_count": 4,
   "id": "b16f833c-04a7-439d-8233-da5997f54afa",
   "metadata": {},
   "outputs": [],
   "source": [
    "# !python datasets/preprocess_HAR.py"
   ]
  },
  {
   "cell_type": "code",
   "execution_count": 5,
   "id": "69519846-5bef-4610-886f-d9ae3140be74",
   "metadata": {},
   "outputs": [
    {
     "name": "stdout",
     "output_type": "stream",
     "text": [
      "Shapes - train data: (21, 561, 281), test data: (9, 561, 288)\n",
      "Shapes - train labels: (21, 281), test labels: (9, 288)\n"
     ]
    }
   ],
   "source": [
    "train_data, train_labels, test_data, test_labels = datautils.load_HAR(\"HAR_data\")\n",
    "print(f\"Shapes - train data: {train_data.shape}, test data: {test_data.shape}\")\n",
    "print(f\"Shapes - train labels: {train_labels.shape}, test labels: {test_labels.shape}\")"
   ]
  },
  {
   "cell_type": "markdown",
   "id": "3d638eaf-a7b6-4e24-800b-00647d28e84c",
   "metadata": {},
   "source": [
    "Reorder the dimension and form your data into an `np.ndarray` of shape $(N, T, C)$"
   ]
  },
  {
   "cell_type": "code",
   "execution_count": 6,
   "id": "f4306fa3-14ff-41db-a427-03eea470fd27",
   "metadata": {},
   "outputs": [
    {
     "name": "stdout",
     "output_type": "stream",
     "text": [
      "Shapes - train data: (21, 281, 561), test data: (9, 288, 561)\n",
      "Shapes - train labels: (21, 281), test labels: (9, 288)\n"
     ]
    }
   ],
   "source": [
    "train_data = np.transpose(train_data, (0, 2, 1)) \n",
    "test_data = np.transpose(test_data, (0, 2, 1))    \n",
    "print(f\"Shapes - train data: {train_data.shape}, test data: {test_data.shape}\")\n",
    "print(f\"Shapes - train labels: {train_labels.shape}, test labels: {test_labels.shape}\")"
   ]
  },
  {
   "cell_type": "markdown",
   "id": "cc89e316-5120-4e3d-919e-83ab4b27a4dc",
   "metadata": {},
   "source": [
    "## Create and Train the model"
   ]
  },
  {
   "cell_type": "code",
   "execution_count": 7,
   "id": "3e0a080c-c734-4bb7-a33b-13e33253b61a",
   "metadata": {},
   "outputs": [
    {
     "data": {
      "text/plain": [
       "11502"
      ]
     },
     "execution_count": 7,
     "metadata": {},
     "output_type": "execute_result"
    }
   ],
   "source": [
    "sns.set_theme()\n",
    "torch.cuda.empty_cache()\n",
    "gc.collect()"
   ]
  },
  {
   "cell_type": "code",
   "execution_count": 8,
   "id": "0ce8c7e4-9a28-40fc-99b7-abc2abc9608f",
   "metadata": {},
   "outputs": [
    {
     "name": "stdout",
     "output_type": "stream",
     "text": [
      "Training data shape: (21, 281, 561)\n",
      "Epoch #0: loss=1.2359646558761597\n",
      "Epoch #1: loss=2.489485025405884\n",
      "Epoch #2: loss=1.23723304271698\n",
      "Epoch #3: loss=1.2339050769805908\n",
      "Epoch #4: loss=1.2331393957138062\n",
      "Epoch #5: loss=1.2323399782180786\n",
      "Epoch #6: loss=1.2309372425079346\n",
      "Epoch #7: loss=1.2308143377304077\n",
      "Epoch #8: loss=1.2340971231460571\n",
      "Epoch #9: loss=1.2302312850952148\n",
      "Epoch #10: loss=1.2297133207321167\n",
      "Epoch #11: loss=1.2291878461837769\n",
      "Epoch #12: loss=1.230139970779419\n",
      "Epoch #13: loss=1.2288668155670166\n",
      "Epoch #14: loss=1.2255644798278809\n",
      "Epoch #15: loss=1.2245979309082031\n",
      "Epoch #16: loss=1.2238385677337646\n",
      "Epoch #17: loss=1.2243462800979614\n",
      "Epoch #18: loss=1.226793646812439\n",
      "Epoch #19: loss=1.2244796752929688\n",
      "Epoch #20: loss=1.2209945917129517\n",
      "Epoch #21: loss=1.2265053987503052\n",
      "Epoch #22: loss=1.2216588258743286\n",
      "Epoch #23: loss=1.2188867330551147\n",
      "Epoch #24: loss=1.2180241346359253\n",
      "Epoch #25: loss=1.2122465372085571\n",
      "Epoch #26: loss=1.213141918182373\n",
      "Epoch #27: loss=1.2216815948486328\n",
      "Epoch #28: loss=1.21040678024292\n",
      "Epoch #29: loss=1.2173012495040894\n",
      "Epoch #30: loss=1.2139158248901367\n",
      "Epoch #31: loss=1.2097995281219482\n",
      "Epoch #32: loss=1.2032898664474487\n",
      "Epoch #33: loss=1.208773136138916\n",
      "Epoch #34: loss=1.2037005424499512\n",
      "Epoch #35: loss=1.2060139179229736\n",
      "Epoch #36: loss=1.2011948823928833\n",
      "Epoch #37: loss=1.1986099481582642\n",
      "Epoch #38: loss=1.2007651329040527\n",
      "Epoch #39: loss=1.1919046640396118\n",
      "Epoch #40: loss=1.190553069114685\n",
      "Epoch #41: loss=1.1949177980422974\n",
      "Epoch #42: loss=1.18223237991333\n",
      "Epoch #43: loss=1.1876137256622314\n",
      "Epoch #44: loss=1.1884994506835938\n",
      "Epoch #45: loss=1.1840907335281372\n",
      "Epoch #46: loss=1.1930965185165405\n",
      "Epoch #47: loss=1.162975549697876\n",
      "Epoch #48: loss=1.177893042564392\n",
      "Epoch #49: loss=1.1675578355789185\n",
      "Epoch #50: loss=1.1889482736587524\n",
      "Epoch #51: loss=1.1833585500717163\n",
      "Epoch #52: loss=1.1921157836914062\n",
      "Epoch #53: loss=1.1840869188308716\n",
      "Epoch #54: loss=1.188994288444519\n",
      "Epoch #55: loss=1.1843246221542358\n",
      "Epoch #56: loss=1.1652201414108276\n",
      "Epoch #57: loss=1.1691392660140991\n",
      "Epoch #58: loss=1.163208246231079\n",
      "Epoch #59: loss=1.1563585996627808\n",
      "Epoch #60: loss=1.1437137126922607\n",
      "Epoch #61: loss=1.1466960906982422\n",
      "Epoch #62: loss=1.1592228412628174\n",
      "Epoch #63: loss=1.1352592706680298\n",
      "Epoch #64: loss=1.132903814315796\n",
      "Epoch #65: loss=1.1397781372070312\n",
      "Epoch #66: loss=1.1345294713974\n",
      "Epoch #67: loss=1.1239744424819946\n",
      "Epoch #68: loss=1.111586332321167\n",
      "Epoch #69: loss=1.112549901008606\n",
      "Epoch #70: loss=1.1238123178482056\n",
      "Epoch #71: loss=1.1089297533035278\n",
      "Epoch #72: loss=1.1096670627593994\n",
      "Epoch #73: loss=1.1257598400115967\n",
      "Epoch #74: loss=1.105751633644104\n",
      "Epoch #75: loss=1.110300898551941\n",
      "Epoch #76: loss=1.108826756477356\n",
      "Epoch #77: loss=1.072429895401001\n",
      "Epoch #78: loss=1.084860920906067\n",
      "Epoch #79: loss=1.074265718460083\n",
      "Epoch #80: loss=1.0985438823699951\n",
      "Epoch #81: loss=1.0804890394210815\n",
      "Epoch #82: loss=1.0669533014297485\n",
      "Epoch #83: loss=1.0820280313491821\n",
      "Epoch #84: loss=1.0758248567581177\n",
      "Epoch #85: loss=1.0732966661453247\n",
      "Epoch #86: loss=1.0717825889587402\n",
      "Epoch #87: loss=1.0592973232269287\n",
      "Epoch #88: loss=1.0723483562469482\n",
      "Epoch #89: loss=1.0610824823379517\n",
      "Epoch #90: loss=1.0798982381820679\n",
      "Epoch #91: loss=1.092323899269104\n",
      "Epoch #92: loss=1.075697422027588\n",
      "Epoch #93: loss=1.0711838006973267\n",
      "Epoch #94: loss=1.0528615713119507\n",
      "Epoch #95: loss=1.0681252479553223\n",
      "Epoch #96: loss=1.0482903718948364\n",
      "Epoch #97: loss=1.0433613061904907\n",
      "Epoch #98: loss=1.0406694412231445\n",
      "Epoch #99: loss=1.0477221012115479\n",
      "Epoch #100: loss=1.0447299480438232\n",
      "Epoch #101: loss=1.033252477645874\n",
      "Epoch #102: loss=1.035523772239685\n",
      "Epoch #103: loss=1.0492379665374756\n",
      "Epoch #104: loss=1.0361379384994507\n",
      "Epoch #105: loss=1.0250177383422852\n",
      "Epoch #106: loss=1.0220493078231812\n",
      "Epoch #107: loss=1.032203197479248\n",
      "Epoch #108: loss=1.02328360080719\n",
      "Epoch #109: loss=1.0007864236831665\n",
      "Epoch #110: loss=1.0136650800704956\n",
      "Epoch #111: loss=1.006212592124939\n",
      "Epoch #112: loss=1.0001916885375977\n",
      "Epoch #113: loss=0.9889285564422607\n",
      "Epoch #114: loss=1.0022226572036743\n",
      "Epoch #115: loss=1.0028873682022095\n",
      "Epoch #116: loss=0.9954429864883423\n",
      "Epoch #117: loss=1.0057066679000854\n",
      "Epoch #118: loss=0.9960902333259583\n",
      "Epoch #119: loss=0.9970870614051819\n",
      "Epoch #120: loss=0.9850472807884216\n",
      "Epoch #121: loss=0.9873701930046082\n",
      "Epoch #122: loss=0.9780178666114807\n",
      "Epoch #123: loss=0.9899015426635742\n",
      "Epoch #124: loss=0.9755342602729797\n",
      "Epoch #125: loss=0.9747549295425415\n",
      "Epoch #126: loss=0.9834988117218018\n",
      "Epoch #127: loss=0.956858217716217\n",
      "Epoch #128: loss=0.986627995967865\n",
      "Epoch #129: loss=0.9739205241203308\n",
      "Epoch #130: loss=0.9686715602874756\n",
      "Epoch #131: loss=0.9708480834960938\n",
      "Epoch #132: loss=1.0396469831466675\n",
      "Epoch #133: loss=1.028792142868042\n",
      "Epoch #134: loss=1.009669303894043\n",
      "Epoch #135: loss=1.0409899950027466\n",
      "Epoch #136: loss=1.0157177448272705\n",
      "Epoch #137: loss=1.0351277589797974\n",
      "Epoch #138: loss=1.0278434753417969\n",
      "Epoch #139: loss=0.981593132019043\n",
      "Epoch #140: loss=1.0298501253128052\n",
      "Epoch #141: loss=1.0068912506103516\n",
      "Epoch #142: loss=0.9945349097251892\n",
      "Epoch #143: loss=0.9967932105064392\n",
      "Epoch #144: loss=0.998264729976654\n",
      "Epoch #145: loss=0.9880817532539368\n",
      "Epoch #146: loss=1.0001919269561768\n",
      "Epoch #147: loss=0.9900088310241699\n",
      "Epoch #148: loss=0.9769494533538818\n",
      "Epoch #149: loss=0.9927757382392883\n",
      "Epoch #150: loss=0.9628482460975647\n",
      "Epoch #151: loss=0.9526891112327576\n",
      "Epoch #152: loss=0.9614718556404114\n",
      "Epoch #153: loss=0.9789607524871826\n",
      "Epoch #154: loss=0.9234395027160645\n",
      "Epoch #155: loss=0.9592592716217041\n",
      "Epoch #156: loss=0.9522264003753662\n",
      "Epoch #157: loss=0.9534963965415955\n",
      "Epoch #158: loss=0.9063169360160828\n",
      "Epoch #159: loss=0.8798558115959167\n",
      "Epoch #160: loss=0.9349033832550049\n",
      "Epoch #161: loss=0.9457374811172485\n",
      "Epoch #162: loss=0.923833966255188\n",
      "Epoch #163: loss=0.8926412463188171\n",
      "Epoch #164: loss=0.9166921973228455\n",
      "Epoch #165: loss=0.9369522333145142\n",
      "Epoch #166: loss=0.8980503082275391\n",
      "Epoch #167: loss=0.9110990166664124\n",
      "Epoch #168: loss=0.9212377071380615\n",
      "Epoch #169: loss=0.8989346623420715\n",
      "Epoch #170: loss=0.8950570821762085\n",
      "Epoch #171: loss=0.9167149662971497\n",
      "Epoch #172: loss=0.9044205546379089\n",
      "Epoch #173: loss=0.9066767692565918\n",
      "Epoch #174: loss=0.8702337145805359\n",
      "Epoch #175: loss=0.892217755317688\n",
      "Epoch #176: loss=0.8703224658966064\n",
      "Epoch #177: loss=0.8851677179336548\n",
      "Epoch #178: loss=0.8492488861083984\n",
      "Epoch #179: loss=0.9128106236457825\n",
      "Epoch #180: loss=0.8755643963813782\n",
      "Epoch #181: loss=0.8811355233192444\n",
      "Epoch #182: loss=0.8838449716567993\n",
      "Epoch #183: loss=0.8496920466423035\n",
      "Epoch #184: loss=0.8736597299575806\n",
      "Epoch #185: loss=0.8330391645431519\n",
      "Epoch #186: loss=0.8514877557754517\n",
      "Epoch #187: loss=0.8485237956047058\n",
      "Epoch #188: loss=0.850002110004425\n",
      "Epoch #189: loss=0.8396149277687073\n",
      "Epoch #190: loss=0.8514035940170288\n",
      "Epoch #191: loss=0.847169041633606\n",
      "Epoch #192: loss=0.8436838984489441\n",
      "Epoch #193: loss=0.8013554811477661\n",
      "Epoch #194: loss=0.7978829741477966\n",
      "Epoch #195: loss=0.7856770157814026\n",
      "Epoch #196: loss=0.8371379971504211\n",
      "Epoch #197: loss=0.8093199133872986\n",
      "Epoch #198: loss=0.8062294125556946\n",
      "Epoch #199: loss=0.8132625818252563\n",
      "Model training time: 27.79 seconds\n"
     ]
    }
   ],
   "source": [
    "import time\n",
    "start_time = time.time()\n",
    "model = HDST(\n",
    "    input_dims=train_data.shape[-1],\n",
    "    device=device,\n",
    "    task_weights=args.task_weights,\n",
    "    batch_size=args.batch_size,\n",
    "    lr=args.lr,\n",
    "    output_dims1=args.static_repr_dims,\n",
    "    output_dims2=args.dynamic_repr_dims,\n",
    "    max_train_length=args.max_train_length\n",
    ")\n",
    "\n",
    "loss_log = model.fit(\n",
    "    train_data,\n",
    "    n_epochs=args.epochs,\n",
    "    n_iters=args.iters,\n",
    "    k=args.sample_size,\n",
    "    w=args.window_size\n",
    ")\n",
    "end_time = time.time()\n",
    "training_time = end_time - start_time\n",
    "print(f\"Model training time: {training_time:.2f} seconds\")"
   ]
  },
  {
   "cell_type": "markdown",
   "id": "b2801942-d5d0-47a1-9f33-f82006f12425",
   "metadata": {},
   "source": [
    "Save model and loss log"
   ]
  },
  {
   "cell_type": "code",
   "execution_count": 9,
   "id": "3ee8e10d-aead-4107-ab00-6b34690ca303",
   "metadata": {},
   "outputs": [],
   "source": [
    "import torch\n",
    "torch.save(model, 'logs/mymodel_HAR.pth')\n",
    "import pandas as pd\n",
    "df = pd.DataFrame({\"epoch\": list(range(1, len(loss_log) + 1)), \"loss\": loss_log})\n",
    "df.to_csv(\"logs/loss_log_HAR.csv\", index=False)"
   ]
  },
  {
   "cell_type": "markdown",
   "id": "2b646a4b-0291-49df-a19b-aa40b4549e5d",
   "metadata": {},
   "source": [
    "Visualize the loss curve and save figure"
   ]
  },
  {
   "cell_type": "code",
   "execution_count": 10,
   "id": "5a97b47a-04d8-45e0-969e-f74ac670576d",
   "metadata": {},
   "outputs": [
    {
     "data": {
      "image/png": "[encoded data removed]",
      "text/plain": [
       "<Figure size 640x480 with 1 Axes>"
      ]
     },
     "metadata": {},
     "output_type": "display_data"
    }
   ],
   "source": [
    "import matplotlib.pyplot as plt\n",
    "# print(loss_log)\n",
    "plt.plot(loss_log, label=\"Loss\")\n",
    "plt.xlabel(\"Epoch\")\n",
    "plt.ylabel(\"Loss\")\n",
    "plt.title(\"Training Loss Curve\")\n",
    "plt.legend()\n",
    "plt.grid(True)\n",
    "plt.savefig(\"loss_curve.png\")\n",
    "plt.show()"
   ]
  },
  {
   "cell_type": "markdown",
   "id": "6bc062a5-48c4-4671-b78d-0dc8d4420c77",
   "metadata": {},
   "source": [
    "## Test the model\n",
    "Firstly, get the representation of training data and test data using `model.encode`. Then train a simple classifier (svm) using training representation and corresponding training labels. Finally, use the classifier to do calssification for test representation. Report the acc and auprc."
   ]
  },
  {
   "cell_type": "code",
   "execution_count": 16,
   "id": "a8bc0d94-51cf-44f6-9d46-9ed4c5de4255",
   "metadata": {},
   "outputs": [
    {
     "ename": "RuntimeError",
     "evalue": "running_mean should contain 5 elements not 256",
     "output_type": "error",
     "traceback": [
      "\u001b[0;31m---------------------------------------------------------------------------\u001b[0m",
      "\u001b[0;31mRuntimeError\u001b[0m                              Traceback (most recent call last)",
      "Cell \u001b[0;32mIn[16], line 2\u001b[0m\n\u001b[1;32m      1\u001b[0m \u001b[38;5;28;01mfrom\u001b[39;00m\u001b[38;5;250m \u001b[39m\u001b[38;5;21;01mtasks\u001b[39;00m\u001b[38;5;21;01m.\u001b[39;00m\u001b[38;5;21;01mstate_prediction\u001b[39;00m\u001b[38;5;250m \u001b[39m\u001b[38;5;28;01mimport\u001b[39;00m eval_state_prediction\n\u001b[0;32m----> 2\u001b[0m \u001b[43meval_state_prediction\u001b[49m\u001b[43m(\u001b[49m\u001b[43mmodel\u001b[49m\u001b[43m,\u001b[49m\u001b[43mtrain_data\u001b[49m\u001b[43m,\u001b[49m\u001b[43mtrain_labels\u001b[49m\u001b[43m,\u001b[49m\u001b[43mtest_data\u001b[49m\u001b[43m,\u001b[49m\u001b[43mtest_labels\u001b[49m\u001b[43m,\u001b[49m\u001b[43mlr\u001b[49m\u001b[38;5;241;43m=\u001b[39;49m\u001b[38;5;241;43m0.001\u001b[39;49m\u001b[43m,\u001b[49m\u001b[43mwindow_size\u001b[49m\u001b[38;5;241;43m=\u001b[39;49m\u001b[43margs\u001b[49m\u001b[38;5;241;43m.\u001b[39;49m\u001b[43mwindow_size\u001b[49m\u001b[43m)\u001b[49m\n",
      "File \u001b[0;32m~/HDST/tasks/state_prediction.py:144\u001b[0m, in \u001b[0;36meval_state_prediction\u001b[0;34m(model, train_data, train_labels, test_data, test_labels, lr, window_size, n_states, encoding_size)\u001b[0m\n\u001b[1;32m    142\u001b[0m train_loader, valid_loader, test_loader\u001b[38;5;241m=\u001b[39mcreate_dataset(train_data, train_labels, test_data, test_labels, window_size)\n\u001b[1;32m    143\u001b[0m \u001b[38;5;66;03m###train\u001b[39;00m\n\u001b[0;32m--> 144\u001b[0m best_acc, best_auc, best_aupc \u001b[38;5;241m=\u001b[39m \u001b[43mtrain_classifier\u001b[49m\u001b[43m(\u001b[49m\u001b[43mmodel\u001b[49m\u001b[43m,\u001b[49m\u001b[43m \u001b[49m\u001b[43mclassifier\u001b[49m\u001b[43m,\u001b[49m\u001b[43m \u001b[49m\u001b[43mtrain_loader\u001b[49m\u001b[43m,\u001b[49m\u001b[43m \u001b[49m\u001b[43mvalid_loader\u001b[49m\u001b[43m,\u001b[49m\u001b[43m \u001b[49m\u001b[43mlr\u001b[49m\u001b[43m)\u001b[49m\n\u001b[1;32m    145\u001b[0m \u001b[38;5;28mprint\u001b[39m(\u001b[38;5;124m'\u001b[39m\u001b[38;5;124mBest_acc:\u001b[39m\u001b[38;5;124m'\u001b[39m, best_acc,\u001b[38;5;124m'\u001b[39m\u001b[38;5;124mBest_auc:\u001b[39m\u001b[38;5;124m'\u001b[39m, best_auc, \u001b[38;5;124m'\u001b[39m\u001b[38;5;124mBest_aupc:\u001b[39m\u001b[38;5;124m'\u001b[39m, best_aupc)\n\u001b[1;32m    147\u001b[0m \u001b[38;5;66;03m###test\u001b[39;00m\n",
      "File \u001b[0;32m~/HDST/tasks/state_prediction.py:103\u001b[0m, in \u001b[0;36mtrain_classifier\u001b[0;34m(model, classifier, train_loader, valid_loader, lr, n_epochs)\u001b[0m\n\u001b[1;32m    101\u001b[0m train_accs, test_accs \u001b[38;5;241m=\u001b[39m [], []\n\u001b[1;32m    102\u001b[0m \u001b[38;5;28;01mfor\u001b[39;00m epoch \u001b[38;5;129;01min\u001b[39;00m \u001b[38;5;28mrange\u001b[39m(n_epochs):\n\u001b[0;32m--> 103\u001b[0m     train_loss, train_acc, train_auc, train_auprc, _\u001b[38;5;241m=\u001b[39m \u001b[43mrun_epoch\u001b[49m\u001b[43m(\u001b[49m\u001b[43mmodel\u001b[49m\u001b[43m,\u001b[49m\u001b[43m \u001b[49m\u001b[43mclassifier\u001b[49m\u001b[43m,\u001b[49m\u001b[43m \u001b[49m\u001b[43mtrain_loader\u001b[49m\u001b[43m,\u001b[49m\u001b[43m \u001b[49m\u001b[38;5;28;43;01mTrue\u001b[39;49;00m\u001b[43m,\u001b[49m\u001b[43m \u001b[49m\u001b[43mlr\u001b[49m\u001b[43m)\u001b[49m\n\u001b[1;32m    104\u001b[0m     test_loss, test_acc, test_auc, test_auprc, _ \u001b[38;5;241m=\u001b[39m run_epoch(model, classifier, \u001b[38;5;28;01mFalse\u001b[39;00m)\n\u001b[1;32m    105\u001b[0m     train_losses\u001b[38;5;241m.\u001b[39mappend(train_loss)\n",
      "File \u001b[0;32m~/HDST/tasks/state_prediction.py:73\u001b[0m, in \u001b[0;36mrun_epoch\u001b[0;34m(model, classifier, data_loader, is_train, lr)\u001b[0m\n\u001b[1;32m     71\u001b[0m \u001b[38;5;66;03m# print(encoding.shape)\u001b[39;00m\n\u001b[1;32m     72\u001b[0m encoding\u001b[38;5;241m=\u001b[39mtorch\u001b[38;5;241m.\u001b[39mTensor(encoding)\u001b[38;5;241m.\u001b[39mto(device)\n\u001b[0;32m---> 73\u001b[0m prediction\u001b[38;5;241m=\u001b[39m\u001b[43mclassifier\u001b[49m\u001b[43m(\u001b[49m\u001b[43mencoding\u001b[49m\u001b[43m)\u001b[49m\n\u001b[1;32m     74\u001b[0m state_prediction \u001b[38;5;241m=\u001b[39m torch\u001b[38;5;241m.\u001b[39margmax(prediction, dim\u001b[38;5;241m=\u001b[39m\u001b[38;5;241m1\u001b[39m)\n\u001b[1;32m     75\u001b[0m loss \u001b[38;5;241m=\u001b[39m loss_fn(prediction, y\u001b[38;5;241m.\u001b[39mlong())\n",
      "File \u001b[0;32m/opt/conda/lib/python3.11/site-packages/torch/nn/modules/module.py:1553\u001b[0m, in \u001b[0;36mModule._wrapped_call_impl\u001b[0;34m(self, *args, **kwargs)\u001b[0m\n\u001b[1;32m   1551\u001b[0m     \u001b[38;5;28;01mreturn\u001b[39;00m \u001b[38;5;28mself\u001b[39m\u001b[38;5;241m.\u001b[39m_compiled_call_impl(\u001b[38;5;241m*\u001b[39margs, \u001b[38;5;241m*\u001b[39m\u001b[38;5;241m*\u001b[39mkwargs)  \u001b[38;5;66;03m# type: ignore[misc]\u001b[39;00m\n\u001b[1;32m   1552\u001b[0m \u001b[38;5;28;01melse\u001b[39;00m:\n\u001b[0;32m-> 1553\u001b[0m     \u001b[38;5;28;01mreturn\u001b[39;00m \u001b[38;5;28;43mself\u001b[39;49m\u001b[38;5;241;43m.\u001b[39;49m\u001b[43m_call_impl\u001b[49m\u001b[43m(\u001b[49m\u001b[38;5;241;43m*\u001b[39;49m\u001b[43margs\u001b[49m\u001b[43m,\u001b[49m\u001b[43m \u001b[49m\u001b[38;5;241;43m*\u001b[39;49m\u001b[38;5;241;43m*\u001b[39;49m\u001b[43mkwargs\u001b[49m\u001b[43m)\u001b[49m\n",
      "File \u001b[0;32m/opt/conda/lib/python3.11/site-packages/torch/nn/modules/module.py:1562\u001b[0m, in \u001b[0;36mModule._call_impl\u001b[0;34m(self, *args, **kwargs)\u001b[0m\n\u001b[1;32m   1557\u001b[0m \u001b[38;5;66;03m# If we don't have any hooks, we want to skip the rest of the logic in\u001b[39;00m\n\u001b[1;32m   1558\u001b[0m \u001b[38;5;66;03m# this function, and just call forward.\u001b[39;00m\n\u001b[1;32m   1559\u001b[0m \u001b[38;5;28;01mif\u001b[39;00m \u001b[38;5;129;01mnot\u001b[39;00m (\u001b[38;5;28mself\u001b[39m\u001b[38;5;241m.\u001b[39m_backward_hooks \u001b[38;5;129;01mor\u001b[39;00m \u001b[38;5;28mself\u001b[39m\u001b[38;5;241m.\u001b[39m_backward_pre_hooks \u001b[38;5;129;01mor\u001b[39;00m \u001b[38;5;28mself\u001b[39m\u001b[38;5;241m.\u001b[39m_forward_hooks \u001b[38;5;129;01mor\u001b[39;00m \u001b[38;5;28mself\u001b[39m\u001b[38;5;241m.\u001b[39m_forward_pre_hooks\n\u001b[1;32m   1560\u001b[0m         \u001b[38;5;129;01mor\u001b[39;00m _global_backward_pre_hooks \u001b[38;5;129;01mor\u001b[39;00m _global_backward_hooks\n\u001b[1;32m   1561\u001b[0m         \u001b[38;5;129;01mor\u001b[39;00m _global_forward_hooks \u001b[38;5;129;01mor\u001b[39;00m _global_forward_pre_hooks):\n\u001b[0;32m-> 1562\u001b[0m     \u001b[38;5;28;01mreturn\u001b[39;00m \u001b[43mforward_call\u001b[49m\u001b[43m(\u001b[49m\u001b[38;5;241;43m*\u001b[39;49m\u001b[43margs\u001b[49m\u001b[43m,\u001b[49m\u001b[43m \u001b[49m\u001b[38;5;241;43m*\u001b[39;49m\u001b[38;5;241;43m*\u001b[39;49m\u001b[43mkwargs\u001b[49m\u001b[43m)\u001b[49m\n\u001b[1;32m   1564\u001b[0m \u001b[38;5;28;01mtry\u001b[39;00m:\n\u001b[1;32m   1565\u001b[0m     result \u001b[38;5;241m=\u001b[39m \u001b[38;5;28;01mNone\u001b[39;00m\n",
      "File \u001b[0;32m~/HDST/tasks/state_prediction.py:21\u001b[0m, in \u001b[0;36mStateClassifier.forward\u001b[0;34m(self, x)\u001b[0m\n\u001b[1;32m     20\u001b[0m \u001b[38;5;28;01mdef\u001b[39;00m\u001b[38;5;250m \u001b[39m\u001b[38;5;21mforward\u001b[39m(\u001b[38;5;28mself\u001b[39m, x):\n\u001b[0;32m---> 21\u001b[0m     x \u001b[38;5;241m=\u001b[39m \u001b[38;5;28;43mself\u001b[39;49m\u001b[38;5;241;43m.\u001b[39;49m\u001b[43mnormalize\u001b[49m\u001b[43m(\u001b[49m\u001b[43mx\u001b[49m\u001b[43m)\u001b[49m\n\u001b[1;32m     22\u001b[0m     logits \u001b[38;5;241m=\u001b[39m \u001b[38;5;28mself\u001b[39m\u001b[38;5;241m.\u001b[39mnn(x)\n\u001b[1;32m     23\u001b[0m     \u001b[38;5;28;01mreturn\u001b[39;00m logits\n",
      "File \u001b[0;32m/opt/conda/lib/python3.11/site-packages/torch/nn/modules/module.py:1553\u001b[0m, in \u001b[0;36mModule._wrapped_call_impl\u001b[0;34m(self, *args, **kwargs)\u001b[0m\n\u001b[1;32m   1551\u001b[0m     \u001b[38;5;28;01mreturn\u001b[39;00m \u001b[38;5;28mself\u001b[39m\u001b[38;5;241m.\u001b[39m_compiled_call_impl(\u001b[38;5;241m*\u001b[39margs, \u001b[38;5;241m*\u001b[39m\u001b[38;5;241m*\u001b[39mkwargs)  \u001b[38;5;66;03m# type: ignore[misc]\u001b[39;00m\n\u001b[1;32m   1552\u001b[0m \u001b[38;5;28;01melse\u001b[39;00m:\n\u001b[0;32m-> 1553\u001b[0m     \u001b[38;5;28;01mreturn\u001b[39;00m \u001b[38;5;28;43mself\u001b[39;49m\u001b[38;5;241;43m.\u001b[39;49m\u001b[43m_call_impl\u001b[49m\u001b[43m(\u001b[49m\u001b[38;5;241;43m*\u001b[39;49m\u001b[43margs\u001b[49m\u001b[43m,\u001b[49m\u001b[43m \u001b[49m\u001b[38;5;241;43m*\u001b[39;49m\u001b[38;5;241;43m*\u001b[39;49m\u001b[43mkwargs\u001b[49m\u001b[43m)\u001b[49m\n",
      "File \u001b[0;32m/opt/conda/lib/python3.11/site-packages/torch/nn/modules/module.py:1562\u001b[0m, in \u001b[0;36mModule._call_impl\u001b[0;34m(self, *args, **kwargs)\u001b[0m\n\u001b[1;32m   1557\u001b[0m \u001b[38;5;66;03m# If we don't have any hooks, we want to skip the rest of the logic in\u001b[39;00m\n\u001b[1;32m   1558\u001b[0m \u001b[38;5;66;03m# this function, and just call forward.\u001b[39;00m\n\u001b[1;32m   1559\u001b[0m \u001b[38;5;28;01mif\u001b[39;00m \u001b[38;5;129;01mnot\u001b[39;00m (\u001b[38;5;28mself\u001b[39m\u001b[38;5;241m.\u001b[39m_backward_hooks \u001b[38;5;129;01mor\u001b[39;00m \u001b[38;5;28mself\u001b[39m\u001b[38;5;241m.\u001b[39m_backward_pre_hooks \u001b[38;5;129;01mor\u001b[39;00m \u001b[38;5;28mself\u001b[39m\u001b[38;5;241m.\u001b[39m_forward_hooks \u001b[38;5;129;01mor\u001b[39;00m \u001b[38;5;28mself\u001b[39m\u001b[38;5;241m.\u001b[39m_forward_pre_hooks\n\u001b[1;32m   1560\u001b[0m         \u001b[38;5;129;01mor\u001b[39;00m _global_backward_pre_hooks \u001b[38;5;129;01mor\u001b[39;00m _global_backward_hooks\n\u001b[1;32m   1561\u001b[0m         \u001b[38;5;129;01mor\u001b[39;00m _global_forward_hooks \u001b[38;5;129;01mor\u001b[39;00m _global_forward_pre_hooks):\n\u001b[0;32m-> 1562\u001b[0m     \u001b[38;5;28;01mreturn\u001b[39;00m \u001b[43mforward_call\u001b[49m\u001b[43m(\u001b[49m\u001b[38;5;241;43m*\u001b[39;49m\u001b[43margs\u001b[49m\u001b[43m,\u001b[49m\u001b[43m \u001b[49m\u001b[38;5;241;43m*\u001b[39;49m\u001b[38;5;241;43m*\u001b[39;49m\u001b[43mkwargs\u001b[49m\u001b[43m)\u001b[49m\n\u001b[1;32m   1564\u001b[0m \u001b[38;5;28;01mtry\u001b[39;00m:\n\u001b[1;32m   1565\u001b[0m     result \u001b[38;5;241m=\u001b[39m \u001b[38;5;28;01mNone\u001b[39;00m\n",
      "File \u001b[0;32m/opt/conda/lib/python3.11/site-packages/torch/nn/modules/batchnorm.py:176\u001b[0m, in \u001b[0;36m_BatchNorm.forward\u001b[0;34m(self, input)\u001b[0m\n\u001b[1;32m    169\u001b[0m     bn_training \u001b[38;5;241m=\u001b[39m (\u001b[38;5;28mself\u001b[39m\u001b[38;5;241m.\u001b[39mrunning_mean \u001b[38;5;129;01mis\u001b[39;00m \u001b[38;5;28;01mNone\u001b[39;00m) \u001b[38;5;129;01mand\u001b[39;00m (\u001b[38;5;28mself\u001b[39m\u001b[38;5;241m.\u001b[39mrunning_var \u001b[38;5;129;01mis\u001b[39;00m \u001b[38;5;28;01mNone\u001b[39;00m)\n\u001b[1;32m    171\u001b[0m \u001b[38;5;250m\u001b[39m\u001b[38;5;124mr\u001b[39m\u001b[38;5;124;03m\"\"\"\u001b[39;00m\n\u001b[1;32m    172\u001b[0m \u001b[38;5;124;03mBuffers are only updated if they are to be tracked and we are in training mode. Thus they only need to be\u001b[39;00m\n\u001b[1;32m    173\u001b[0m \u001b[38;5;124;03mpassed when the update should occur (i.e. in training mode when they are tracked), or when buffer stats are\u001b[39;00m\n\u001b[1;32m    174\u001b[0m \u001b[38;5;124;03mused for normalization (i.e. in eval mode when buffers are not None).\u001b[39;00m\n\u001b[1;32m    175\u001b[0m \u001b[38;5;124;03m\"\"\"\u001b[39;00m\n\u001b[0;32m--> 176\u001b[0m \u001b[38;5;28;01mreturn\u001b[39;00m \u001b[43mF\u001b[49m\u001b[38;5;241;43m.\u001b[39;49m\u001b[43mbatch_norm\u001b[49m\u001b[43m(\u001b[49m\n\u001b[1;32m    177\u001b[0m \u001b[43m    \u001b[49m\u001b[38;5;28;43minput\u001b[39;49m\u001b[43m,\u001b[49m\n\u001b[1;32m    178\u001b[0m \u001b[43m    \u001b[49m\u001b[38;5;66;43;03m# If buffers are not to be tracked, ensure that they won't be updated\u001b[39;49;00m\n\u001b[1;32m    179\u001b[0m \u001b[43m    \u001b[49m\u001b[38;5;28;43mself\u001b[39;49m\u001b[38;5;241;43m.\u001b[39;49m\u001b[43mrunning_mean\u001b[49m\n\u001b[1;32m    180\u001b[0m \u001b[43m    \u001b[49m\u001b[38;5;28;43;01mif\u001b[39;49;00m\u001b[43m \u001b[49m\u001b[38;5;129;43;01mnot\u001b[39;49;00m\u001b[43m \u001b[49m\u001b[38;5;28;43mself\u001b[39;49m\u001b[38;5;241;43m.\u001b[39;49m\u001b[43mtraining\u001b[49m\u001b[43m \u001b[49m\u001b[38;5;129;43;01mor\u001b[39;49;00m\u001b[43m \u001b[49m\u001b[38;5;28;43mself\u001b[39;49m\u001b[38;5;241;43m.\u001b[39;49m\u001b[43mtrack_running_stats\u001b[49m\n\u001b[1;32m    181\u001b[0m \u001b[43m    \u001b[49m\u001b[38;5;28;43;01melse\u001b[39;49;00m\u001b[43m \u001b[49m\u001b[38;5;28;43;01mNone\u001b[39;49;00m\u001b[43m,\u001b[49m\n\u001b[1;32m    182\u001b[0m \u001b[43m    \u001b[49m\u001b[38;5;28;43mself\u001b[39;49m\u001b[38;5;241;43m.\u001b[39;49m\u001b[43mrunning_var\u001b[49m\u001b[43m \u001b[49m\u001b[38;5;28;43;01mif\u001b[39;49;00m\u001b[43m \u001b[49m\u001b[38;5;129;43;01mnot\u001b[39;49;00m\u001b[43m \u001b[49m\u001b[38;5;28;43mself\u001b[39;49m\u001b[38;5;241;43m.\u001b[39;49m\u001b[43mtraining\u001b[49m\u001b[43m \u001b[49m\u001b[38;5;129;43;01mor\u001b[39;49;00m\u001b[43m \u001b[49m\u001b[38;5;28;43mself\u001b[39;49m\u001b[38;5;241;43m.\u001b[39;49m\u001b[43mtrack_running_stats\u001b[49m\u001b[43m \u001b[49m\u001b[38;5;28;43;01melse\u001b[39;49;00m\u001b[43m \u001b[49m\u001b[38;5;28;43;01mNone\u001b[39;49;00m\u001b[43m,\u001b[49m\n\u001b[1;32m    183\u001b[0m \u001b[43m    \u001b[49m\u001b[38;5;28;43mself\u001b[39;49m\u001b[38;5;241;43m.\u001b[39;49m\u001b[43mweight\u001b[49m\u001b[43m,\u001b[49m\n\u001b[1;32m    184\u001b[0m \u001b[43m    \u001b[49m\u001b[38;5;28;43mself\u001b[39;49m\u001b[38;5;241;43m.\u001b[39;49m\u001b[43mbias\u001b[49m\u001b[43m,\u001b[49m\n\u001b[1;32m    185\u001b[0m \u001b[43m    \u001b[49m\u001b[43mbn_training\u001b[49m\u001b[43m,\u001b[49m\n\u001b[1;32m    186\u001b[0m \u001b[43m    \u001b[49m\u001b[43mexponential_average_factor\u001b[49m\u001b[43m,\u001b[49m\n\u001b[1;32m    187\u001b[0m \u001b[43m    \u001b[49m\u001b[38;5;28;43mself\u001b[39;49m\u001b[38;5;241;43m.\u001b[39;49m\u001b[43meps\u001b[49m\u001b[43m,\u001b[49m\n\u001b[1;32m    188\u001b[0m \u001b[43m\u001b[49m\u001b[43m)\u001b[49m\n",
      "File \u001b[0;32m/opt/conda/lib/python3.11/site-packages/torch/nn/functional.py:2512\u001b[0m, in \u001b[0;36mbatch_norm\u001b[0;34m(input, running_mean, running_var, weight, bias, training, momentum, eps)\u001b[0m\n\u001b[1;32m   2509\u001b[0m \u001b[38;5;28;01mif\u001b[39;00m training:\n\u001b[1;32m   2510\u001b[0m     _verify_batch_size(\u001b[38;5;28minput\u001b[39m\u001b[38;5;241m.\u001b[39msize())\n\u001b[0;32m-> 2512\u001b[0m \u001b[38;5;28;01mreturn\u001b[39;00m \u001b[43mtorch\u001b[49m\u001b[38;5;241;43m.\u001b[39;49m\u001b[43mbatch_norm\u001b[49m\u001b[43m(\u001b[49m\n\u001b[1;32m   2513\u001b[0m \u001b[43m    \u001b[49m\u001b[38;5;28;43minput\u001b[39;49m\u001b[43m,\u001b[49m\u001b[43m \u001b[49m\u001b[43mweight\u001b[49m\u001b[43m,\u001b[49m\u001b[43m \u001b[49m\u001b[43mbias\u001b[49m\u001b[43m,\u001b[49m\u001b[43m \u001b[49m\u001b[43mrunning_mean\u001b[49m\u001b[43m,\u001b[49m\u001b[43m \u001b[49m\u001b[43mrunning_var\u001b[49m\u001b[43m,\u001b[49m\u001b[43m \u001b[49m\u001b[43mtraining\u001b[49m\u001b[43m,\u001b[49m\u001b[43m \u001b[49m\u001b[43mmomentum\u001b[49m\u001b[43m,\u001b[49m\u001b[43m \u001b[49m\u001b[43meps\u001b[49m\u001b[43m,\u001b[49m\u001b[43m \u001b[49m\u001b[43mtorch\u001b[49m\u001b[38;5;241;43m.\u001b[39;49m\u001b[43mbackends\u001b[49m\u001b[38;5;241;43m.\u001b[39;49m\u001b[43mcudnn\u001b[49m\u001b[38;5;241;43m.\u001b[39;49m\u001b[43menabled\u001b[49m\n\u001b[1;32m   2514\u001b[0m \u001b[43m\u001b[49m\u001b[43m)\u001b[49m\n",
      "\u001b[0;31mRuntimeError\u001b[0m: running_mean should contain 5 elements not 256"
     ]
    }
   ],
   "source": [
    "from tasks.state_prediction import eval_state_prediction\n",
    "eval_state_prediction(model,train_data,train_labels,test_data,test_labels,lr=0.001,window_size=args.window_size)"
   ]
  },
  {
   "cell_type": "code",
   "execution_count": null,
   "id": "4eef37f9-d2a1-4b4b-85c0-f020f4e0e366",
   "metadata": {},
   "outputs": [],
   "source": []
  }
 ],
 "metadata": {
  "kernelspec": {
   "display_name": "Python 3 (ipykernel)",
   "language": "python",
   "name": "python3"
  },
  "language_info": {
   "codemirror_mode": {
    "name": "ipython",
    "version": 3
   },
   "file_extension": ".py",
   "mimetype": "text/x-python",
   "name": "python",
   "nbconvert_exporter": "python",
   "pygments_lexer": "ipython3",
   "version": "3.11.11"
  }
 },
 "nbformat": 4,
 "nbformat_minor": 5
}
