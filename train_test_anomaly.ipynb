{
 "cells": [
  {
   "cell_type": "code",
   "execution_count": 13,
   "id": "1e520362-af32-48d5-94ec-d41cd0019a45",
   "metadata": {},
   "outputs": [
    {
     "name": "stdout",
     "output_type": "stream",
     "text": [
      "Requirement already satisfied: einops in /opt/conda/lib/python3.11/site-packages (0.8.1)\n",
      "Requirement already satisfied: bottleneck in /opt/conda/lib/python3.11/site-packages (1.4.2)\n",
      "Requirement already satisfied: numpy in /opt/conda/lib/python3.11/site-packages (from bottleneck) (1.26.4)\n",
      "The autoreload extension is already loaded. To reload it, use:\n",
      "  %reload_ext autoreload\n"
     ]
    }
   ],
   "source": [
    "!pip install einops\n",
    "!pip install bottleneck\n",
    "%load_ext autoreload\n",
    "%autoreload 2\n",
    "\n",
    "import seaborn as sns\n",
    "from dataclasses import dataclass\n",
    "import matplotlib.pyplot as plt\n",
    "\n",
    "import datautils\n",
    "from utils import init_dl_program\n",
    "from hdst import HDST\n",
    "import torch\n",
    "import gc\n",
    "import numpy as np"
   ]
  },
  {
   "cell_type": "markdown",
   "id": "a1f05ed6-5654-439d-b90c-f536b47e49b0",
   "metadata": {},
   "source": [
    "## Create Args Configuration Class"
   ]
  },
  {
   "cell_type": "code",
   "execution_count": 45,
   "id": "1c4a79b0-7b35-4c27-ae92-3b0b8fabc329",
   "metadata": {},
   "outputs": [],
   "source": [
    "@dataclass\n",
    "class Args:\n",
    "    task_weights: dict\n",
    "    dataset: str = \"\"\n",
    "    loader: str = \"\"\n",
    "    gpu: int = 0\n",
    "    static_repr_dims: int = 128\n",
    "    dynamic_repr_dims: int = 128\n",
    "    epochs: int = 200\n",
    "\n",
    "    run_name: str = \"\"\n",
    "    batch_size: int = 32\n",
    "    lr: float = 0.001\n",
    "    max_train_length = 1000\n",
    "    iters: int = None\n",
    "    save_every = None\n",
    "    seed: int = 1234\n",
    "    max_threads = None\n",
    "    eval: bool = True\n",
    "    irregular = 0\n",
    "    mask_mode: str ='all_true'\n",
    "\n",
    "    sample_size: int = 50\n",
    "    window_size: int = 100 # Use None for multi-scale\n",
    "    top_k: int =2 # Use the top k prominent periodicity as time scale. If use sepcified window size, you can set top_k as random number."
   ]
  },
  {
   "cell_type": "markdown",
   "id": "a1bc736c-ca43-4a45-b7b8-d5297b6d74ca",
   "metadata": {},
   "source": [
    "## Instantiate Args Configuration Class\n",
    "Create an instance of arguments, specifying the necessary arguments and those important to your use case."
   ]
  },
  {
   "cell_type": "code",
   "execution_count": 46,
   "id": "51964981-9e2a-4dfa-bbc8-badb1e2ec44c",
   "metadata": {},
   "outputs": [],
   "source": [
    "args = Args(\n",
    "    static_repr_dims=128,\n",
    "    dynamic_repr_dims=128,\n",
    "    task_weights={\n",
    "        'local_static_contrast': 0.33,\n",
    "        'global_vatiant_contrast': 0.33,\n",
    "        'dynamic_trend_pred': 0.34,\n",
    "    },\n",
    "    eval=False)\n",
    "\n",
    "device = init_dl_program(args.gpu, seed=args.seed, max_threads=args.max_threads)"
   ]
  },
  {
   "cell_type": "markdown",
   "id": "ef2757d0-70eb-4625-b386-cf7d380fd4cd",
   "metadata": {},
   "source": [
    "## Load your data\n",
    "Yahoo dataset should be preprocessed using `datasets/preprocess_yahoo.py` and placed at `datasets/yahoo.pkl`."
   ]
  },
  {
   "cell_type": "code",
   "execution_count": 47,
   "id": "a1f56b2e-15a7-44b0-b06b-d7de3c3e2822",
   "metadata": {},
   "outputs": [],
   "source": [
    "# !python datasets/preprocess_yahoo.py --path datasets/ydata-labeled-time-series-anomalies-v1_0"
   ]
  },
  {
   "cell_type": "markdown",
   "id": "8a57ab11-a5dd-4345-9a62-4d964fd443f6",
   "metadata": {},
   "source": [
    "Load yahoo dataset. You can use any data, as long as it is an `np.ndarray` of shape $(N, T, C)$ where $N$ is the number of time-series instances, $T$ the number of timesteps per instance, and $C$ the number of channels."
   ]
  },
  {
   "cell_type": "code",
   "execution_count": 48,
   "id": "dc8966d2-184d-4ae8-a81a-caa095e78025",
   "metadata": {},
   "outputs": [
    {
     "name": "stdout",
     "output_type": "stream",
     "text": [
      "Shapes - train data: (367, 840, 1)\n"
     ]
    }
   ],
   "source": [
    "all_train_data, all_train_labels, all_train_timestamps, all_test_data, all_test_labels, all_test_timestamps, delay = datautils.load_anomaly(\"yahoo\")\n",
    "train_data = datautils.gen_ano_train_data(all_train_data)\n",
    "\n",
    "print(f\"Shapes - train data: {train_data.shape}\")\n",
    "# print(train_data)\n",
    "# import pandas as pd\n",
    "\n",
    "# df = pd.DataFrame(list(all_test_timestamps.items()), columns=[\"Key\", \"Value\"])\n",
    "# print(len(df[\"Value\"]))\n",
    "# print(len(df[\"Value\"].iloc[0]))\n",
    "# df.head()  # show first 5 rows\n"
   ]
  },
  {
   "cell_type": "code",
   "execution_count": 49,
   "id": "35674073-ab0f-4f45-ba82-7762f7d7afa6",
   "metadata": {},
   "outputs": [
    {
     "name": "stdout",
     "output_type": "stream",
     "text": [
      "[280 210 840 168 420]\n"
     ]
    }
   ],
   "source": [
    "from torch.utils.data import TensorDataset, DataLoader\n",
    "from utils import FFT_for_Period\n",
    "train_data_temp = (torch.from_numpy(train_data).to(torch.float))\n",
    "scale_list, scale_weight = FFT_for_Period(train_data_temp, 5)\n",
    "print(scale_list)"
   ]
  },
  {
   "cell_type": "markdown",
   "id": "cc89e316-5120-4e3d-919e-83ab4b27a4dc",
   "metadata": {},
   "source": [
    "## Create and Train the model"
   ]
  },
  {
   "cell_type": "code",
   "execution_count": 50,
   "id": "3e0a080c-c734-4bb7-a33b-13e33253b61a",
   "metadata": {},
   "outputs": [
    {
     "data": {
      "text/plain": [
       "42"
      ]
     },
     "execution_count": 50,
     "metadata": {},
     "output_type": "execute_result"
    }
   ],
   "source": [
    "sns.set_theme()\n",
    "torch.cuda.empty_cache()\n",
    "gc.collect()"
   ]
  },
  {
   "cell_type": "code",
   "execution_count": 51,
   "id": "0ce8c7e4-9a28-40fc-99b7-abc2abc9608f",
   "metadata": {},
   "outputs": [
    {
     "name": "stdout",
     "output_type": "stream",
     "text": [
      "Training data shape: (367, 840, 1)\n",
      "Epoch #0: loss=2.572223576632413\n",
      "Epoch #1: loss=2.4219123016704214\n",
      "Epoch #2: loss=2.402378472414884\n",
      "Epoch #3: loss=2.3608820871873335\n",
      "Epoch #4: loss=2.2736124992370605\n",
      "Epoch #5: loss=2.1994072523984043\n",
      "Epoch #6: loss=2.140219948508523\n",
      "Epoch #7: loss=2.1719289909709585\n",
      "Epoch #8: loss=2.1156145442615855\n",
      "Epoch #9: loss=2.2292354757135566\n",
      "Epoch #10: loss=2.1793833645907315\n",
      "Epoch #11: loss=2.123708898370916\n",
      "Epoch #12: loss=2.0593911084261807\n",
      "Epoch #13: loss=2.070146018808538\n",
      "Epoch #14: loss=1.9641842191869563\n",
      "Epoch #15: loss=1.890729091384194\n",
      "Epoch #16: loss=1.8190128478136929\n",
      "Epoch #17: loss=1.747729854150252\n",
      "Epoch #18: loss=1.6999890912662854\n",
      "Epoch #19: loss=1.656788175756281\n",
      "Epoch #20: loss=1.6148163188587537\n",
      "Epoch #21: loss=1.6089576482772827\n",
      "Epoch #22: loss=1.542246233333241\n",
      "Epoch #23: loss=1.4836089936169712\n",
      "Epoch #24: loss=1.428370248187672\n",
      "Epoch #25: loss=1.3935690793124111\n",
      "Epoch #26: loss=1.3663249232552268\n",
      "Epoch #27: loss=1.2810683900659734\n",
      "Epoch #28: loss=1.2393758730454878\n",
      "Epoch #29: loss=1.190332445231351\n",
      "Epoch #30: loss=1.1519540548324585\n",
      "Epoch #31: loss=1.1118649515238674\n",
      "Epoch #32: loss=1.048547316681255\n",
      "Epoch #33: loss=1.0015909509225325\n",
      "Epoch #34: loss=1.031003551049666\n",
      "Epoch #35: loss=0.9858147935433821\n",
      "Epoch #36: loss=0.9179967696016486\n",
      "Epoch #37: loss=0.9839104847474531\n",
      "Epoch #38: loss=0.9750564098358154\n",
      "Epoch #39: loss=0.9688497510823336\n",
      "Epoch #40: loss=0.8858177120035345\n",
      "Epoch #41: loss=0.8326168656349182\n",
      "Epoch #42: loss=0.7988899350166321\n",
      "Epoch #43: loss=0.8234656182202426\n",
      "Epoch #44: loss=0.7890883684158325\n",
      "Epoch #45: loss=0.7716965079307556\n",
      "Epoch #46: loss=0.7709288001060486\n",
      "Epoch #47: loss=0.7510255195877769\n",
      "Epoch #48: loss=0.7552566961808638\n",
      "Epoch #49: loss=0.7186800024726174\n",
      "Epoch #50: loss=0.7086003585295244\n",
      "Epoch #51: loss=0.715180136940696\n",
      "Epoch #52: loss=0.7181183262304827\n",
      "Epoch #53: loss=0.706669650294564\n",
      "Epoch #54: loss=0.6828616694970564\n",
      "Epoch #55: loss=0.6730832945216786\n",
      "Epoch #56: loss=0.6776947595856406\n",
      "Epoch #57: loss=0.654792769388719\n",
      "Epoch #58: loss=0.661198995330117\n",
      "Epoch #59: loss=0.669652825052088\n",
      "Epoch #60: loss=0.6519584168087352\n",
      "Epoch #61: loss=0.6333658749406988\n",
      "Epoch #62: loss=0.6577716523950751\n",
      "Epoch #63: loss=0.6407588937065818\n",
      "Epoch #64: loss=0.6283429915254767\n",
      "Epoch #65: loss=0.6272641582922502\n",
      "Epoch #66: loss=0.6098289923234419\n",
      "Epoch #67: loss=0.59997404163534\n",
      "Epoch #68: loss=0.591066300868988\n",
      "Epoch #69: loss=0.5802649720148607\n",
      "Epoch #70: loss=0.575789830901406\n",
      "Epoch #71: loss=0.5665464509617198\n",
      "Epoch #72: loss=0.561145153912631\n",
      "Epoch #73: loss=0.5664923516186801\n",
      "Epoch #74: loss=0.5581358237700029\n",
      "Epoch #75: loss=0.5343111021952196\n",
      "Epoch #76: loss=0.5249424170364033\n",
      "Epoch #77: loss=0.5233101600950415\n",
      "Epoch #78: loss=0.5314618294889276\n",
      "Epoch #79: loss=0.5059341192245483\n",
      "Epoch #80: loss=0.49954811009493744\n",
      "Epoch #81: loss=0.5168993987820365\n",
      "Epoch #82: loss=0.514579407193444\n",
      "Epoch #83: loss=0.5155776928771626\n",
      "Epoch #84: loss=0.48836334997957404\n",
      "Epoch #85: loss=0.5197739709507335\n",
      "Epoch #86: loss=0.5021289045160467\n",
      "Epoch #87: loss=0.4675167582251809\n",
      "Epoch #88: loss=0.4813251928849654\n",
      "Epoch #89: loss=0.461708892475475\n",
      "Epoch #90: loss=0.48537940057841217\n",
      "Epoch #91: loss=0.4586673812432723\n",
      "Epoch #92: loss=0.4838123538277366\n",
      "Epoch #93: loss=0.44683790748769586\n",
      "Epoch #94: loss=0.43633615699681366\n",
      "Epoch #95: loss=0.45633541724898596\n",
      "Epoch #96: loss=0.4450525316325101\n",
      "Epoch #97: loss=0.46043218265880237\n",
      "Epoch #98: loss=0.4553063836964694\n",
      "Epoch #99: loss=0.4378456933931871\n",
      "Epoch #100: loss=0.44899848103523254\n",
      "Epoch #101: loss=0.4265616102652116\n",
      "Epoch #102: loss=0.4475724832578139\n",
      "Epoch #103: loss=0.4288428181951696\n",
      "Epoch #104: loss=0.46071759137240326\n",
      "Epoch #105: loss=0.46306648037650366\n",
      "Epoch #106: loss=0.44652428139339795\n",
      "Epoch #107: loss=0.42077151753685693\n",
      "Epoch #108: loss=0.4084746160290458\n",
      "Epoch #109: loss=0.4093690352006392\n",
      "Epoch #110: loss=0.4082829627123746\n",
      "Epoch #111: loss=0.41214909607713873\n",
      "Epoch #112: loss=0.40856908668171277\n",
      "Epoch #113: loss=0.4099955342032693\n",
      "Epoch #114: loss=0.3861599401994185\n",
      "Epoch #115: loss=0.405604516918009\n",
      "Epoch #116: loss=0.40173871137879114\n",
      "Epoch #117: loss=0.3941973664543845\n",
      "Epoch #118: loss=0.36512705954638397\n",
      "Epoch #119: loss=0.39838947491212323\n",
      "Epoch #120: loss=0.38425696708939294\n",
      "Epoch #121: loss=0.3968647826801647\n",
      "Epoch #122: loss=0.4146612665869973\n",
      "Epoch #123: loss=0.4110494743693959\n",
      "Epoch #124: loss=0.3848297054117376\n",
      "Epoch #125: loss=0.40067995949224994\n",
      "Epoch #126: loss=0.39500682191415265\n",
      "Epoch #127: loss=0.3800163133577867\n",
      "Epoch #128: loss=0.3905767960981889\n",
      "Epoch #129: loss=0.38540123267607257\n",
      "Epoch #130: loss=0.39077700539068744\n",
      "Epoch #131: loss=0.3832125257362019\n",
      "Epoch #132: loss=0.3744261481545188\n",
      "Epoch #133: loss=0.35902819579297846\n",
      "Epoch #134: loss=0.3549268841743469\n",
      "Epoch #135: loss=0.36593041907657275\n",
      "Epoch #136: loss=0.34286325628107245\n",
      "Epoch #137: loss=0.3389503901655024\n",
      "Epoch #138: loss=0.35158197446302936\n",
      "Epoch #139: loss=0.33888887004418805\n",
      "Epoch #140: loss=0.3396529961716045\n",
      "Epoch #141: loss=0.33207072723995557\n",
      "Epoch #142: loss=0.34938555684956635\n",
      "Epoch #143: loss=0.34426442059603607\n",
      "Epoch #144: loss=0.34555699066682294\n",
      "Epoch #145: loss=0.3407440646128221\n",
      "Epoch #146: loss=0.34577914530580695\n",
      "Epoch #147: loss=0.34093207120895386\n",
      "Epoch #148: loss=0.3400457365946336\n",
      "Epoch #149: loss=0.33172688430005853\n",
      "Epoch #150: loss=0.3379520123655146\n",
      "Epoch #151: loss=0.3323596038601615\n",
      "Epoch #152: loss=0.32838055762377655\n",
      "Epoch #153: loss=0.3221225521781228\n",
      "Epoch #154: loss=0.3207286677577279\n",
      "Epoch #155: loss=0.31629492207006976\n",
      "Epoch #156: loss=0.31344132260842755\n",
      "Epoch #157: loss=0.3255179605700753\n",
      "Epoch #158: loss=0.31308419596065173\n",
      "Epoch #159: loss=0.3022220053456046\n",
      "Epoch #160: loss=0.3140453804622997\n",
      "Epoch #161: loss=0.2856738878922029\n",
      "Epoch #162: loss=0.3101468871940266\n",
      "Epoch #163: loss=0.31067556413737213\n",
      "Epoch #164: loss=0.33087624474005267\n",
      "Epoch #165: loss=0.31484404477206146\n",
      "Epoch #166: loss=0.3306320607662201\n",
      "Epoch #167: loss=0.30825071985071356\n",
      "Epoch #168: loss=0.30543347651308234\n",
      "Epoch #169: loss=0.31931147521192377\n",
      "Epoch #170: loss=0.3057777800343253\n",
      "Epoch #171: loss=0.30038539523428137\n",
      "Epoch #172: loss=0.3073401843959635\n",
      "Epoch #173: loss=0.3200955363837155\n",
      "Epoch #174: loss=0.31420293179425324\n",
      "Epoch #175: loss=0.2888917191462083\n",
      "Epoch #176: loss=0.29850539429621264\n",
      "Epoch #177: loss=0.30001170662316407\n",
      "Epoch #178: loss=0.29122723639011383\n",
      "Epoch #179: loss=0.28717525980689307\n",
      "Epoch #180: loss=0.2885890007019043\n",
      "Epoch #181: loss=0.29009696028449317\n",
      "Epoch #182: loss=0.28792612796480005\n",
      "Epoch #183: loss=0.2813864038749175\n",
      "Epoch #184: loss=0.3330789262598211\n",
      "Epoch #185: loss=0.29893209717490454\n",
      "Epoch #186: loss=0.29013796286149457\n",
      "Epoch #187: loss=0.2875811660831625\n",
      "Epoch #188: loss=0.2843346324833957\n",
      "Epoch #189: loss=0.2967383482239463\n",
      "Epoch #190: loss=0.3036668842489069\n",
      "Epoch #191: loss=0.29223432866009796\n",
      "Epoch #192: loss=0.2807849090207707\n",
      "Epoch #193: loss=0.29297049614516174\n",
      "Epoch #194: loss=0.2838838073340329\n",
      "Epoch #195: loss=0.2768399268388748\n",
      "Epoch #196: loss=0.2898075986992229\n",
      "Epoch #197: loss=0.2690236351706765\n",
      "Epoch #198: loss=0.28019998561252246\n",
      "Epoch #199: loss=0.27113309367136523\n",
      "Model training time: 2170.05 seconds\n"
     ]
    }
   ],
   "source": [
    "import time\n",
    "start_time = time.time()\n",
    "model = HDST(\n",
    "    input_dims=train_data.shape[-1],\n",
    "    device=device,\n",
    "    task_weights=args.task_weights,\n",
    "    batch_size=args.batch_size,\n",
    "    lr=args.lr,\n",
    "    output_dims1=args.static_repr_dims,\n",
    "    output_dims2=args.dynamic_repr_dims,\n",
    "    max_train_length=args.max_train_length,\n",
    "    mask_mode=args.mask_mode\n",
    ")\n",
    "\n",
    "loss_log = model.fit(\n",
    "    train_data,\n",
    "    n_epochs=args.epochs,\n",
    "    n_iters=args.iters,\n",
    "    k=args.sample_size,\n",
    "    w=args.window_size,\n",
    "    top_k=args.top_k\n",
    ")\n",
    "end_time = time.time()\n",
    "training_time = end_time - start_time\n",
    "print(f\"Model training time: {training_time:.2f} seconds\")"
   ]
  },
  {
   "cell_type": "markdown",
   "id": "b2801942-d5d0-47a1-9f33-f82006f12425",
   "metadata": {},
   "source": [
    "Save model and loss log"
   ]
  },
  {
   "cell_type": "code",
   "execution_count": 52,
   "id": "3ee8e10d-aead-4107-ab00-6b34690ca303",
   "metadata": {},
   "outputs": [],
   "source": [
    "import torch\n",
    "# torch.save(model, 'logs/mymodel_yahoo.pth')\n",
    "import pandas as pd\n",
    "df = pd.DataFrame({\"epoch\": list(range(1, len(loss_log) + 1)), \"loss\": loss_log})\n",
    "df.to_csv(\"logs/loss_log_yahoo.csv\", index=False)"
   ]
  },
  {
   "cell_type": "markdown",
   "id": "2b646a4b-0291-49df-a19b-aa40b4549e5d",
   "metadata": {},
   "source": [
    "Visualize the loss curve and save figure"
   ]
  },
  {
   "cell_type": "code",
   "execution_count": 53,
   "id": "5a97b47a-04d8-45e0-969e-f74ac670576d",
   "metadata": {},
   "outputs": [
    {
     "data": {
      "image/png": "[encoded data removed]",
      "text/plain": [
       "<Figure size 640x480 with 1 Axes>"
      ]
     },
     "metadata": {},
     "output_type": "display_data"
    }
   ],
   "source": [
    "import matplotlib.pyplot as plt\n",
    "# print(loss_log)\n",
    "plt.plot(loss_log, label=\"Loss\")\n",
    "plt.xlabel(\"Epoch\")\n",
    "plt.ylabel(\"Loss\")\n",
    "plt.title(\"Training Loss Curve\")\n",
    "plt.legend()\n",
    "plt.grid(True)\n",
    "plt.savefig(\"loss_curve.png\")\n",
    "plt.show()"
   ]
  },
  {
   "cell_type": "markdown",
   "id": "6bc062a5-48c4-4671-b78d-0dc8d4420c77",
   "metadata": {},
   "source": [
    "## Test the model\n",
    "Firstly, get the representation of training data and test data using `model.encode`. Then train a Ridge regression model using training representation and corresponding training labels. Finally, use the Ridge regression model to do forecasting for test representation. Report the MSE and MAE."
   ]
  },
  {
   "cell_type": "code",
   "execution_count": 54,
   "id": "22bba3a8-aa7a-4566-8a39-01abb8bbd31a",
   "metadata": {},
   "outputs": [
    {
     "name": "stdout",
     "output_type": "stream",
     "text": [
      "Encoding representations with mask...\n",
      "Encoding representations without mask...\n",
      "Done\n",
      "Computing anomalies\n",
      "Done! Execution time: 264.7914252281189\n"
     ]
    }
   ],
   "source": [
    "from tasks.anomaly_detection import eval_anomaly_detection\n",
    "out, eval_res = eval_anomaly_detection(\n",
    "                model,\n",
    "                all_train_data,\n",
    "                all_train_labels,\n",
    "                all_train_timestamps,\n",
    "                all_test_data,\n",
    "                all_test_labels,\n",
    "                all_test_timestamps,\n",
    "                delay, verbose=True\n",
    "            )"
   ]
  },
  {
   "cell_type": "code",
   "execution_count": 55,
   "id": "2c03bb04-c52d-44f4-90a6-7a895cd4c3f0",
   "metadata": {},
   "outputs": [
    {
     "data": {
      "text/plain": [
       "{'f1': 0.5127776849841322,\n",
       " 'precision': 0.4500146584579302,\n",
       " 'recall': 0.5958850931677019,\n",
       " 'infer_time': 264.7914252281189}"
      ]
     },
     "execution_count": 55,
     "metadata": {},
     "output_type": "execute_result"
    }
   ],
   "source": [
    "eval_res"
   ]
  },
  {
   "cell_type": "code",
   "execution_count": null,
   "id": "0ee917a4-88b5-4147-bdc5-fcd0225d7d7a",
   "metadata": {},
   "outputs": [],
   "source": []
  }
 ],
 "metadata": {
  "kernelspec": {
   "display_name": "Python 3 (ipykernel)",
   "language": "python",
   "name": "python3"
  },
  "language_info": {
   "codemirror_mode": {
    "name": "ipython",
    "version": 3
   },
   "file_extension": ".py",
   "mimetype": "text/x-python",
   "name": "python",
   "nbconvert_exporter": "python",
   "pygments_lexer": "ipython3",
   "version": "3.11.11"
  }
 },
 "nbformat": 4,
 "nbformat_minor": 5
}
