{
 "cells": [
  {
   "cell_type": "code",
   "execution_count": 21,
   "id": "1e520362-af32-48d5-94ec-d41cd0019a45",
   "metadata": {},
   "outputs": [
    {
     "name": "stdout",
     "output_type": "stream",
     "text": [
      "Requirement already satisfied: einops in /opt/conda/lib/python3.12/site-packages (0.8.1)\n",
      "Requirement already satisfied: tslearn in /opt/conda/lib/python3.12/site-packages (0.6.3)\n",
      "Requirement already satisfied: numpy in /opt/conda/lib/python3.12/site-packages (from tslearn) (1.26.4)\n",
      "Requirement already satisfied: scipy in /opt/conda/lib/python3.12/site-packages (from tslearn) (1.15.2)\n",
      "Requirement already satisfied: scikit-learn in /opt/conda/lib/python3.12/site-packages (from tslearn) (1.5.2)\n",
      "Requirement already satisfied: numba in /opt/conda/lib/python3.12/site-packages (from tslearn) (0.61.2)\n",
      "Requirement already satisfied: joblib in /opt/conda/lib/python3.12/site-packages (from tslearn) (1.5.0)\n",
      "Requirement already satisfied: llvmlite<0.45,>=0.44.0dev0 in /opt/conda/lib/python3.12/site-packages (from numba->tslearn) (0.44.0)\n",
      "Requirement already satisfied: threadpoolctl>=3.1.0 in /opt/conda/lib/python3.12/site-packages (from scikit-learn->tslearn) (3.6.0)\n",
      "The autoreload extension is already loaded. To reload it, use:\n",
      "  %reload_ext autoreload\n"
     ]
    }
   ],
   "source": [
    "!pip install einops\n",
    "!pip install tslearn\n",
    "%load_ext autoreload\n",
    "%autoreload 2\n",
    "\n",
    "import seaborn as sns\n",
    "# from dataclasses import dataclass\n",
    "from dataclasses import dataclass, field\n",
    "import matplotlib.pyplot as plt\n",
    "\n",
    "import datautils\n",
    "from utils import init_dl_program\n",
    "from hdst import HDST\n",
    "import torch\n",
    "import gc\n",
    "import numpy as np"
   ]
  },
  {
   "cell_type": "markdown",
   "id": "a1f05ed6-5654-439d-b90c-f536b47e49b0",
   "metadata": {},
   "source": [
    "## Create Args Configuration Class"
   ]
  },
  {
   "cell_type": "code",
   "execution_count": 22,
   "id": "af8d59d2-5f8f-4473-a0d7-eddf3b4943f8",
   "metadata": {},
   "outputs": [],
   "source": [
    "@dataclass\n",
    "class Args:\n",
    "    task_weights: dict\n",
    "    dataset: str = \"\"\n",
    "    loader: str = \"\"\n",
    "    gpu: int = 0\n",
    "    static_repr_dims: int = 128\n",
    "    dynamic_repr_dims: int = 128\n",
    "    epochs: int = 200\n",
    "\n",
    "    run_name: str = \"\"\n",
    "    batch_size: int = 128\n",
    "    lr: float = 0.0005\n",
    "    max_train_length = 800\n",
    "    iters: int = None\n",
    "    save_every = None\n",
    "    seed: int = 1234\n",
    "    max_threads = None\n",
    "    eval: bool = True\n",
    "    irregular = 0\n",
    "\n",
    "    sample_size: int = 20\n",
    "    # window_size: int = 10\n",
    "    window_size: str = \"Auto\"\n",
    "    # window_size: list = field(default_factory=lambda: [20, 100, 200])\n",
    "    distance: str = \"mcc\"\n",
    "    top_k: int =3 # Use the top k prominent periodicity as time scale. If use sepcified window size, you can set top_k as random number."
   ]
  },
  {
   "cell_type": "markdown",
   "id": "a1bc736c-ca43-4a45-b7b8-d5297b6d74ca",
   "metadata": {},
   "source": [
    "## Instantiate Args Configuration Class\n",
    "Create an instance of arguments, specifying the necessary arguments and those important to your use case."
   ]
  },
  {
   "cell_type": "code",
   "execution_count": 23,
   "id": "51964981-9e2a-4dfa-bbc8-badb1e2ec44c",
   "metadata": {},
   "outputs": [],
   "source": [
    "args = Args(\n",
    "    static_repr_dims=128,\n",
    "    dynamic_repr_dims=128,\n",
    "    task_weights={\n",
    "        'local_static_contrast': 0.9,\n",
    "        'global_vatiant_contrast': 0.0,\n",
    "        'dynamic_trend_pred': 0.1,\n",
    "    },\n",
    "    eval=False\n",
    ")\n",
    "\n",
    "device = init_dl_program(args.gpu, seed=args.seed, max_threads=args.max_threads)\n",
    "import os\n",
    "# os.environ['CUDA_LAUNCH_BLOCKING'] = \"1\"\n",
    "# device=\"cpu\""
   ]
  },
  {
   "cell_type": "markdown",
   "id": "ef2757d0-70eb-4625-b386-cf7d380fd4cd",
   "metadata": {},
   "source": [
    "## Load your data\n",
    "You can use any data, as long as it is an `np.ndarray` of shape $(N, T, C)$ where $N$ is the number of time-series instances, $T$ the number of timesteps per instance, and $C$ the number of channels.\n",
    "Choosing from 'ETTh1', 'ETTh2', 'ETTm1' and 'ETTm2'"
   ]
  },
  {
   "cell_type": "code",
   "execution_count": 24,
   "id": "dc8966d2-184d-4ae8-a81a-caa095e78025",
   "metadata": {},
   "outputs": [
    {
     "name": "stdout",
     "output_type": "stream",
     "text": [
      "Shapes - train data: (321, 2901, 1), test data: (321, 967, 1)\n",
      "Shapes - train tmp: (321, 2901, 5), test tmp: (321, 967, 5)\n",
      "Shapes - train all: (321, 2901, 6), test all: (321, 967, 6)\n",
      "Shapes - data all: (321, 4835, 6)\n",
      "[24, 48, 168, 336, 720]\n",
      "1\n",
      "931221\n"
     ]
    }
   ],
   "source": [
    "data, train_slice, valid_slice, test_slice, scaler, pred_lens, tmp_stamp = datautils.load_forecast_csv(\"electricity\")\n",
    "# print(data.shape)\n",
    "# print(tmp_stamp.shape)\n",
    "train_data = data[:, train_slice]\n",
    "test_data = data[:, test_slice]\n",
    "train_tmp = tmp_stamp[train_slice,:]\n",
    "test_tmp = tmp_stamp[test_slice,:]\n",
    "# train_tmp=np.expand_dims(train_tmp, axis=0)\n",
    "# test_tmp=np.expand_dims(test_tmp, axis=0)\n",
    "# tmp_stamp=np.expand_dims(tmp_stamp, axis=0)\n",
    "train_tmp = np.broadcast_to(train_tmp[None, :, :], (train_data.shape[0], train_data.shape[1], train_tmp.shape[1]))\n",
    "test_tmp = np.broadcast_to(test_tmp[None, :, :], (test_data.shape[0], test_data.shape[1], test_tmp.shape[1]))\n",
    "tmp_stamp = np.broadcast_to(tmp_stamp[None, :, :], (data.shape[0], data.shape[1], tmp_stamp.shape[1]))\n",
    "\n",
    "n_channels=train_data.shape[2]\n",
    "print(f\"Shapes - train data: {train_data.shape}, test data: {test_data.shape}\")\n",
    "print(f\"Shapes - train tmp: {train_tmp.shape}, test tmp: {test_tmp.shape}\")\n",
    "train_all=np.concatenate((train_data,train_tmp),axis=2)\n",
    "test_all=np.concatenate((test_data,test_tmp),axis=2)\n",
    "data_all=np.concatenate((data,tmp_stamp),axis=2)\n",
    "print(f\"Shapes - train all: {train_all.shape}, test all: {test_all.shape}\")\n",
    "print(f\"Shapes - data all: {data_all.shape}\")\n",
    "print(pred_lens)\n",
    "print(n_channels)\n",
    "print(train_data.size)"
   ]
  },
  {
   "cell_type": "code",
   "execution_count": 25,
   "id": "ff056654-aebc-4af3-b55a-0c75df0bebc9",
   "metadata": {},
   "outputs": [
    {
     "name": "stdout",
     "output_type": "stream",
     "text": [
      "[23, 11, 2901, 12, 24]\n"
     ]
    }
   ],
   "source": [
    "from torch.utils.data import TensorDataset, DataLoader\n",
    "from utils import FFT_for_Period\n",
    "train_data_temp = (torch.from_numpy(train_data).to(torch.float))\n",
    "scale_list, scale_weight = FFT_for_Period(train_data_temp, 5)\n",
    "print(scale_list)"
   ]
  },
  {
   "cell_type": "markdown",
   "id": "cc89e316-5120-4e3d-919e-83ab4b27a4dc",
   "metadata": {},
   "source": [
    "## Create and Train the model"
   ]
  },
  {
   "cell_type": "code",
   "execution_count": 26,
   "id": "4bcc41cd-ea65-4915-96e0-310c4a0c2bf3",
   "metadata": {},
   "outputs": [
    {
     "data": {
      "text/plain": [
       "3737"
      ]
     },
     "execution_count": 26,
     "metadata": {},
     "output_type": "execute_result"
    }
   ],
   "source": [
    "sns.set_theme()\n",
    "torch.cuda.empty_cache()\n",
    "gc.collect()"
   ]
  },
  {
   "cell_type": "code",
   "execution_count": null,
   "id": "3e0a080c-c734-4bb7-a33b-13e33253b61a",
   "metadata": {},
   "outputs": [],
   "source": []
  },
  {
   "cell_type": "code",
   "execution_count": 27,
   "id": "54a16fd2-c714-45f2-9009-361bd2978e56",
   "metadata": {},
   "outputs": [
    {
     "name": "stdout",
     "output_type": "stream",
     "text": [
      "Training data shape: (963, 967, 1)\n",
      "Scale list: [24, 23, 11]\n"
     ]
    },
    {
     "name": "stderr",
     "output_type": "stream",
     "text": [
      "Training: 100%|██████████| 200/200 [23:44<00:00,  7.12s/it, epoch=200, loss=0.572]"
     ]
    },
    {
     "name": "stdout",
     "output_type": "stream",
     "text": [
      "Model training time: 1424.72 seconds\n"
     ]
    },
    {
     "name": "stderr",
     "output_type": "stream",
     "text": [
      "\n"
     ]
    }
   ],
   "source": [
    "import time\n",
    "import os\n",
    "# os.environ['CUDA_LAUNCH_BLOCKING'] = \"1\"\n",
    "\n",
    "start_time = time.time()\n",
    "model = HDST(\n",
    "    input_dims=train_data.shape[-1],\n",
    "    device=device,\n",
    "    task_weights=args.task_weights,\n",
    "    batch_size=args.batch_size,\n",
    "    lr=args.lr,\n",
    "    output_dims1=args.static_repr_dims,\n",
    "    output_dims2=args.dynamic_repr_dims,\n",
    "    max_train_length=args.max_train_length\n",
    ")\n",
    "\n",
    "loss_log = model.fit(\n",
    "    train_all,\n",
    "    n_epochs=args.epochs,\n",
    "    n_iters=args.iters,\n",
    "    k=args.sample_size,\n",
    "    w=args.window_size,\n",
    "    distance=args.distance,\n",
    "    top_k=args.top_k,\n",
    "    n_channels=n_channels\n",
    ")\n",
    "end_time = time.time()\n",
    "training_time = end_time - start_time\n",
    "print(f\"Model training time: {training_time:.2f} seconds\")"
   ]
  },
  {
   "cell_type": "markdown",
   "id": "b2801942-d5d0-47a1-9f33-f82006f12425",
   "metadata": {},
   "source": [
    "Save model and loss log"
   ]
  },
  {
   "cell_type": "code",
   "execution_count": 28,
   "id": "3ee8e10d-aead-4107-ab00-6b34690ca303",
   "metadata": {},
   "outputs": [],
   "source": [
    "# import torch\n",
    "# torch.save(model, 'logs/mymodel_ETTm1.pth')\n",
    "# import pandas as pd\n",
    "# df = pd.DataFrame({\"epoch\": list(range(1, len(loss_log) + 1)), \"loss\": loss_log})\n",
    "# df.to_csv(\"logs/loss_log_ETTm1.csv\", index=False)"
   ]
  },
  {
   "cell_type": "markdown",
   "id": "2b646a4b-0291-49df-a19b-aa40b4549e5d",
   "metadata": {},
   "source": [
    "Visualize the loss curve and save figure"
   ]
  },
  {
   "cell_type": "code",
   "execution_count": 29,
   "id": "5a97b47a-04d8-45e0-969e-f74ac670576d",
   "metadata": {},
   "outputs": [
    {
     "data": {
      "image/png": "[encoded data removed]",
      "text/plain": [
       "<Figure size 640x480 with 1 Axes>"
      ]
     },
     "metadata": {},
     "output_type": "display_data"
    }
   ],
   "source": [
    "import matplotlib.pyplot as plt\n",
    "# print(loss_log)\n",
    "plt.plot(loss_log, label=\"Loss\")\n",
    "plt.xlabel(\"Epoch\")\n",
    "plt.ylabel(\"Loss\")\n",
    "plt.title(\"Training Loss Curve\")\n",
    "plt.legend()\n",
    "plt.grid(True)\n",
    "plt.savefig(\"loss_curve.png\")\n",
    "plt.show()"
   ]
  },
  {
   "cell_type": "markdown",
   "id": "6bc062a5-48c4-4671-b78d-0dc8d4420c77",
   "metadata": {},
   "source": [
    "## Test the model\n",
    "Firstly, get the representation of training data and test data using `model.encode`. Then train a Ridge regression model using training representation and corresponding training labels. Finally, use the Ridge regression model to do forecasting for test representation. Report the MSE and MAE."
   ]
  },
  {
   "cell_type": "code",
   "execution_count": 30,
   "id": "22bba3a8-aa7a-4566-8a39-01abb8bbd31a",
   "metadata": {},
   "outputs": [
    {
     "name": "stdout",
     "output_type": "stream",
     "text": [
      "24: {'norm': {'MSE': 0.43078138454276305, 'MAE': 0.4150053844658276}, 'raw': {'MSE': 68372584.93972926, 'MAE': 627.4857602257945}}\n",
      "48: {'norm': {'MSE': 0.45266262355847386, 'MAE': 0.4312434810553956}, 'raw': {'MSE': 66299512.84948175, 'MAE': 633.4559493482835}}\n",
      "168: {'norm': {'MSE': 0.5530106317496326, 'MAE': 0.4633402324070959}, 'raw': {'MSE': 80679961.26772563, 'MAE': 683.5766643038401}}\n",
      "336: {'norm': {'MSE': 0.6126475223260726, 'MAE': 0.4917231267565877}, 'raw': {'MSE': 92490359.48653834, 'MAE': 732.376034411114}}\n",
      "720: {'norm': {'MSE': 0.7426678409071649, 'MAE': 0.5431180712788016}, 'raw': {'MSE': 107079091.51347888, 'MAE': 786.3963881369361}}\n"
     ]
    }
   ],
   "source": [
    "from tasks.forecasting import eval_forecasting\n",
    "out, eval_res = eval_forecasting(\n",
    "                model,\n",
    "                data_all,\n",
    "                n_channels,\n",
    "                train_slice,\n",
    "                valid_slice,\n",
    "                test_slice,\n",
    "                scaler,\n",
    "                pred_lens\n",
    "            )\n",
    "res=eval_res['ours']\n",
    "for key, value in res.items():\n",
    "    print(f\"{key}: {value}\")\n"
   ]
  },
  {
   "cell_type": "code",
   "execution_count": null,
   "id": "0ee917a4-88b5-4147-bdc5-fcd0225d7d7a",
   "metadata": {},
   "outputs": [],
   "source": []
  },
  {
   "cell_type": "code",
   "execution_count": null,
   "id": "14447ace-f319-486a-8152-f8ccb5ceddf6",
   "metadata": {},
   "outputs": [],
   "source": []
  },
  {
   "cell_type": "code",
   "execution_count": null,
   "id": "f4bf6e89-8a05-487d-8f58-dcdb405d3f33",
   "metadata": {},
   "outputs": [],
   "source": []
  },
  {
   "cell_type": "code",
   "execution_count": null,
   "id": "93cda54f-8a5c-4380-93e2-39a726faafd9",
   "metadata": {},
   "outputs": [],
   "source": []
  }
 ],
 "metadata": {
  "kernelspec": {
   "display_name": "Python 3 (ipykernel)",
   "language": "python",
   "name": "python3"
  },
  "language_info": {
   "codemirror_mode": {
    "name": "ipython",
    "version": 3
   },
   "file_extension": ".py",
   "mimetype": "text/x-python",
   "name": "python",
   "nbconvert_exporter": "python",
   "pygments_lexer": "ipython3",
   "version": "3.12.9"
  }
 },
 "nbformat": 4,
 "nbformat_minor": 5
}
